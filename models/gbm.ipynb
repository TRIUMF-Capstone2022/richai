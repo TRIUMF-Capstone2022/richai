{
 "cells": [
  {
   "cell_type": "markdown",
   "id": "7994a535",
   "metadata": {
    "slideshow": {
     "slide_type": "slide"
    }
   },
   "source": [
    "# Training model with Gradient Boosted Trees (LightGBM)"
   ]
  },
  {
   "cell_type": "markdown",
   "id": "60d42241",
   "metadata": {
    "slideshow": {
     "slide_type": "fragment"
    }
   },
   "source": [
    "## Workflow:\n",
    " - Loading Data\n",
    " - Data cleaning\n",
    " - Dataset preparation and selected features\n",
    " - LightGBM \n",
    "     - model parameters\n",
    "     - Results on Sub-sampled data with LightGBM model\n",
    " - Results on Sub-sampled data with XGBoost model\n",
    "     - model parameters\n",
    "     - Results on Sub-sampled data with XGBoost model\n",
    " - To do:\n",
    "     - Scaling and optimisation with full load\n",
    "     - Modularization"
   ]
  },
  {
   "cell_type": "code",
   "execution_count": 99,
   "id": "6d648caa",
   "metadata": {
    "slideshow": {
     "slide_type": "skip"
    }
   },
   "outputs": [],
   "source": [
    "import pandas as pd\n",
    "import numpy as np\n",
    "from sklearn import preprocessing\n",
    "from sklearn.metrics import confusion_matrix, classification_report\n",
    "from sklearn.model_selection import train_test_split\n",
    "import lightgbm as lgb\n",
    "import h5py \n",
    "import os\n",
    "import seaborn as sns\n",
    "import matplotlib.pyplot as plt\n",
    "import sys\n",
    "import glob\n",
    "from lightgbm.sklearn import LGBMClassifier\n",
    "from sklearn.ensemble import AdaBoostClassifier\n",
    "from xgboost import XGBClassifier\n",
    "from collections import defaultdict"
   ]
  },
  {
   "cell_type": "code",
   "execution_count": 3,
   "id": "0f0055a7",
   "metadata": {
    "slideshow": {
     "slide_type": "skip"
    }
   },
   "outputs": [],
   "source": [
    "def read_RICHAI_data(file_paths):\n",
    "    \"\"\"Read in all the 2018 RICHAI data\n",
    "    \n",
    "    Parameters\n",
    "    ----------\n",
    "    file_paths : list of str\n",
    "        List of file paths of all data sets.\n",
    "        \n",
    "    Returns\n",
    "    -------\n",
    "    data_files : dict\n",
    "        Dictionary of HFD data sets     \n",
    "    \"\"\"\n",
    "    data_files = {}\n",
    "    for file_path in file_paths:\n",
    "        name = file_path.split(\"/\")[4] + \"/\" + file_path.split(\"/\")[5].split(\".\")[0]\n",
    "        data_files[name] = h5py.File(file_path)\n",
    "    \n",
    "    return data_files"
   ]
  },
  {
   "cell_type": "code",
   "execution_count": 4,
   "id": "fe5cb7bb",
   "metadata": {},
   "outputs": [],
   "source": [
    "def events_to_pandas(dfile):\n",
    "    \"\"\"Convert HDF5 events data to Pandas\n",
    "    \n",
    "    Parameters\n",
    "    ----------\n",
    "    dfile : HDF5 file\n",
    "        The RICHAI HDF5 file to convert to pandas.\n",
    "        \n",
    "    Returns\n",
    "    -------\n",
    "    df : pd.DataFrame\n",
    "        pandas DataFrame with Events data\n",
    "    \"\"\"\n",
    "    \n",
    "    df = pd.DataFrame()\n",
    "    \n",
    "    # event features\n",
    "    df[\"run_id\"] = dfile[\"Events\"][\"run_id\"]\n",
    "    df[\"burst_id\"] = dfile[\"Events\"][\"burst_id\"]\n",
    "    df[\"event_id\"] = dfile[\"Events\"][\"event_id\"]\n",
    "    df[\"track_id\"] = dfile[\"Events\"][\"track_id\"]\n",
    "    df[\"track_momentum\"] = dfile[\"Events\"][\"track_momentum\"]\n",
    "    df[\"chod_time\"] = dfile[\"Events\"][\"chod_time\"]\n",
    "    df[\"ring_radius\"] = dfile[\"Events\"][\"ring_radius\"]\n",
    "    df[\"ring_centre_pos_x\"] = dfile[\"Events\"][\"ring_centre_pos\"][:, 0]\n",
    "    df[\"ring_centre_pos_y\"] = dfile[\"Events\"][\"ring_centre_pos\"][:, 1]\n",
    "    df[\"ring_likelihood_pion\"] = dfile[\"Events\"][\"ring_likelihood\"][:, 0]\n",
    "    df[\"ring_likelihood_muon\"] = dfile[\"Events\"][\"ring_likelihood\"][:, 1]\n",
    "    df[\"ring_likelihood_positron\"] = dfile[\"Events\"][\"ring_likelihood\"][:, 2]\n",
    "    \n",
    "    # labels\n",
    "    mu_off = dfile.attrs[\"muon_offset\"]\n",
    "    pi_off = dfile.attrs[\"pion_offset\"]\n",
    "    pos_off = dfile.attrs[\"positron_offset\"]\n",
    "    entries = dfile.attrs[\"entries\"]\n",
    "    \n",
    "    labels = np.zeros(entries, dtype=np.int32)\n",
    "    labels[mu_off:pi_off] = 0\n",
    "    labels[pi_off:pos_off] = 1\n",
    "    labels[pos_off:] = 2\n",
    "    \n",
    "    df[\"label\"] = labels\n",
    "    \n",
    "    # hit mapping values\n",
    "    df[\"first_hit\"] = np.array(dfile[\"HitMapping\"])[:-1]  # hit n\n",
    "    df[\"last_hit\"] = np.array(dfile[\"HitMapping\"])[1:]    # hit n + 1\n",
    "    df[\"total_hits\"] = df[\"last_hit\"] - df[\"first_hit\"]\n",
    "    \n",
    "    return df"
   ]
  },
  {
   "cell_type": "code",
   "execution_count": 5,
   "id": "e4e94ab8",
   "metadata": {},
   "outputs": [],
   "source": [
    "def get_string_label(label):\n",
    "    \"\"\"Add string label to pandas df (to be used with map)\"\"\"\n",
    "    if label == 0:\n",
    "        return \"muon\"\n",
    "    elif label == 1:\n",
    "        return \"pion\"\n",
    "    elif label == 2:\n",
    "        return \"positron\""
   ]
  },
  {
   "cell_type": "code",
   "execution_count": 6,
   "id": "1170374b",
   "metadata": {},
   "outputs": [],
   "source": [
    "def compute_seq_id(hit, or_id=0):\n",
    "    \"\"\"Compute the RICH PMT sequence ID\"\"\"\n",
    "    disk_id, pm_id, sc_id, up_dw_id, _ = hit\n",
    "    \n",
    "    if or_id < 1:\n",
    "        seq_id = sc_id * 8 + pm_id + up_dw_id * 61 * 8 + disk_id * 61 * 8 * 2\n",
    "    else:\n",
    "        seq_id = 61 * 8 * 2 * 2 + sc_id + up_dw_id * 61 + disk_id * 61 * 2\n",
    "    return int(seq_id)\n",
    "\n",
    "compute_seq_id = np.vectorize(compute_seq_id, otypes=[int])"
   ]
  },
  {
   "cell_type": "code",
   "execution_count": 7,
   "id": "d2ac22b6",
   "metadata": {},
   "outputs": [],
   "source": [
    "def get_hit_info_df(f, df, event):\n",
    "    \"\"\"Get the hit info for an event in a pandas dataframe\n",
    "    \n",
    "    Parameters\n",
    "    ----------\n",
    "    f : HDF5 file\n",
    "        The RICHAI HDF5 file.\n",
    "    df : pandas DataFrame\n",
    "        A pandas DataFrame representation of the HDF5 Events file.\n",
    "    event : int\n",
    "        The event number to get the hit info for.\n",
    "        \n",
    "    Returns\n",
    "    -------\n",
    "    positions : pd.DataFrame\n",
    "        pandas DataFrame with hits data for a given event\n",
    "    \"\"\"\n",
    "    positions = []\n",
    "    \n",
    "    # get our hit data for this event\n",
    "    idx_from = df.loc[event][\"first_hit\"]\n",
    "    idx_to = df.loc[event][\"last_hit\"]\n",
    "    hit_data = f[\"Hits\"][idx_from:idx_to]\n",
    "    \n",
    "    # get our pm locations for this event\n",
    "    for hit in hit_data:\n",
    "        pm_idx = compute_seq_id(hit)\n",
    "        positions.append(position_map[pm_idx])\n",
    "    \n",
    "    # add hit time, chod time, and delta\n",
    "    positions = pd.DataFrame(positions, columns=[\"x\", \"y\", \"mirror\"])\n",
    "    positions[\"hit_time\"] = hit_data[\"hit_time\"]\n",
    "    positions[\"chod_time\"] = df[\"chod_time\"][event]\n",
    "    positions[\"chod_delta\"] = positions[\"hit_time\"] - positions[\"chod_time\"]\n",
    "    positions[\"class\"] = df[\"class\"][event]\n",
    "    positions[\"event\"] = event\n",
    "    \n",
    "    return positions"
   ]
  },
  {
   "cell_type": "code",
   "execution_count": 8,
   "id": "b0283261",
   "metadata": {},
   "outputs": [],
   "source": [
    "def draw_pmt_pos(ax,pmt_pos):\n",
    "    \"\"\"\n",
    "        Add circle patches corresponding to the PMT position to the Axes object ax\n",
    "    \"\"\"\n",
    "    for i in pmt_pos:\n",
    "        if i[2] == 0: # 0: Jura / 1: Salève, PMT disks are identical, we can pick either one. [TODO: CHECK!]\n",
    "            ax.add_patch(plt.Circle((i[0],i[1]),1.0, color='black'))\n",
    "    return ax"
   ]
  },
  {
   "cell_type": "code",
   "execution_count": 9,
   "id": "7d8c1c5f",
   "metadata": {},
   "outputs": [],
   "source": [
    "def get_class_samples(df, n, seed, momentum_bin=None):\n",
    "    \"\"\"Sample n samples for each particle class from the events dataframe\"\"\"\n",
    "    \n",
    "    if momentum_bin is not None:\n",
    "        df = df.query(\"momentum_bin == @momentum_bin\")\n",
    "        \n",
    "    samples = pd.concat(\n",
    "        [\n",
    "            df[df[\"class\"] == \"muon\"].sample(n=n, random_state=seed),\n",
    "            df[df[\"class\"] == \"pion\"].sample(n=n, random_state=seed),\n",
    "            df[df[\"class\"] == \"positron\"].sample(n=n, random_state=seed)        \n",
    "        ]\n",
    "\n",
    "    )\n",
    "    \n",
    "    return samples"
   ]
  },
  {
   "cell_type": "code",
   "execution_count": 10,
   "id": "436e8ddd",
   "metadata": {},
   "outputs": [
    {
     "data": {
      "text/plain": [
       "dict_keys(['A/Run008563', 'A/Run008548', 'A/Run008564', 'A/Run008553', 'A/Run008562', 'C/2018E', 'B/2018B'])"
      ]
     },
     "execution_count": 10,
     "metadata": {},
     "output_type": "execute_result"
    }
   ],
   "source": [
    "file_paths = glob.glob(\"/data/bvelghe/capstone2022/*/*\")\n",
    "data_files = read_RICHAI_data(file_paths)\n",
    "data_files.keys()"
   ]
  },
  {
   "cell_type": "code",
   "execution_count": 11,
   "id": "4a258ff4",
   "metadata": {},
   "outputs": [
    {
     "data": {
      "text/plain": [
       "<KeysViewHDF5 ['Events', 'HitMapping', 'Hits']>"
      ]
     },
     "execution_count": 11,
     "metadata": {},
     "output_type": "execute_result"
    }
   ],
   "source": [
    "f = data_files[\"A/Run008563\"]\n",
    "f.keys()"
   ]
  },
  {
   "cell_type": "code",
   "execution_count": 12,
   "id": "f9b842ff",
   "metadata": {},
   "outputs": [
    {
     "data": {
      "text/plain": [
       "(1952, 3)"
      ]
     },
     "execution_count": 12,
     "metadata": {},
     "output_type": "execute_result"
    }
   ],
   "source": [
    "position_map = np.load(\"../tools/rich_pmt_positions.npy\")\n",
    "position_map.shape"
   ]
  },
  {
   "cell_type": "code",
   "execution_count": 13,
   "id": "93565d81",
   "metadata": {},
   "outputs": [
    {
     "data": {
      "text/plain": [
       "(181847, 18)"
      ]
     },
     "execution_count": 13,
     "metadata": {},
     "output_type": "execute_result"
    }
   ],
   "source": [
    "df = events_to_pandas(f)\n",
    "\n",
    "# add class label (text)\n",
    "df[\"class\"] = df[\"label\"]\n",
    "# .apply(get_string_label)\n",
    "\n",
    "# add momentum bin\n",
    "momentum_bins = ['0-9', '10-19', '20-29', '30-39','40+']\n",
    "df[\"momentum_bin\"] = pd.cut(\n",
    "    df[\"track_momentum\"],\n",
    "    [0, 10, 20, 30, 40, np.inf],\n",
    "    labels=momentum_bins\n",
    ")\n",
    "\n",
    "df.shape"
   ]
  },
  {
   "cell_type": "markdown",
   "id": "d3bcf23d",
   "metadata": {},
   "source": [
    "## Raw Data and cleaning"
   ]
  },
  {
   "cell_type": "code",
   "execution_count": 14,
   "id": "17f82713",
   "metadata": {
    "slideshow": {
     "slide_type": "slide"
    }
   },
   "outputs": [
    {
     "data": {
      "text/html": [
       "<div>\n",
       "<style scoped>\n",
       "    .dataframe tbody tr th:only-of-type {\n",
       "        vertical-align: middle;\n",
       "    }\n",
       "\n",
       "    .dataframe tbody tr th {\n",
       "        vertical-align: top;\n",
       "    }\n",
       "\n",
       "    .dataframe thead th {\n",
       "        text-align: right;\n",
       "    }\n",
       "</style>\n",
       "<table border=\"1\" class=\"dataframe\">\n",
       "  <thead>\n",
       "    <tr style=\"text-align: right;\">\n",
       "      <th></th>\n",
       "      <th>run_id</th>\n",
       "      <th>burst_id</th>\n",
       "      <th>event_id</th>\n",
       "      <th>track_id</th>\n",
       "      <th>track_momentum</th>\n",
       "      <th>chod_time</th>\n",
       "      <th>ring_radius</th>\n",
       "      <th>ring_centre_pos_x</th>\n",
       "      <th>ring_centre_pos_y</th>\n",
       "      <th>ring_likelihood_pion</th>\n",
       "      <th>ring_likelihood_muon</th>\n",
       "      <th>ring_likelihood_positron</th>\n",
       "      <th>label</th>\n",
       "      <th>first_hit</th>\n",
       "      <th>last_hit</th>\n",
       "      <th>total_hits</th>\n",
       "      <th>class</th>\n",
       "      <th>momentum_bin</th>\n",
       "    </tr>\n",
       "  </thead>\n",
       "  <tbody>\n",
       "    <tr>\n",
       "      <th>0</th>\n",
       "      <td>8563</td>\n",
       "      <td>1502</td>\n",
       "      <td>19187</td>\n",
       "      <td>0</td>\n",
       "      <td>29.086382</td>\n",
       "      <td>24.875072</td>\n",
       "      <td>181.268814</td>\n",
       "      <td>-4.406287</td>\n",
       "      <td>31.420258</td>\n",
       "      <td>1.229546e-08</td>\n",
       "      <td>1.000000e+00</td>\n",
       "      <td>9.656426e-02</td>\n",
       "      <td>0</td>\n",
       "      <td>0</td>\n",
       "      <td>16</td>\n",
       "      <td>16</td>\n",
       "      <td>0</td>\n",
       "      <td>20-29</td>\n",
       "    </tr>\n",
       "    <tr>\n",
       "      <th>1</th>\n",
       "      <td>8563</td>\n",
       "      <td>1502</td>\n",
       "      <td>43695</td>\n",
       "      <td>0</td>\n",
       "      <td>29.131575</td>\n",
       "      <td>23.019239</td>\n",
       "      <td>180.360535</td>\n",
       "      <td>-33.380520</td>\n",
       "      <td>81.289101</td>\n",
       "      <td>2.874574e-05</td>\n",
       "      <td>1.000000e+00</td>\n",
       "      <td>1.647658e-09</td>\n",
       "      <td>0</td>\n",
       "      <td>16</td>\n",
       "      <td>38</td>\n",
       "      <td>22</td>\n",
       "      <td>0</td>\n",
       "      <td>20-29</td>\n",
       "    </tr>\n",
       "    <tr>\n",
       "      <th>2</th>\n",
       "      <td>8563</td>\n",
       "      <td>1502</td>\n",
       "      <td>53258</td>\n",
       "      <td>0</td>\n",
       "      <td>53.725155</td>\n",
       "      <td>7.871216</td>\n",
       "      <td>187.981369</td>\n",
       "      <td>-124.974808</td>\n",
       "      <td>-26.034964</td>\n",
       "      <td>3.173104e-01</td>\n",
       "      <td>1.000000e+00</td>\n",
       "      <td>9.871307e-02</td>\n",
       "      <td>0</td>\n",
       "      <td>38</td>\n",
       "      <td>68</td>\n",
       "      <td>30</td>\n",
       "      <td>0</td>\n",
       "      <td>40+</td>\n",
       "    </tr>\n",
       "    <tr>\n",
       "      <th>3</th>\n",
       "      <td>8563</td>\n",
       "      <td>1502</td>\n",
       "      <td>79840</td>\n",
       "      <td>1</td>\n",
       "      <td>45.426033</td>\n",
       "      <td>15.969522</td>\n",
       "      <td>181.346909</td>\n",
       "      <td>-159.838486</td>\n",
       "      <td>-44.940845</td>\n",
       "      <td>1.382166e-01</td>\n",
       "      <td>1.000000e+00</td>\n",
       "      <td>2.374848e-01</td>\n",
       "      <td>0</td>\n",
       "      <td>68</td>\n",
       "      <td>109</td>\n",
       "      <td>41</td>\n",
       "      <td>0</td>\n",
       "      <td>40+</td>\n",
       "    </tr>\n",
       "    <tr>\n",
       "      <th>4</th>\n",
       "      <td>8563</td>\n",
       "      <td>1502</td>\n",
       "      <td>88854</td>\n",
       "      <td>0</td>\n",
       "      <td>51.754585</td>\n",
       "      <td>23.295773</td>\n",
       "      <td>186.581955</td>\n",
       "      <td>-131.870239</td>\n",
       "      <td>-39.216457</td>\n",
       "      <td>7.380376e-01</td>\n",
       "      <td>1.000000e+00</td>\n",
       "      <td>5.661391e-02</td>\n",
       "      <td>0</td>\n",
       "      <td>109</td>\n",
       "      <td>134</td>\n",
       "      <td>25</td>\n",
       "      <td>0</td>\n",
       "      <td>40+</td>\n",
       "    </tr>\n",
       "    <tr>\n",
       "      <th>...</th>\n",
       "      <td>...</td>\n",
       "      <td>...</td>\n",
       "      <td>...</td>\n",
       "      <td>...</td>\n",
       "      <td>...</td>\n",
       "      <td>...</td>\n",
       "      <td>...</td>\n",
       "      <td>...</td>\n",
       "      <td>...</td>\n",
       "      <td>...</td>\n",
       "      <td>...</td>\n",
       "      <td>...</td>\n",
       "      <td>...</td>\n",
       "      <td>...</td>\n",
       "      <td>...</td>\n",
       "      <td>...</td>\n",
       "      <td>...</td>\n",
       "      <td>...</td>\n",
       "    </tr>\n",
       "    <tr>\n",
       "      <th>181842</th>\n",
       "      <td>8563</td>\n",
       "      <td>6</td>\n",
       "      <td>1901718</td>\n",
       "      <td>0</td>\n",
       "      <td>9.632858</td>\n",
       "      <td>19.408539</td>\n",
       "      <td>191.426300</td>\n",
       "      <td>-341.561005</td>\n",
       "      <td>-60.012337</td>\n",
       "      <td>1.216099e-37</td>\n",
       "      <td>1.216099e-37</td>\n",
       "      <td>1.000000e+00</td>\n",
       "      <td>2</td>\n",
       "      <td>82065</td>\n",
       "      <td>82087</td>\n",
       "      <td>22</td>\n",
       "      <td>2</td>\n",
       "      <td>0-9</td>\n",
       "    </tr>\n",
       "    <tr>\n",
       "      <th>181843</th>\n",
       "      <td>8563</td>\n",
       "      <td>7</td>\n",
       "      <td>1153616</td>\n",
       "      <td>0</td>\n",
       "      <td>29.055141</td>\n",
       "      <td>18.719345</td>\n",
       "      <td>189.682892</td>\n",
       "      <td>-217.117447</td>\n",
       "      <td>-70.349503</td>\n",
       "      <td>6.483635e-36</td>\n",
       "      <td>8.388432e-11</td>\n",
       "      <td>1.000000e+00</td>\n",
       "      <td>2</td>\n",
       "      <td>82087</td>\n",
       "      <td>82129</td>\n",
       "      <td>42</td>\n",
       "      <td>2</td>\n",
       "      <td>20-29</td>\n",
       "    </tr>\n",
       "    <tr>\n",
       "      <th>181844</th>\n",
       "      <td>8563</td>\n",
       "      <td>8</td>\n",
       "      <td>998857</td>\n",
       "      <td>0</td>\n",
       "      <td>28.937969</td>\n",
       "      <td>5.329090</td>\n",
       "      <td>188.283539</td>\n",
       "      <td>-201.229034</td>\n",
       "      <td>66.584831</td>\n",
       "      <td>1.116412e-17</td>\n",
       "      <td>1.061459e-04</td>\n",
       "      <td>1.000000e+00</td>\n",
       "      <td>2</td>\n",
       "      <td>82129</td>\n",
       "      <td>82196</td>\n",
       "      <td>67</td>\n",
       "      <td>2</td>\n",
       "      <td>20-29</td>\n",
       "    </tr>\n",
       "    <tr>\n",
       "      <th>181845</th>\n",
       "      <td>8563</td>\n",
       "      <td>8</td>\n",
       "      <td>1107423</td>\n",
       "      <td>0</td>\n",
       "      <td>27.879078</td>\n",
       "      <td>1.462662</td>\n",
       "      <td>192.117065</td>\n",
       "      <td>-120.966507</td>\n",
       "      <td>47.340836</td>\n",
       "      <td>2.396222e-32</td>\n",
       "      <td>3.192111e-11</td>\n",
       "      <td>1.000000e+00</td>\n",
       "      <td>2</td>\n",
       "      <td>82196</td>\n",
       "      <td>82214</td>\n",
       "      <td>18</td>\n",
       "      <td>2</td>\n",
       "      <td>20-29</td>\n",
       "    </tr>\n",
       "    <tr>\n",
       "      <th>181846</th>\n",
       "      <td>8563</td>\n",
       "      <td>9</td>\n",
       "      <td>901434</td>\n",
       "      <td>0</td>\n",
       "      <td>23.955732</td>\n",
       "      <td>17.404152</td>\n",
       "      <td>189.807541</td>\n",
       "      <td>-200.585602</td>\n",
       "      <td>86.105621</td>\n",
       "      <td>3.521474e-31</td>\n",
       "      <td>2.751138e-09</td>\n",
       "      <td>1.000000e+00</td>\n",
       "      <td>2</td>\n",
       "      <td>82214</td>\n",
       "      <td>6856199</td>\n",
       "      <td>6773985</td>\n",
       "      <td>2</td>\n",
       "      <td>20-29</td>\n",
       "    </tr>\n",
       "  </tbody>\n",
       "</table>\n",
       "<p>181847 rows × 18 columns</p>\n",
       "</div>"
      ],
      "text/plain": [
       "        run_id  burst_id  event_id  track_id  track_momentum  chod_time  \\\n",
       "0         8563      1502     19187         0       29.086382  24.875072   \n",
       "1         8563      1502     43695         0       29.131575  23.019239   \n",
       "2         8563      1502     53258         0       53.725155   7.871216   \n",
       "3         8563      1502     79840         1       45.426033  15.969522   \n",
       "4         8563      1502     88854         0       51.754585  23.295773   \n",
       "...        ...       ...       ...       ...             ...        ...   \n",
       "181842    8563         6   1901718         0        9.632858  19.408539   \n",
       "181843    8563         7   1153616         0       29.055141  18.719345   \n",
       "181844    8563         8    998857         0       28.937969   5.329090   \n",
       "181845    8563         8   1107423         0       27.879078   1.462662   \n",
       "181846    8563         9    901434         0       23.955732  17.404152   \n",
       "\n",
       "        ring_radius  ring_centre_pos_x  ring_centre_pos_y  \\\n",
       "0        181.268814          -4.406287          31.420258   \n",
       "1        180.360535         -33.380520          81.289101   \n",
       "2        187.981369        -124.974808         -26.034964   \n",
       "3        181.346909        -159.838486         -44.940845   \n",
       "4        186.581955        -131.870239         -39.216457   \n",
       "...             ...                ...                ...   \n",
       "181842   191.426300        -341.561005         -60.012337   \n",
       "181843   189.682892        -217.117447         -70.349503   \n",
       "181844   188.283539        -201.229034          66.584831   \n",
       "181845   192.117065        -120.966507          47.340836   \n",
       "181846   189.807541        -200.585602          86.105621   \n",
       "\n",
       "        ring_likelihood_pion  ring_likelihood_muon  ring_likelihood_positron  \\\n",
       "0               1.229546e-08          1.000000e+00              9.656426e-02   \n",
       "1               2.874574e-05          1.000000e+00              1.647658e-09   \n",
       "2               3.173104e-01          1.000000e+00              9.871307e-02   \n",
       "3               1.382166e-01          1.000000e+00              2.374848e-01   \n",
       "4               7.380376e-01          1.000000e+00              5.661391e-02   \n",
       "...                      ...                   ...                       ...   \n",
       "181842          1.216099e-37          1.216099e-37              1.000000e+00   \n",
       "181843          6.483635e-36          8.388432e-11              1.000000e+00   \n",
       "181844          1.116412e-17          1.061459e-04              1.000000e+00   \n",
       "181845          2.396222e-32          3.192111e-11              1.000000e+00   \n",
       "181846          3.521474e-31          2.751138e-09              1.000000e+00   \n",
       "\n",
       "        label  first_hit  last_hit  total_hits  class momentum_bin  \n",
       "0           0          0        16          16      0        20-29  \n",
       "1           0         16        38          22      0        20-29  \n",
       "2           0         38        68          30      0          40+  \n",
       "3           0         68       109          41      0          40+  \n",
       "4           0        109       134          25      0          40+  \n",
       "...       ...        ...       ...         ...    ...          ...  \n",
       "181842      2      82065     82087          22      2          0-9  \n",
       "181843      2      82087     82129          42      2        20-29  \n",
       "181844      2      82129     82196          67      2        20-29  \n",
       "181845      2      82196     82214          18      2        20-29  \n",
       "181846      2      82214   6856199     6773985      2        20-29  \n",
       "\n",
       "[181847 rows x 18 columns]"
      ]
     },
     "execution_count": 14,
     "metadata": {},
     "output_type": "execute_result"
    }
   ],
   "source": [
    "df"
   ]
  },
  {
   "cell_type": "code",
   "execution_count": 19,
   "id": "4bec9d09",
   "metadata": {
    "slideshow": {
     "slide_type": "slide"
    }
   },
   "outputs": [
    {
     "data": {
      "text/html": [
       "<div>\n",
       "<style scoped>\n",
       "    .dataframe tbody tr th:only-of-type {\n",
       "        vertical-align: middle;\n",
       "    }\n",
       "\n",
       "    .dataframe tbody tr th {\n",
       "        vertical-align: top;\n",
       "    }\n",
       "\n",
       "    .dataframe thead th {\n",
       "        text-align: right;\n",
       "    }\n",
       "</style>\n",
       "<table border=\"1\" class=\"dataframe\">\n",
       "  <thead>\n",
       "    <tr style=\"text-align: right;\">\n",
       "      <th></th>\n",
       "      <th>track_momentum</th>\n",
       "      <th>chod_time</th>\n",
       "      <th>ring_radius</th>\n",
       "      <th>ring_centre_pos_x</th>\n",
       "      <th>ring_centre_pos_y</th>\n",
       "      <th>ring_likelihood_pion</th>\n",
       "      <th>ring_likelihood_muon</th>\n",
       "      <th>ring_likelihood_positron</th>\n",
       "      <th>label</th>\n",
       "      <th>first_hit</th>\n",
       "      <th>last_hit</th>\n",
       "      <th>total_hits</th>\n",
       "      <th>class</th>\n",
       "    </tr>\n",
       "  </thead>\n",
       "  <tbody>\n",
       "    <tr>\n",
       "      <th>min</th>\n",
       "      <td>5.184396</td>\n",
       "      <td>-24.252262</td>\n",
       "      <td>0.000000e+00</td>\n",
       "      <td>-1.088156e+06</td>\n",
       "      <td>-287.492249</td>\n",
       "      <td>1.216099e-37</td>\n",
       "      <td>1.216099e-37</td>\n",
       "      <td>1.216099e-37</td>\n",
       "      <td>0.000000</td>\n",
       "      <td>0.000000e+00</td>\n",
       "      <td>0.000000e+00</td>\n",
       "      <td>-6.081777e+06</td>\n",
       "      <td>0.000000</td>\n",
       "    </tr>\n",
       "    <tr>\n",
       "      <th>max</th>\n",
       "      <td>74.302505</td>\n",
       "      <td>40.877220</td>\n",
       "      <td>1.256323e+06</td>\n",
       "      <td>9.999990e+05</td>\n",
       "      <td>999999.000000</td>\n",
       "      <td>1.000000e+00</td>\n",
       "      <td>1.000000e+00</td>\n",
       "      <td>1.000000e+00</td>\n",
       "      <td>2.000000</td>\n",
       "      <td>6.081777e+06</td>\n",
       "      <td>6.856199e+06</td>\n",
       "      <td>6.773985e+06</td>\n",
       "      <td>2.000000</td>\n",
       "    </tr>\n",
       "    <tr>\n",
       "      <th>std</th>\n",
       "      <td>12.900981</td>\n",
       "      <td>8.264045</td>\n",
       "      <td>4.095129e+04</td>\n",
       "      <td>8.221111e+04</td>\n",
       "      <td>82176.070312</td>\n",
       "      <td>3.917400e-01</td>\n",
       "      <td>3.485761e-01</td>\n",
       "      <td>3.202104e-01</td>\n",
       "      <td>0.349507</td>\n",
       "      <td>1.862248e+06</td>\n",
       "      <td>1.862262e+06</td>\n",
       "      <td>2.140974e+04</td>\n",
       "      <td>0.349507</td>\n",
       "    </tr>\n",
       "    <tr>\n",
       "      <th>count</th>\n",
       "      <td>181847.000000</td>\n",
       "      <td>181847.000000</td>\n",
       "      <td>1.818460e+05</td>\n",
       "      <td>1.818460e+05</td>\n",
       "      <td>181846.000000</td>\n",
       "      <td>1.818470e+05</td>\n",
       "      <td>1.818470e+05</td>\n",
       "      <td>1.818470e+05</td>\n",
       "      <td>181847.000000</td>\n",
       "      <td>1.818470e+05</td>\n",
       "      <td>1.818470e+05</td>\n",
       "      <td>1.818470e+05</td>\n",
       "      <td>181847.000000</td>\n",
       "    </tr>\n",
       "  </tbody>\n",
       "</table>\n",
       "</div>"
      ],
      "text/plain": [
       "       track_momentum      chod_time   ring_radius  ring_centre_pos_x  \\\n",
       "min          5.184396     -24.252262  0.000000e+00      -1.088156e+06   \n",
       "max         74.302505      40.877220  1.256323e+06       9.999990e+05   \n",
       "std         12.900981       8.264045  4.095129e+04       8.221111e+04   \n",
       "count   181847.000000  181847.000000  1.818460e+05       1.818460e+05   \n",
       "\n",
       "       ring_centre_pos_y  ring_likelihood_pion  ring_likelihood_muon  \\\n",
       "min          -287.492249          1.216099e-37          1.216099e-37   \n",
       "max        999999.000000          1.000000e+00          1.000000e+00   \n",
       "std         82176.070312          3.917400e-01          3.485761e-01   \n",
       "count      181846.000000          1.818470e+05          1.818470e+05   \n",
       "\n",
       "       ring_likelihood_positron          label     first_hit      last_hit  \\\n",
       "min                1.216099e-37       0.000000  0.000000e+00  0.000000e+00   \n",
       "max                1.000000e+00       2.000000  6.081777e+06  6.856199e+06   \n",
       "std                3.202104e-01       0.349507  1.862248e+06  1.862262e+06   \n",
       "count              1.818470e+05  181847.000000  1.818470e+05  1.818470e+05   \n",
       "\n",
       "         total_hits          class  \n",
       "min   -6.081777e+06       0.000000  \n",
       "max    6.773985e+06       2.000000  \n",
       "std    2.140974e+04       0.349507  \n",
       "count  1.818470e+05  181847.000000  "
      ]
     },
     "execution_count": 19,
     "metadata": {},
     "output_type": "execute_result"
    }
   ],
   "source": [
    "df.describe().loc[['min', 'max', 'std', 'count'],'track_momentum':]"
   ]
  },
  {
   "cell_type": "code",
   "execution_count": 23,
   "id": "ae7abdd4",
   "metadata": {
    "slideshow": {
     "slide_type": "fragment"
    }
   },
   "outputs": [
    {
     "data": {
      "text/plain": [
       "track_momentum              6.428035e+04\n",
       "chod_time                   6.428853e+04\n",
       "ring_radius                 4.373181e+05\n",
       "ring_centre_pos_x           5.631286e+05\n",
       "ring_centre_pos_y           3.460143e+05\n",
       "ring_likelihood_pion        6.429251e+04\n",
       "ring_likelihood_muon        6.429237e+04\n",
       "ring_likelihood_positron    6.429254e+04\n",
       "label                       6.429250e+04\n",
       "first_hit                   2.092587e+06\n",
       "last_hit                    2.297423e+06\n",
       "total_hits                  3.439438e+06\n",
       "class                       6.429250e+04\n",
       "dtype: float64"
      ]
     },
     "execution_count": 23,
     "metadata": {},
     "output_type": "execute_result"
    }
   ],
   "source": [
    "std_raw = df.describe().std()['track_momentum':]\n",
    "std_raw"
   ]
  },
  {
   "cell_type": "code",
   "execution_count": 34,
   "id": "958edda0",
   "metadata": {
    "slideshow": {
     "slide_type": "slide"
    }
   },
   "outputs": [],
   "source": [
    "# Preparing Input data for GBT\n",
    "def preprocessor(df):\n",
    "    \"\"\"Clean data for initial model training and analysis\"\"\"\n",
    "    \n",
    "    # Ring radius - cleaning for anomalous values\n",
    "    df_clean = df[(df[\"ring_radius\"]<300) & (df[\"ring_radius\"]>0)]\n",
    "    \n",
    "    # Total hits - removing 0 hits and anomalous values (very high hits corresponded to positrons)\n",
    "    df_clean = df_clean[(df_clean[\"total_hits\"]>0) & (df_clean[\"total_hits\"]<1000)]\n",
    "    \n",
    "    # ring_center_pos_X - Cleaning for anomalies\n",
    "    df_clean = df_clean[df_clean['ring_centre_pos_x']<1000]\n",
    "    \n",
    "    # ring_center_pos_Y - Cleaning for anomalies\n",
    "    df_clean = df_clean[df_clean['ring_centre_pos_y']<1000]\n",
    "    \n",
    "    return df_clean"
   ]
  },
  {
   "cell_type": "code",
   "execution_count": 46,
   "id": "4ebd4715",
   "metadata": {
    "slideshow": {
     "slide_type": "slide"
    }
   },
   "outputs": [
    {
     "name": "stdout",
     "output_type": "stream",
     "text": [
      "Observations removed by preprocessor: 1243 (0.68 %)\n"
     ]
    },
    {
     "data": {
      "text/html": [
       "<div>\n",
       "<style scoped>\n",
       "    .dataframe tbody tr th:only-of-type {\n",
       "        vertical-align: middle;\n",
       "    }\n",
       "\n",
       "    .dataframe tbody tr th {\n",
       "        vertical-align: top;\n",
       "    }\n",
       "\n",
       "    .dataframe thead th {\n",
       "        text-align: right;\n",
       "    }\n",
       "</style>\n",
       "<table border=\"1\" class=\"dataframe\">\n",
       "  <thead>\n",
       "    <tr style=\"text-align: right;\">\n",
       "      <th></th>\n",
       "      <th>track_momentum</th>\n",
       "      <th>chod_time</th>\n",
       "      <th>ring_radius</th>\n",
       "      <th>ring_centre_pos_x</th>\n",
       "      <th>ring_centre_pos_y</th>\n",
       "      <th>ring_likelihood_pion</th>\n",
       "      <th>ring_likelihood_muon</th>\n",
       "      <th>ring_likelihood_positron</th>\n",
       "      <th>label</th>\n",
       "      <th>first_hit</th>\n",
       "      <th>last_hit</th>\n",
       "      <th>total_hits</th>\n",
       "      <th>class</th>\n",
       "    </tr>\n",
       "  </thead>\n",
       "  <tbody>\n",
       "    <tr>\n",
       "      <th>min</th>\n",
       "      <td>5.184396</td>\n",
       "      <td>-24.252262</td>\n",
       "      <td>0.000000e+00</td>\n",
       "      <td>-1.088156e+06</td>\n",
       "      <td>-287.492249</td>\n",
       "      <td>1.216099e-37</td>\n",
       "      <td>1.216099e-37</td>\n",
       "      <td>1.216099e-37</td>\n",
       "      <td>0.000000</td>\n",
       "      <td>0.000000e+00</td>\n",
       "      <td>0.000000e+00</td>\n",
       "      <td>-6.081777e+06</td>\n",
       "      <td>0.000000</td>\n",
       "    </tr>\n",
       "    <tr>\n",
       "      <th>max</th>\n",
       "      <td>74.302505</td>\n",
       "      <td>40.877220</td>\n",
       "      <td>1.256323e+06</td>\n",
       "      <td>9.999990e+05</td>\n",
       "      <td>999999.000000</td>\n",
       "      <td>1.000000e+00</td>\n",
       "      <td>1.000000e+00</td>\n",
       "      <td>1.000000e+00</td>\n",
       "      <td>2.000000</td>\n",
       "      <td>6.081777e+06</td>\n",
       "      <td>6.856199e+06</td>\n",
       "      <td>6.773985e+06</td>\n",
       "      <td>2.000000</td>\n",
       "    </tr>\n",
       "    <tr>\n",
       "      <th>std</th>\n",
       "      <td>12.900981</td>\n",
       "      <td>8.264045</td>\n",
       "      <td>4.095129e+04</td>\n",
       "      <td>8.221111e+04</td>\n",
       "      <td>82176.070312</td>\n",
       "      <td>3.917400e-01</td>\n",
       "      <td>3.485761e-01</td>\n",
       "      <td>3.202104e-01</td>\n",
       "      <td>0.349507</td>\n",
       "      <td>1.862248e+06</td>\n",
       "      <td>1.862262e+06</td>\n",
       "      <td>2.140974e+04</td>\n",
       "      <td>0.349507</td>\n",
       "    </tr>\n",
       "    <tr>\n",
       "      <th>count</th>\n",
       "      <td>181847.000000</td>\n",
       "      <td>181847.000000</td>\n",
       "      <td>1.818460e+05</td>\n",
       "      <td>1.818460e+05</td>\n",
       "      <td>181846.000000</td>\n",
       "      <td>1.818470e+05</td>\n",
       "      <td>1.818470e+05</td>\n",
       "      <td>1.818470e+05</td>\n",
       "      <td>181847.000000</td>\n",
       "      <td>1.818470e+05</td>\n",
       "      <td>1.818470e+05</td>\n",
       "      <td>1.818470e+05</td>\n",
       "      <td>181847.000000</td>\n",
       "    </tr>\n",
       "  </tbody>\n",
       "</table>\n",
       "</div>"
      ],
      "text/plain": [
       "       track_momentum      chod_time   ring_radius  ring_centre_pos_x  \\\n",
       "min          5.184396     -24.252262  0.000000e+00      -1.088156e+06   \n",
       "max         74.302505      40.877220  1.256323e+06       9.999990e+05   \n",
       "std         12.900981       8.264045  4.095129e+04       8.221111e+04   \n",
       "count   181847.000000  181847.000000  1.818460e+05       1.818460e+05   \n",
       "\n",
       "       ring_centre_pos_y  ring_likelihood_pion  ring_likelihood_muon  \\\n",
       "min          -287.492249          1.216099e-37          1.216099e-37   \n",
       "max        999999.000000          1.000000e+00          1.000000e+00   \n",
       "std         82176.070312          3.917400e-01          3.485761e-01   \n",
       "count      181846.000000          1.818470e+05          1.818470e+05   \n",
       "\n",
       "       ring_likelihood_positron          label     first_hit      last_hit  \\\n",
       "min                1.216099e-37       0.000000  0.000000e+00  0.000000e+00   \n",
       "max                1.000000e+00       2.000000  6.081777e+06  6.856199e+06   \n",
       "std                3.202104e-01       0.349507  1.862248e+06  1.862262e+06   \n",
       "count              1.818470e+05  181847.000000  1.818470e+05  1.818470e+05   \n",
       "\n",
       "         total_hits          class  \n",
       "min   -6.081777e+06       0.000000  \n",
       "max    6.773985e+06       2.000000  \n",
       "std    2.140974e+04       0.349507  \n",
       "count  1.818470e+05  181847.000000  "
      ]
     },
     "execution_count": 46,
     "metadata": {},
     "output_type": "execute_result"
    }
   ],
   "source": [
    "df_clean = preprocessor(df)\n",
    "print(f\"Observations removed by preprocessor: {(df.shape[0]-df_clean.shape[0])} ({(df.shape[0]-df_clean.shape[0]) / df.shape[0] * 100:.2f} %)\")\n",
    "df.describe().loc[['min', 'max', 'std', 'count'],'track_momentum':]"
   ]
  },
  {
   "cell_type": "markdown",
   "id": "66c8daff",
   "metadata": {
    "slideshow": {
     "slide_type": "slide"
    }
   },
   "source": [
    "## Training LightGBM"
   ]
  },
  {
   "cell_type": "code",
   "execution_count": null,
   "id": "decacba0",
   "metadata": {
    "slideshow": {
     "slide_type": "skip"
    }
   },
   "outputs": [],
   "source": [
    "df_clean.columns"
   ]
  },
  {
   "cell_type": "markdown",
   "id": "3364cc78",
   "metadata": {
    "slideshow": {
     "slide_type": "subslide"
    }
   },
   "source": [
    "### Subsampled df for trial run"
   ]
  },
  {
   "cell_type": "code",
   "execution_count": 47,
   "id": "4862254e",
   "metadata": {
    "slideshow": {
     "slide_type": "fragment"
    }
   },
   "outputs": [
    {
     "data": {
      "text/plain": [
       "0    16087\n",
       "1     1800\n",
       "2      173\n",
       "Name: label, dtype: int64"
      ]
     },
     "execution_count": 47,
     "metadata": {},
     "output_type": "execute_result"
    }
   ],
   "source": [
    "\n",
    "df_clean_light = df_clean.sample(frac=0.1, replace=False, random_state=123)\n",
    "df_clean_light.label.value_counts()"
   ]
  },
  {
   "cell_type": "code",
   "execution_count": null,
   "id": "340f5506",
   "metadata": {
    "slideshow": {
     "slide_type": "subslide"
    }
   },
   "outputs": [],
   "source": [
    "### Features"
   ]
  },
  {
   "cell_type": "code",
   "execution_count": 48,
   "id": "2b6e5065",
   "metadata": {
    "slideshow": {
     "slide_type": "fragment"
    }
   },
   "outputs": [],
   "source": [
    "# Selecting X & y\n",
    "X = df_clean_light.loc[:, [\n",
    "    'track_momentum',\n",
    "    'ring_radius',\n",
    "    'total_hits'\n",
    "]]\n",
    "\n",
    "y = df_clean_light.loc[:,'class']"
   ]
  },
  {
   "cell_type": "code",
   "execution_count": 51,
   "id": "0e06aeb2",
   "metadata": {
    "slideshow": {
     "slide_type": "fragment"
    }
   },
   "outputs": [],
   "source": [
    "# Training and validation split\n",
    "X_train, X_test, y_train, y_test = train_test_split(\n",
    "    X, y,\n",
    "    stratify=y, \n",
    "    test_size=0.25\n",
    ")"
   ]
  },
  {
   "cell_type": "code",
   "execution_count": 54,
   "id": "860caa19",
   "metadata": {
    "slideshow": {
     "slide_type": "subslide"
    }
   },
   "outputs": [],
   "source": [
    "### Examining the stratified sub-sample"
   ]
  },
  {
   "cell_type": "code",
   "execution_count": 52,
   "id": "0df6a912",
   "metadata": {
    "slideshow": {
     "slide_type": "fragment"
    }
   },
   "outputs": [
    {
     "data": {
      "text/plain": [
       "0    12065\n",
       "1     1350\n",
       "2      130\n",
       "Name: class, dtype: int64"
      ]
     },
     "execution_count": 52,
     "metadata": {},
     "output_type": "execute_result"
    }
   ],
   "source": [
    "# Testing for stratification  - training set\n",
    "y_train.value_counts()"
   ]
  },
  {
   "cell_type": "code",
   "execution_count": 53,
   "id": "c4f9a924",
   "metadata": {
    "slideshow": {
     "slide_type": "fragment"
    }
   },
   "outputs": [
    {
     "data": {
      "text/plain": [
       "0    4022\n",
       "1     450\n",
       "2      43\n",
       "Name: class, dtype: int64"
      ]
     },
     "execution_count": 53,
     "metadata": {},
     "output_type": "execute_result"
    }
   ],
   "source": [
    "# Testing for stratification - validation set\n",
    "y_test.value_counts()"
   ]
  },
  {
   "cell_type": "markdown",
   "id": "8479199f",
   "metadata": {
    "slideshow": {
     "slide_type": "slide"
    }
   },
   "source": [
    "## Baseline lightGBM classifier results"
   ]
  },
  {
   "cell_type": "code",
   "execution_count": 55,
   "id": "a63b67b9",
   "metadata": {
    "slideshow": {
     "slide_type": "fragment"
    }
   },
   "outputs": [
    {
     "data": {
      "text/plain": [
       "LGBMClassifier(random_state=123)"
      ]
     },
     "execution_count": 55,
     "metadata": {},
     "output_type": "execute_result"
    }
   ],
   "source": [
    "model = lgb.LGBMClassifier(random_state=123)\n",
    "model.fit(X_train, y_train)"
   ]
  },
  {
   "cell_type": "code",
   "execution_count": 56,
   "id": "86abbfd4",
   "metadata": {
    "slideshow": {
     "slide_type": "fragment"
    }
   },
   "outputs": [],
   "source": [
    "y_pred = model.predict(X_test)"
   ]
  },
  {
   "cell_type": "code",
   "execution_count": 63,
   "id": "8b061daf",
   "metadata": {
    "slideshow": {
     "slide_type": "fragment"
    }
   },
   "outputs": [
    {
     "name": "stdout",
     "output_type": "stream",
     "text": [
      "\n",
      "Classification Report\n",
      "\n",
      "              precision    recall  f1-score   support\n",
      "\n",
      "       Muons       0.97      0.98      0.97      4022\n",
      "       Pions       0.84      0.70      0.76       450\n",
      "   Positrons       0.97      0.86      0.91        43\n",
      "\n",
      "    accuracy                           0.95      4515\n",
      "   macro avg       0.92      0.85      0.88      4515\n",
      "weighted avg       0.95      0.95      0.95      4515\n",
      "\n"
     ]
    }
   ],
   "source": [
    "print('\\nClassification Report\\n')\n",
    "print(classification_report(\n",
    "    y_test, y_pred, \n",
    "    target_names=['Muons', 'Pions', 'Positrons']\n",
    "    )\n",
    ")"
   ]
  },
  {
   "cell_type": "code",
   "execution_count": 64,
   "id": "23c7bed2",
   "metadata": {
    "scrolled": false,
    "slideshow": {
     "slide_type": "subslide"
    }
   },
   "outputs": [
    {
     "data": {
      "image/png": "[encoded data removed]",
      "text/plain": [
       "<Figure size 360x360 with 2 Axes>"
      ]
     },
     "metadata": {
      "needs_background": "light"
     },
     "output_type": "display_data"
    }
   ],
   "source": [
    "# Confusion matrix\n",
    "cm = confusion_matrix(y_test, y_pred)\n",
    "cm_df = pd.DataFrame(cm,\n",
    "                     index = ['Muons', 'Pions', 'Positrons'], \n",
    "                     columns = ['Muons', 'Pions', 'Positrons'])\n",
    "plt.figure(figsize=(5,5))\n",
    "sns.heatmap(cm_df, annot=True, fmt='d', cmap='YlGnBu')\n",
    "plt.title('Confusion Matrix')\n",
    "plt.ylabel('Actual Values')\n",
    "plt.xlabel('Predicted Values')\n",
    "plt.show()"
   ]
  },
  {
   "cell_type": "markdown",
   "id": "0e32231f",
   "metadata": {
    "slideshow": {
     "slide_type": "slide"
    }
   },
   "source": [
    "## Tuning lightGBM multiclass classifier"
   ]
  },
  {
   "cell_type": "code",
   "execution_count": 73,
   "id": "66091bd3",
   "metadata": {
    "slideshow": {
     "slide_type": "subslide"
    }
   },
   "outputs": [
    {
     "data": {
      "text/plain": [
       "{0: 0.10924695459579181, 1: 0.9003322259136213, 2: 0.9904208194905869}"
      ]
     },
     "execution_count": 73,
     "metadata": {},
     "output_type": "execute_result"
    }
   ],
   "source": [
    "# Taking inverse weights of classes\n",
    "n_muon = df_clean_light.query(\"label == 0\").shape[0]\n",
    "n_pion = df_clean_light.query(\"label == 1\").shape[0]\n",
    "n_positron = df_clean_light.query(\"label == 2\").shape[0]\n",
    "n_total = df_clean_light.shape[0]\n",
    "\n",
    "class_weight = {\n",
    "    0 : 1 - n_muon/n_total,\n",
    "    1 : 1 - n_pion/n_total,\n",
    "    2 : 1 - n_positron/n_total\n",
    "}\n",
    "\n",
    "class_weight"
   ]
  },
  {
   "cell_type": "code",
   "execution_count": 88,
   "id": "cbbe9d06",
   "metadata": {
    "slideshow": {
     "slide_type": "subslide"
    }
   },
   "outputs": [
    {
     "data": {
      "text/plain": [
       "LGBMClassifier(class_weight={0: 0.10924695459579181, 1: 0.9003322259136213,\n",
       "                             2: 0.9904208194905869},\n",
       "               learning_rate=0.3, random_state=123)"
      ]
     },
     "execution_count": 88,
     "metadata": {},
     "output_type": "execute_result"
    }
   ],
   "source": [
    "model = None\n",
    "model = lgb.LGBMClassifier(\n",
    "#         boosting_type='goss',\n",
    "#         num_leaves=10,\n",
    "#         max_depth = 10,\n",
    "        learning_rate = 0.3,\n",
    "#         n_estimators = 100, \n",
    "        class_weight= class_weight,\n",
    "#         objective='multiclass',\n",
    "#         num_class = 3,\n",
    "        random_state=123,)\n",
    "model.fit(X_train, y_train)"
   ]
  },
  {
   "cell_type": "code",
   "execution_count": 90,
   "id": "b9fe62c2",
   "metadata": {},
   "outputs": [],
   "source": [
    "y_pred = model.predict(X_test)"
   ]
  },
  {
   "cell_type": "code",
   "execution_count": 91,
   "id": "b7bffd88",
   "metadata": {},
   "outputs": [
    {
     "name": "stdout",
     "output_type": "stream",
     "text": [
      "\n",
      "Classification Report\n",
      "\n",
      "              precision    recall  f1-score   support\n",
      "\n",
      "       Muons       0.98      0.96      0.97      4022\n",
      "       Pions       0.71      0.80      0.75       450\n",
      "   Positrons       0.97      0.91      0.94        43\n",
      "\n",
      "    accuracy                           0.95      4515\n",
      "   macro avg       0.89      0.89      0.89      4515\n",
      "weighted avg       0.95      0.95      0.95      4515\n",
      "\n"
     ]
    }
   ],
   "source": [
    "print('\\nClassification Report\\n')\n",
    "print(classification_report(\n",
    "    y_test, y_pred, \n",
    "    target_names=['Muons', 'Pions', 'Positrons']\n",
    "    )\n",
    ")"
   ]
  },
  {
   "cell_type": "code",
   "execution_count": 81,
   "id": "5edd55d8",
   "metadata": {},
   "outputs": [
    {
     "data": {
      "image/png": "[encoded data removed]",
      "text/plain": [
       "<Figure size 360x360 with 2 Axes>"
      ]
     },
     "metadata": {
      "needs_background": "light"
     },
     "output_type": "display_data"
    }
   ],
   "source": [
    "# Confusion matrix\n",
    "cm = confusion_matrix(y_test, y_pred)\n",
    "cm_df = pd.DataFrame(cm,\n",
    "                     index = ['Muons', 'Pions', 'Positrons'], \n",
    "                     columns = ['Muons', 'Pions', 'Positrons'])\n",
    "plt.figure(figsize=(5,5))\n",
    "sns.heatmap(cm_df, annot=True, fmt='d', cmap='YlGnBu')\n",
    "plt.title('Confusion Matrix')\n",
    "plt.ylabel('Actual Values')\n",
    "plt.xlabel('Predicted Values')\n",
    "plt.show()"
   ]
  },
  {
   "cell_type": "markdown",
   "id": "3bb147f3",
   "metadata": {
    "slideshow": {
     "slide_type": "slide"
    }
   },
   "source": [
    "## Baseline XGBoost Classifier"
   ]
  },
  {
   "cell_type": "code",
   "execution_count": 95,
   "id": "bc5089c7",
   "metadata": {
    "slideshow": {
     "slide_type": "fragment"
    }
   },
   "outputs": [
    {
     "name": "stderr",
     "output_type": "stream",
     "text": [
      "/opt/conda/lib/python3.8/site-packages/xgboost/sklearn.py:1224: UserWarning: The use of label encoder in XGBClassifier is deprecated and will be removed in a future release. To remove this warning, do the following: 1) Pass option use_label_encoder=False when constructing XGBClassifier object; and 2) Encode your labels (y) as integers starting with 0, i.e. 0, 1, 2, ..., [num_class - 1].\n",
      "  warnings.warn(label_encoder_deprecation_msg, UserWarning)\n"
     ]
    },
    {
     "name": "stdout",
     "output_type": "stream",
     "text": [
      "[13:02:14] WARNING: ../src/learner.cc:1115: Starting in XGBoost 1.3.0, the default evaluation metric used with the objective 'multi:softprob' was changed from 'merror' to 'mlogloss'. Explicitly set eval_metric if you'd like to restore the old behavior.\n"
     ]
    },
    {
     "data": {
      "text/plain": [
       "XGBClassifier(base_score=0.5, booster='gbtree', colsample_bylevel=1,\n",
       "              colsample_bynode=1, colsample_bytree=1, enable_categorical=False,\n",
       "              gamma=0, gpu_id=-1, importance_type=None,\n",
       "              interaction_constraints='', learning_rate=0.300000012,\n",
       "              max_delta_step=0, max_depth=6, min_child_weight=1, missing=nan,\n",
       "              monotone_constraints='()', n_estimators=100, n_jobs=64,\n",
       "              num_parallel_tree=1, objective='multi:softprob', predictor='auto',\n",
       "              random_state=0, reg_alpha=0, reg_lambda=1, scale_pos_weight=None,\n",
       "              subsample=1, tree_method='exact', validate_parameters=1,\n",
       "              verbosity=None)"
      ]
     },
     "execution_count": 95,
     "metadata": {},
     "output_type": "execute_result"
    }
   ],
   "source": [
    "xgb_cl = XGBClassifier(random_state =123)\n",
    "xgb_cl.fit(X_train, y_train)"
   ]
  },
  {
   "cell_type": "code",
   "execution_count": 96,
   "id": "e4855234",
   "metadata": {
    "slideshow": {
     "slide_type": "fragment"
    }
   },
   "outputs": [],
   "source": [
    "y_pred = model.predict(X_test)"
   ]
  },
  {
   "cell_type": "code",
   "execution_count": 97,
   "id": "5016c4de",
   "metadata": {
    "slideshow": {
     "slide_type": "subslide"
    }
   },
   "outputs": [
    {
     "name": "stdout",
     "output_type": "stream",
     "text": [
      "\n",
      "Classification Report\n",
      "\n",
      "              precision    recall  f1-score   support\n",
      "\n",
      "       Muons       0.98      0.96      0.97      4022\n",
      "       Pions       0.71      0.80      0.75       450\n",
      "   Positrons       0.97      0.91      0.94        43\n",
      "\n",
      "    accuracy                           0.95      4515\n",
      "   macro avg       0.89      0.89      0.89      4515\n",
      "weighted avg       0.95      0.95      0.95      4515\n",
      "\n"
     ]
    }
   ],
   "source": [
    "print('\\nClassification Report\\n')\n",
    "print(classification_report(\n",
    "    y_test, y_pred, \n",
    "    target_names=['Muons', 'Pions', 'Positrons']\n",
    "    )\n",
    ")"
   ]
  },
  {
   "cell_type": "code",
   "execution_count": 98,
   "id": "2c02e9e3",
   "metadata": {
    "slideshow": {
     "slide_type": "subslide"
    }
   },
   "outputs": [
    {
     "data": {
      "image/png": "[encoded data removed]",
      "text/plain": [
       "<Figure size 360x360 with 2 Axes>"
      ]
     },
     "metadata": {
      "needs_background": "light"
     },
     "output_type": "display_data"
    }
   ],
   "source": [
    "# Confusion matrix\n",
    "cm = confusion_matrix(y_test, y_pred)\n",
    "cm_df = pd.DataFrame(cm,\n",
    "                     index = ['Muons', 'Pions', 'Positrons'], \n",
    "                     columns = ['Muons', 'Pions', 'Positrons'])\n",
    "plt.figure(figsize=(5,5))\n",
    "sns.heatmap(cm_df, annot=True, fmt='d', cmap='YlGnBu')\n",
    "plt.title('Confusion Matrix')\n",
    "plt.ylabel('Actual Values')\n",
    "plt.xlabel('Predicted Values')\n",
    "plt.show()"
   ]
  },
  {
   "cell_type": "markdown",
   "id": "c53da9ff",
   "metadata": {
    "slideshow": {
     "slide_type": "slide"
    }
   },
   "source": [
    "## AdaBoost Classifier baseline model"
   ]
  },
  {
   "cell_type": "code",
   "execution_count": 103,
   "id": "036f785f",
   "metadata": {
    "slideshow": {
     "slide_type": "fragment"
    }
   },
   "outputs": [],
   "source": [
    "abc = AdaBoostClassifier(n_estimators=100, random_state=123)\n",
    "abc.fit(X_train, y_train)\n",
    "y_pred = model.predict(X_test)"
   ]
  },
  {
   "cell_type": "code",
   "execution_count": 104,
   "id": "948c62e2",
   "metadata": {},
   "outputs": [
    {
     "name": "stdout",
     "output_type": "stream",
     "text": [
      "\n",
      "Classification Report\n",
      "\n",
      "              precision    recall  f1-score   support\n",
      "\n",
      "       Muons       0.98      0.96      0.97      4022\n",
      "       Pions       0.71      0.80      0.75       450\n",
      "   Positrons       0.97      0.91      0.94        43\n",
      "\n",
      "    accuracy                           0.95      4515\n",
      "   macro avg       0.89      0.89      0.89      4515\n",
      "weighted avg       0.95      0.95      0.95      4515\n",
      "\n"
     ]
    }
   ],
   "source": [
    "print('\\nClassification Report\\n')\n",
    "print(classification_report(\n",
    "    y_test, y_pred, \n",
    "    target_names=['Muons', 'Pions', 'Positrons']\n",
    "    )\n",
    ")"
   ]
  },
  {
   "cell_type": "code",
   "execution_count": 105,
   "id": "50e999ee",
   "metadata": {},
   "outputs": [
    {
     "data": {
      "image/png": "[encoded data removed]",
      "text/plain": [
       "<Figure size 360x360 with 2 Axes>"
      ]
     },
     "metadata": {
      "needs_background": "light"
     },
     "output_type": "display_data"
    }
   ],
   "source": [
    "# Confusion matrix\n",
    "cm = confusion_matrix(y_test, y_pred)\n",
    "cm_df = pd.DataFrame(cm,\n",
    "                     index = ['Muons', 'Pions', 'Positrons'], \n",
    "                     columns = ['Muons', 'Pions', 'Positrons'])\n",
    "plt.figure(figsize=(5,5))\n",
    "sns.heatmap(cm_df, annot=True, fmt='d', cmap='YlGnBu')\n",
    "plt.title('Confusion Matrix')\n",
    "plt.ylabel('Actual Values')\n",
    "plt.xlabel('Predicted Values')\n",
    "plt.show()"
   ]
  },
  {
   "cell_type": "code",
   "execution_count": null,
   "id": "8833388f",
   "metadata": {},
   "outputs": [],
   "source": []
  }
 ],
 "metadata": {
  "celltoolbar": "Slideshow",
  "kernelspec": {
   "display_name": "Python 3 (ipykernel)",
   "language": "python",
   "name": "python3"
  },
  "language_info": {
   "codemirror_mode": {
    "name": "ipython",
    "version": 3
   },
   "file_extension": ".py",
   "mimetype": "text/x-python",
   "name": "python",
   "nbconvert_exporter": "python",
   "pygments_lexer": "ipython3",
   "version": "3.8.12"
  }
 },
 "nbformat": 4,
 "nbformat_minor": 5
}
