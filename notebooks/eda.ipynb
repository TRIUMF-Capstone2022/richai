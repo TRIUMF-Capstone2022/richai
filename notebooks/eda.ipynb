{
 "cells": [
  {
   "cell_type": "markdown",
   "id": "c537cb6c",
   "metadata": {
    "slideshow": {
     "slide_type": "slide"
    }
   },
   "source": [
    "# Exploratory Data Analysis\n",
    "Smoothing parameters/ bimodality, & Momentum densities"
   ]
  },
  {
   "cell_type": "code",
   "execution_count": 78,
   "id": "3417f39e",
   "metadata": {
    "slideshow": {
     "slide_type": "skip"
    }
   },
   "outputs": [],
   "source": [
    "import logging\n",
    "import mmap\n",
    "import h5py\n",
    "import torch\n",
    "from torch.utils.data import Dataset\n",
    "import numpy as np\n",
    "import os\n",
    "import matplotlib as pyplt\n",
    "import matplotlib.pyplot as plt\n",
    "import matplotlib.lines as lines\n",
    "import seaborn as sns\n",
    "from joblib import Parallel, delayed\n",
    "import plotly.figure_factory as ff\n",
    "import plotly.io as pio\n",
    "pio.renderers.default = 'iframe'"
   ]
  },
  {
   "cell_type": "markdown",
   "id": "8e9b7c63",
   "metadata": {
    "slideshow": {
     "slide_type": "subslide"
    }
   },
   "source": [
    "## 1. Extracting data\n",
    " (_Using modified code from RICHPID, Original author: Bob_)\n",
    " - File used: A/Run008548\n",
    " - No. of events: 128982\n",
    " "
   ]
  },
  {
   "cell_type": "code",
   "execution_count": 28,
   "id": "e979caaa",
   "metadata": {
    "slideshow": {
     "slide_type": "skip"
    }
   },
   "outputs": [],
   "source": [
    "logger = logging.getLogger(__name__)"
   ]
  },
  {
   "cell_type": "code",
   "execution_count": 29,
   "id": "85c87965",
   "metadata": {
    "slideshow": {
     "slide_type": "skip"
    }
   },
   "outputs": [],
   "source": [
    "def compute_seq_id(hit, or_id=0):\n",
    "    disk_id, pm_id, sc_id, up_dw_id, _ = hit\n",
    "    \"\"\"Compute the RICH PMT sequence ID\"\"\"\n",
    "    if or_id < 1:\n",
    "        seq_id = sc_id * 8 + pm_id + up_dw_id * 61 * 8 + disk_id * 61 * 8 * 2\n",
    "    else:\n",
    "        seq_id = 61 * 8 * 2 * 2 + sc_id + up_dw_id * 61 + disk_id * 61 * 2\n",
    "    return int(seq_id)\n",
    "\n",
    "compute_seq_id = np.vectorize(compute_seq_id)"
   ]
  },
  {
   "cell_type": "code",
   "execution_count": 30,
   "id": "6a57656d",
   "metadata": {
    "slideshow": {
     "slide_type": "skip"
    }
   },
   "outputs": [],
   "source": [
    "# Original Author: Bob ; modified for adding labels (ref: notebooks/input_data)\n",
    "class RICHDataset(Dataset):\n",
    "    \"\"\"RICH pytorch dataset.\"\"\"\n",
    "\n",
    "    def check_dataset(self, name, obj):\n",
    "        \"\"\" \"Check the input file fromat.\"\"\"\n",
    "        if isinstance(obj, h5py.Dataset):\n",
    "            print(name, obj.shape)\n",
    "            print(name, obj.chunks)\n",
    "            print(name, obj.compression)\n",
    "            print(name, obj.dtype)\n",
    "            # raise BadDataFormat('Unexpected data format, check the logs.')\n",
    "\n",
    "    def __init__(\n",
    "        self, dset_path, val_split, test_split, return_type=\"tensor\", seed=None\n",
    "    ):\n",
    "\n",
    "        self.return_type = return_type\n",
    "\n",
    "        if seed:\n",
    "            np.random.seed(seed)\n",
    "\n",
    "        # We don't attempt to catch exception here, crash if we cannot open the file.\n",
    "        with h5py.File(dset_path, \"r\") as dfile:\n",
    "\n",
    "            for key in dfile.attrs:\n",
    "                logger.info(\"%s: %s\", key, dfile.attrs[key])\n",
    "\n",
    "            # We don't attempt to catch exception here,\n",
    "            # crash if the data format is not what we were expecting.\n",
    "            dfile.visititems(self.check_dataset)\n",
    "\n",
    "            # Load the hit map into memory\n",
    "            self.hit_mapping = np.asarray(dfile[\"HitMapping\"][:])\n",
    "            logger.info(\"hit map size: %i bytes\", self.hit_mapping.nbytes)\n",
    "            self.N = len(self.hit_mapping) - 1  # !!! The last cell is the sentinel !!!\n",
    "\n",
    "            # Get the info we need to memory map the hits\n",
    "            hit_ds = dfile[\"Hits\"]\n",
    "            hit_offset = hit_ds.id.get_offset()\n",
    "            hit_dtype = hit_ds.dtype\n",
    "            hit_shape = hit_ds.shape\n",
    "            hit_length = np.prod(hit_shape)\n",
    "\n",
    "            # Get the info we need to memory map the events\n",
    "            event_ds = dfile[\"Events\"]\n",
    "            event_offset = event_ds.id.get_offset()\n",
    "            event_dtype = event_ds.dtype\n",
    "            event_shape = event_ds.shape\n",
    "            event_length = np.prod(event_shape)\n",
    "\n",
    "            # Add labels\n",
    "            mu_off = dfile.attrs[\"muon_offset\"]\n",
    "            pi_off = dfile.attrs[\"pion_offset\"]\n",
    "            pos_off = dfile.attrs[\"positron_offset\"]\n",
    "            entries = dfile.attrs[\"entries\"]\n",
    "\n",
    "            # muon: 0, pion: 1, positron: 2\n",
    "            self.labels = np.zeros(entries, dtype=np.int32)\n",
    "            self.labels[mu_off:pi_off] = 0\n",
    "            self.labels[pi_off:pos_off] = 1\n",
    "            self.labels[pos_off:] = 2\n",
    "\n",
    "            logger.info(f'Entries: {entries}')\n",
    "            logger.info(f'Muons start at index: {mu_off}')\n",
    "            logger.info(f'Pions start at index: {pi_off}')\n",
    "            logger.info(f'Positron start at index: {pos_off}')\n",
    "\n",
    "            # train test indices\n",
    "            indices = np.arange(len(self))\n",
    "            n_val = int(len(indices) * val_split)\n",
    "            n_test = int(len(indices) * test_split)\n",
    "            self.train_indices = indices[: -n_val - n_test]\n",
    "            self.val_indices = indices[-n_test - n_val : -n_test]\n",
    "            self.test_indices = indices[-n_test:]\n",
    "\n",
    "        # We don't attempt to catch exception here, crash if we cannot open the file.\n",
    "        with open(dset_path, \"rb\") as fh:\n",
    "            fileno = fh.fileno()\n",
    "            mapping = mmap.mmap(fileno, 0, access=mmap.ACCESS_READ)\n",
    "            self.hit_array = np.frombuffer(\n",
    "                mapping, dtype=hit_dtype, count=hit_length, offset=hit_offset\n",
    "            ).reshape(hit_shape)\n",
    "            logger.info(\"hit array mmap size: %i bytes\", self.hit_array.nbytes)\n",
    "            self.event_array = np.frombuffer(\n",
    "                mapping, dtype=event_dtype, count=event_length, offset=event_offset\n",
    "            ).reshape(event_shape)\n",
    "            logger.info(\"event array mmap size: %i bytes\", self.event_array.nbytes)\n",
    "\n",
    "    def get_position_data(self):\n",
    "        return np.load(os.path.join(\"../tools\", \"rich_pmt_positions.npy\"))\n",
    "\n",
    "    def get_event_pos(self, idx):\n",
    "\n",
    "        # get hits\n",
    "        idx_from = self.hit_mapping[idx]\n",
    "        idx_to = self.hit_mapping[idx + 1]\n",
    "        hits = self.hit_array[idx_from:idx_to]\n",
    "\n",
    "        # load position map data\n",
    "        position_map = self.get_position_data()\n",
    "\n",
    "        # create index\n",
    "        index = compute_seq_id(hits)\n",
    "        event_pos = position_map[index]\n",
    "\n",
    "        return event_pos\n",
    "\n",
    "    def __len__(self):\n",
    "        return self.N\n",
    "\n",
    "    def __getitem__(self, idx):\n",
    "        if not isinstance(idx, int):\n",
    "            raise NotImplementedError(f\"{type(idx)} type key access is not implemented\")\n",
    "        if idx < 0:\n",
    "            raise NotImplementedError(\"negative index access is not implemented\")\n",
    "\n",
    "        idx_from = self.hit_mapping[idx]\n",
    "        idx_to = self.hit_mapping[idx + 1]\n",
    "\n",
    "        # prepare data\n",
    "        event_pos = self.get_event_pos(idx)\n",
    "        labels = self.labels[idx]\n",
    "        hit_time = self.hit_array[idx_from:idx_to][\"hit_time\"]\n",
    "        chod_time = self.event_array[idx][\"chod_time\"]\n",
    "        track_momentum = self.event_array[idx][\"track_momentum\"]\n",
    "        ring_radius = self.event_array[idx][\"ring_radius\"]\n",
    "\n",
    "        if self.return_type == \"numpy\":\n",
    "            return {\n",
    "                \"event_pos\": event_pos,\n",
    "                \"label\": labels,\n",
    "                \"hit_time\": hit_time,\n",
    "                \"chod_time\": chod_time,\n",
    "                \"track_momentum\": track_momentum,\n",
    "                \"ring_radius\": ring_radius,\n",
    "            }\n",
    "        elif self.return_type == \"tensor\":\n",
    "            return {\n",
    "                \"event_pos\": torch.tensor(event_pos),\n",
    "                \"label\": torch.tensor(labels),\n",
    "                \"hit_time\": torch.tensor(hit_time),\n",
    "                \"chod_time\": torch.tensor(chod_time),\n",
    "                \"track_momentum\": torch.tensor(track_momentum),\n",
    "                \"ring_radius\": torch.tensor(ring_radius),\n",
    "            }\n"
   ]
  },
  {
   "cell_type": "code",
   "execution_count": 31,
   "id": "62aab101",
   "metadata": {
    "slideshow": {
     "slide_type": "fragment"
    }
   },
   "outputs": [
    {
     "name": "stdout",
     "output_type": "stream",
     "text": [
      "Events (128982,)\n",
      "Events None\n",
      "Events None\n",
      "Events {'names': ['run_id', 'burst_id', 'event_id', 'track_id', 'track_momentum', 'chod_time', 'ring_radius', 'ring_centre_pos', 'ring_likelihood'], 'formats': ['<i4', '<i4', '<i8', '<i4', '<f4', '<f4', '<f4', ('<f4', (2,)), ('<f4', (3,))], 'offsets': [0, 4, 8, 16, 20, 24, 28, 32, 40], 'itemsize': 56}\n",
      "HitMapping (128983,)\n",
      "HitMapping (128982,)\n",
      "HitMapping gzip\n",
      "HitMapping int64\n",
      "Hits (4689741,)\n",
      "Hits None\n",
      "Hits None\n",
      "Hits [('disk_id', '<i4'), ('pmt_id', '<i4'), ('supercell_id', '<i4'), ('updowndisk_id', '<i4'), ('hit_time', '<f4')]\n"
     ]
    }
   ],
   "source": [
    "# Reading in data from /data/bvelghe/capstone2022/A/ using dataloader RICHDataset\n",
    "dset_path = \"/data/bvelghe/capstone2022/A/Run008548.EOSlist.CTRL.p.v2.0.4-01_f.v2.0.4-01.h5\"\n",
    "dset = RICHDataset(\n",
    "    dset_path,\n",
    "    val_split=0.1, \n",
    "    test_split=0.1, \n",
    "    return_type=\"tensor\"\n",
    ")"
   ]
  },
  {
   "cell_type": "code",
   "execution_count": 32,
   "id": "5f6d41fe",
   "metadata": {
    "slideshow": {
     "slide_type": "subslide"
    }
   },
   "outputs": [],
   "source": [
    "# Fetching offsets and no. of events (entries)\n",
    "dfile = h5py.File(dset_path, 'r')\n",
    "mu_off = dfile.attrs[\"muon_offset\"]\n",
    "pi_off = dfile.attrs[\"pion_offset\"]\n",
    "pos_off = dfile.attrs[\"positron_offset\"]\n",
    "entries = dfile.attrs[\"entries\"]"
   ]
  },
  {
   "attachments": {
    "Screenshot%202022-05-17%20at%201.04.41%20PM.png": {
     "image/png": "[encoded data removed]"
    }
   },
   "cell_type": "markdown",
   "id": "a73d9b97",
   "metadata": {
    "slideshow": {
     "slide_type": "subslide"
    }
   },
   "source": [
    "## 3. EDA Objectives \n",
    "\n",
    "We have already done preliminary exploratory data analysis, wherein we observed a lot of noise in the hits data (variable length array). So, our post preliminary EDA, our key goals are as follows:\n",
    "\n",
    "### 3.1 Filtering the noise in hits data\n",
    "\n",
    "To achieve this, we explored hit times ~ chod times delta. Note: While we understand that pointnet/ GCNN, may be able to handle this implicitly, but we might need this for further improving metrics. \n",
    "\n",
    "From https://github.com/TRIUMF-Capstone2022/RICHPID/blob/main/docs/slides/intro_data_apr8_v0.pdf, \n",
    "![Screenshot%202022-05-17%20at%201.04.41%20PM.png](attachment:Screenshot%202022-05-17%20at%201.04.41%20PM.png)"
   ]
  },
  {
   "cell_type": "markdown",
   "id": "0fc8a1bb",
   "metadata": {
    "slideshow": {
     "slide_type": "subslide"
    }
   },
   "source": [
    "### 3.1.1 A single event (muon)"
   ]
  },
  {
   "cell_type": "code",
   "execution_count": 103,
   "id": "bb6986e9",
   "metadata": {
    "slideshow": {
     "slide_type": "fragment"
    }
   },
   "outputs": [
    {
     "data": {
      "image/png": "[encoded data removed]",
      "text/plain": [
       "<Figure size 432x288 with 1 Axes>"
      ]
     },
     "metadata": {
      "needs_background": "light"
     },
     "output_type": "display_data"
    }
   ],
   "source": [
    "# Resolving the smoothing issue\n",
    "fig = sns.kdeplot(ht_muon, bw_adjust=1, label = \"kde with bw = 1\", x = 'delta (ns)', dashes = (2,2))\n",
    "fig = sns.kdeplot(ht_muon, bw_adjust=3, label = \"kde with bw = 3\")\n",
    "plt.legend()\n",
    "plt.show()"
   ]
  },
  {
   "cell_type": "markdown",
   "id": "c60ceec0",
   "metadata": {
    "slideshow": {
     "slide_type": "subslide"
    }
   },
   "source": [
    "### 3.1.2 Densities of delta (hit time - chod time) for 1000 events"
   ]
  },
  {
   "cell_type": "markdown",
   "id": "8cd74421",
   "metadata": {
    "slideshow": {
     "slide_type": "fragment"
    }
   },
   "source": [
    "#### n = 1000 Events"
   ]
  },
  {
   "cell_type": "code",
   "execution_count": 40,
   "id": "09f01a0f",
   "metadata": {
    "slideshow": {
     "slide_type": "skip"
    }
   },
   "outputs": [],
   "source": [
    "# Sample size\n",
    "n = 1000"
   ]
  },
  {
   "cell_type": "code",
   "execution_count": 41,
   "id": "48bed578",
   "metadata": {
    "slideshow": {
     "slide_type": "skip"
    }
   },
   "outputs": [],
   "source": [
    "# Defining function for delta\n",
    "def delta(i):\n",
    "    return (dset[i]['hit_time'] - dset[i]['chod_time']).numpy().mean()"
   ]
  },
  {
   "cell_type": "code",
   "execution_count": 81,
   "id": "4f750063",
   "metadata": {
    "slideshow": {
     "slide_type": "skip"
    }
   },
   "outputs": [],
   "source": [
    "# Defining function for randomly sampling indices\n",
    "def get_idx(n, offset, seed=123):\n",
    "    \"\"\"Returns randomly sampled list of indices\"\"\"\n",
    "    np.random.seed(seed)\n",
    "    idx_start = offset\n",
    "    idx_end = offset + n\n",
    "\n",
    "    idx_list = np.random.choice(\n",
    "        range(idx_start, idx_end),\n",
    "        n, \n",
    "        replace = False\n",
    "    )\n",
    "    return idx_list"
   ]
  },
  {
   "cell_type": "code",
   "execution_count": 91,
   "id": "11794252",
   "metadata": {
    "slideshow": {
     "slide_type": "fragment"
    }
   },
   "outputs": [
    {
     "data": {
      "text/plain": [
       "115340"
      ]
     },
     "execution_count": 91,
     "metadata": {},
     "output_type": "execute_result"
    }
   ],
   "source": [
    "# Muons: \n",
    "pi_off - mu_off"
   ]
  },
  {
   "cell_type": "code",
   "execution_count": 92,
   "id": "eba8ac60",
   "metadata": {
    "slideshow": {
     "slide_type": "fragment"
    }
   },
   "outputs": [
    {
     "data": {
      "text/plain": [
       "12471"
      ]
     },
     "execution_count": 92,
     "metadata": {},
     "output_type": "execute_result"
    }
   ],
   "source": [
    "# Pions\n",
    "pos_off - pi_off"
   ]
  },
  {
   "cell_type": "code",
   "execution_count": 93,
   "id": "c27e7171",
   "metadata": {
    "slideshow": {
     "slide_type": "fragment"
    }
   },
   "outputs": [
    {
     "data": {
      "text/plain": [
       "1170"
      ]
     },
     "execution_count": 93,
     "metadata": {},
     "output_type": "execute_result"
    }
   ],
   "source": [
    "# Positrons\n",
    "entries - 1 - pos_off"
   ]
  },
  {
   "cell_type": "code",
   "execution_count": 90,
   "id": "2211525f",
   "metadata": {
    "slideshow": {
     "slide_type": "skip"
    }
   },
   "outputs": [],
   "source": [
    "# Getting 1000, 10,000 indices (Except pion which has only 1170 events)\n",
    "# Muons\n",
    "idx_list_muon_1000 = get_idx(1000, mu_off, pi_off)\n",
    "idx_list_muon_10_000 = get_idx(10000, mu_off, pi_off)\n",
    "\n",
    "# Pions\n",
    "idx_list_pion_1000 = get_idx(1000, pi_off, pos_off)\n",
    "idx_list_pion_10_000 = get_idx(10000, pi_off, pos_off)\n",
    "\n",
    "# Positrons\n",
    "idx_list_positron_1000 = get_idx(1000, pos_off, entries - 1)"
   ]
  },
  {
   "cell_type": "code",
   "execution_count": 83,
   "id": "90f5d371",
   "metadata": {
    "slideshow": {
     "slide_type": "skip"
    }
   },
   "outputs": [],
   "source": [
    "# Getting delta for the sampled events - muons\n",
    "delta_muon_A_1000 = Parallel(n_jobs=-1)(delayed(delta)(int(i)) for i in idx_list_muon_1000)\n",
    "delta_muon_A_10_000 = Parallel(n_jobs=-1)(delayed(delta)(int(i)) for i in idx_list_muon_10_000)"
   ]
  },
  {
   "cell_type": "code",
   "execution_count": 87,
   "id": "e68d35de",
   "metadata": {
    "slideshow": {
     "slide_type": "skip"
    }
   },
   "outputs": [],
   "source": [
    "# Getting delta for the sampled events - pions\n",
    "delta_pion_A_1000 = Parallel(n_jobs=-1)(delayed(delta)(int(i)) for i in idx_list_pion_1000)\n",
    "delta_pion_A_10_000 = Parallel(n_jobs=-1)(delayed(delta)(int(i)) for i in idx_list_pion_10_000)"
   ]
  },
  {
   "cell_type": "code",
   "execution_count": 94,
   "id": "4d39439f",
   "metadata": {
    "slideshow": {
     "slide_type": "skip"
    }
   },
   "outputs": [],
   "source": [
    "# Getting delta for the sampled events - positrons\n",
    "delta_positron_A_1000 = Parallel(n_jobs=-1)(delayed(delta)(int(i)) for i in idx_list_positron_1000)"
   ]
  },
  {
   "cell_type": "code",
   "execution_count": 95,
   "id": "eb2427e8",
   "metadata": {
    "scrolled": false,
    "slideshow": {
     "slide_type": "subslide"
    }
   },
   "outputs": [
    {
     "data": {
      "text/html": [
       "<iframe\n",
       "    scrolling=\"no\"\n",
       "    width=\"100%\"\n",
       "    height=\"545px\"\n",
       "    src=\"iframe_figures/figure_95.html\"\n",
       "    frameborder=\"0\"\n",
       "    allowfullscreen\n",
       "></iframe>\n"
      ]
     },
     "metadata": {},
     "output_type": "display_data"
    }
   ],
   "source": [
    "# Add histogram data\n",
    "\n",
    "# Group data together\n",
    "hist_data = [\n",
    "    delta_muon_A_1000, delta_muon_A_10_000,\n",
    "    delta_pion_A_1000, delta_pion_A_10_000,\n",
    "    delta_positron_A_1000\n",
    "]\n",
    "group_labels = [\n",
    "    '1000 muon events', '10,000 muon events',\n",
    "    '1000 pion events', '10,000 pion events',\n",
    "    '1000 positron events'\n",
    "]\n",
    "\n",
    "# Create distplot with custom bin_size\n",
    "fig = ff.create_distplot(hist_data, group_labels, bin_size=2, curve_type=\"normal\", )\n",
    "fig.update_layout(\n",
    "    title_text=f'Distplots of randomly sampled delta (hit time - chod time) for 1,000 & 10,000 events',\n",
    "    \n",
    ")\n",
    "fig.show()"
   ]
  },
  {
   "cell_type": "markdown",
   "id": "673bf7c0",
   "metadata": {
    "slideshow": {
     "slide_type": "subslide"
    }
   },
   "source": [
    "### 90 % cut-off"
   ]
  },
  {
   "cell_type": "code",
   "execution_count": 113,
   "id": "6e09c709",
   "metadata": {
    "slideshow": {
     "slide_type": "fragment"
    }
   },
   "outputs": [
    {
     "name": "stdout",
     "output_type": "stream",
     "text": [
      "(-22.053754959106445, 19.965875062942505)\n"
     ]
    }
   ],
   "source": [
    "# Muons\n",
    "mean_ = np.mean(delta_muon_A_10_000)\n",
    "sd_ = np.std(delta_muon_A_10_000)\n",
    "print((mean_ - 1.645 * sd_, mean_ + 1.645 * sd_))"
   ]
  },
  {
   "cell_type": "code",
   "execution_count": 114,
   "id": "e8c299d5",
   "metadata": {
    "slideshow": {
     "slide_type": "fragment"
    }
   },
   "outputs": [
    {
     "name": "stdout",
     "output_type": "stream",
     "text": [
      "(-28.065075974464417, 24.210910420417786)\n"
     ]
    }
   ],
   "source": [
    "# Pions\n",
    "mean_ = np.mean(delta_pion_A_10_000)\n",
    "sd_ = np.std(delta_pion_A_10_000)\n",
    "print((mean_ - 1.645 * sd_, mean_ + 1.645 * sd_))"
   ]
  },
  {
   "cell_type": "code",
   "execution_count": 115,
   "id": "7907bf8f",
   "metadata": {
    "slideshow": {
     "slide_type": "fragment"
    }
   },
   "outputs": [
    {
     "name": "stdout",
     "output_type": "stream",
     "text": [
      "(-27.169797368049622, 24.202773756980896)\n"
     ]
    }
   ],
   "source": [
    "# Positrons\n",
    "mean_ = np.mean(delta_positron_A_1000)\n",
    "sd_ = np.std(delta_positron_A_1000)\n",
    "print((mean_ - 1.645 * sd_, mean_ + 1.645 * sd_))"
   ]
  },
  {
   "cell_type": "code",
   "execution_count": 75,
   "id": "9ee213d2",
   "metadata": {},
   "outputs": [],
   "source": [
    "delta_muon_A = Parallel(n_jobs=-1)(delayed(delta)(int(i)) for i in idx_list_muon_n)"
   ]
  },
  {
   "cell_type": "code",
   "execution_count": 76,
   "id": "b2765b56",
   "metadata": {},
   "outputs": [
    {
     "ename": "NameError",
     "evalue": "name 'idx_list_muon_10000' is not defined",
     "output_type": "error",
     "traceback": [
      "\u001b[0;31m---------------------------------------------------------------------------\u001b[0m",
      "\u001b[0;31mNameError\u001b[0m                                 Traceback (most recent call last)",
      "Input \u001b[0;32mIn [76]\u001b[0m, in \u001b[0;36m<module>\u001b[0;34m\u001b[0m\n\u001b[0;32m----> 1\u001b[0m delta_muon_A_10000 \u001b[38;5;241m=\u001b[39m Parallel(n_jobs\u001b[38;5;241m=\u001b[39m\u001b[38;5;241m-\u001b[39m\u001b[38;5;241m1\u001b[39m)(delayed(delta)(\u001b[38;5;28mint\u001b[39m(i)) \u001b[38;5;28;01mfor\u001b[39;00m i \u001b[38;5;129;01min\u001b[39;00m \u001b[43midx_list_muon_10000\u001b[49m)\n",
      "\u001b[0;31mNameError\u001b[0m: name 'idx_list_muon_10000' is not defined"
     ]
    },
    {
     "name": "stderr",
     "output_type": "stream",
     "text": [
      "--- Logging error ---\n",
      "Traceback (most recent call last):\n",
      "  File \"/opt/conda/lib/python3.8/site-packages/ipykernel/kernelbase.py\", line 461, in dispatch_queue\n",
      "    await self.process_one()\n",
      "  File \"/opt/conda/lib/python3.8/site-packages/ipykernel/kernelbase.py\", line 450, in process_one\n",
      "    await dispatch(*args)\n",
      "TypeError: object NoneType can't be used in 'await' expression\n",
      "\n",
      "During handling of the above exception, another exception occurred:\n",
      "\n",
      "Traceback (most recent call last):\n",
      "  File \"/opt/conda/lib/python3.8/logging/__init__.py\", line 1089, in emit\n",
      "    self.flush()\n",
      "  File \"/opt/conda/lib/python3.8/logging/__init__.py\", line 1069, in flush\n",
      "    self.stream.flush()\n",
      "OSError: [Errno 5] Input/output error\n",
      "Call stack:\n",
      "  File \"/opt/conda/lib/python3.8/runpy.py\", line 194, in _run_module_as_main\n",
      "    return _run_code(code, main_globals, None,\n",
      "  File \"/opt/conda/lib/python3.8/runpy.py\", line 87, in _run_code\n",
      "    exec(code, run_globals)\n",
      "  File \"/opt/conda/lib/python3.8/site-packages/ipykernel_launcher.py\", line 16, in <module>\n",
      "    app.launch_new_instance()\n",
      "  File \"/opt/conda/lib/python3.8/site-packages/traitlets/config/application.py\", line 846, in launch_instance\n",
      "    app.start()\n",
      "  File \"/opt/conda/lib/python3.8/site-packages/ipykernel/kernelapp.py\", line 677, in start\n",
      "    self.io_loop.start()\n",
      "  File \"/opt/conda/lib/python3.8/site-packages/tornado/platform/asyncio.py\", line 199, in start\n",
      "    self.asyncio_loop.run_forever()\n",
      "  File \"/opt/conda/lib/python3.8/asyncio/base_events.py\", line 570, in run_forever\n",
      "    self._run_once()\n",
      "  File \"/opt/conda/lib/python3.8/asyncio/base_events.py\", line 1859, in _run_once\n",
      "    handle._run()\n",
      "  File \"/opt/conda/lib/python3.8/asyncio/events.py\", line 81, in _run\n",
      "    self._context.run(self._callback, *self._args)\n",
      "  File \"/opt/conda/lib/python3.8/site-packages/ipykernel/kernelbase.py\", line 463, in dispatch_queue\n",
      "    self.log.exception(\"Error in message handler\")\n",
      "Message: 'Error in message handler'\n",
      "Arguments: ()\n"
     ]
    }
   ],
   "source": [
    "delta_muon_A_10000 = Parallel(n_jobs=-1)(delayed(delta)(int(i)) for i in idx_list_muon_10000)"
   ]
  },
  {
   "cell_type": "markdown",
   "id": "a5fc5a02",
   "metadata": {
    "slideshow": {
     "slide_type": "slide"
    }
   },
   "source": [
    "## 4. Momentum"
   ]
  },
  {
   "cell_type": "markdown",
   "id": "95c281c4",
   "metadata": {
    "slideshow": {
     "slide_type": "fragment"
    }
   },
   "source": [
    "***Sample size: n = 1000 events***"
   ]
  },
  {
   "cell_type": "markdown",
   "id": "3884de39",
   "metadata": {},
   "source": [
    "### 4.1 Muon events"
   ]
  },
  {
   "cell_type": "code",
   "execution_count": 18,
   "id": "2bdd8c56",
   "metadata": {},
   "outputs": [],
   "source": [
    "# Defining function for momentum\n",
    "def momentum(i):\n",
    "    return (dset[i]['track_momentum'].numpy())"
   ]
  },
  {
   "cell_type": "code",
   "execution_count": 19,
   "id": "cd8fdba6",
   "metadata": {},
   "outputs": [],
   "source": [
    "# Parallelising (currently for 1000 muon events)\n",
    "p_muon_A = Parallel(n_jobs=-1)(delayed(momentum)(int(i)) for i in idx_list_muon_n)"
   ]
  },
  {
   "cell_type": "markdown",
   "id": "0bcc9e11",
   "metadata": {},
   "source": [
    "### 4.2 Pion Events"
   ]
  },
  {
   "cell_type": "code",
   "execution_count": 21,
   "id": "746ad3c8",
   "metadata": {},
   "outputs": [],
   "source": [
    "# Getting indexes \n",
    "idx_list_pion_n = get_idx(n, pi_off)[:-1]  # Removing the sentinel value"
   ]
  },
  {
   "cell_type": "code",
   "execution_count": 22,
   "id": "248557c5",
   "metadata": {},
   "outputs": [],
   "source": [
    "# Parallelising for 1000 pion events\n",
    "p_pion_A = Parallel(n_jobs=-1)(delayed(momentum)(int(i)) for i in idx_list_pion_n)"
   ]
  },
  {
   "cell_type": "markdown",
   "id": "cbd64fcd",
   "metadata": {},
   "source": [
    "### 4.3 Positron events"
   ]
  },
  {
   "cell_type": "code",
   "execution_count": 24,
   "id": "54f899ae",
   "metadata": {},
   "outputs": [],
   "source": [
    "# Getting indexes \n",
    "idx_list_pos_n = get_idx(n, pos_off)"
   ]
  },
  {
   "cell_type": "code",
   "execution_count": 25,
   "id": "cf2b8169",
   "metadata": {},
   "outputs": [],
   "source": [
    "# Parallelising \n",
    "p_pos_A = Parallel(n_jobs=-1)(delayed(momentum)(int(i)) for i in idx_list_pos_n)"
   ]
  },
  {
   "cell_type": "markdown",
   "id": "a5c5925b",
   "metadata": {},
   "source": [
    "### 4.4 Overlay of momentum density plots all three particles for n = 1000 each"
   ]
  },
  {
   "cell_type": "code",
   "execution_count": 96,
   "id": "cd77e6a8",
   "metadata": {
    "scrolled": false,
    "slideshow": {
     "slide_type": "subslide"
    }
   },
   "outputs": [
    {
     "data": {
      "text/html": [
       "<iframe\n",
       "    scrolling=\"no\"\n",
       "    width=\"100%\"\n",
       "    height=\"545px\"\n",
       "    src=\"iframe_figures/figure_96.html\"\n",
       "    frameborder=\"0\"\n",
       "    allowfullscreen\n",
       "></iframe>\n"
      ]
     },
     "metadata": {},
     "output_type": "display_data"
    }
   ],
   "source": [
    "# Add histogram data\n",
    "sample_muon = np.asarray(p_muon_A)\n",
    "sample_pion = np.asarray(p_pion_A)\n",
    "sample_positron = np.asarray(p_pos_A)\n",
    "\n",
    "# Group data together\n",
    "hist_data = [sample_muon, sample_pion, sample_positron]\n",
    "group_labels = ['muon', 'pion', 'positron']\n",
    "\n",
    "# Create distplot with custom bin_size\n",
    "fig = ff.create_distplot(hist_data, group_labels, bin_size=[2,4,5,10], curve_type=\"normal\")\n",
    "fig.update_layout(\n",
    "    title_text=f'Distplots of sampled particles (n = {n}) with Normal Distribution',\n",
    "    \n",
    ")\n",
    "fig.show()"
   ]
  },
  {
   "cell_type": "markdown",
   "id": "dbea6179",
   "metadata": {
    "slideshow": {
     "slide_type": "skip"
    }
   },
   "source": [
    "#### Key findings:\n",
    "1. There are visible differences in the distributions of momentum of the three particles. While positron is clearly separated, Muon and pion are not that much separated by momentum values.\n",
    "2. We understand, from the ring radius ~ track momentum plot from other eda notebooks, the particles are \n",
    " - fairly separable in lower momentum bins, \n",
    " - less separable in medium, and \n",
    " - almost inseparable in higher momentum bins. \n",
    " \n",
    "Therefore, identifying cut-off momentum could be key to investigate further.\n",
    "\n",
    "One possible approach: consider an alpha range of [0.001, 0.01, 0.05], and find a cut-off point based on z values."
   ]
  }
 ],
 "metadata": {
  "celltoolbar": "Slideshow",
  "kernelspec": {
   "display_name": "Python 3 (ipykernel)",
   "language": "python",
   "name": "python3"
  },
  "language_info": {
   "codemirror_mode": {
    "name": "ipython",
    "version": 3
   },
   "file_extension": ".py",
   "mimetype": "text/x-python",
   "name": "python",
   "nbconvert_exporter": "python",
   "pygments_lexer": "ipython3",
   "version": "3.8.12"
  }
 },
 "nbformat": 4,
 "nbformat_minor": 5
}
