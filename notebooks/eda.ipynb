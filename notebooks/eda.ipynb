{
 "cells": [
  {
   "cell_type": "markdown",
   "id": "c537cb6c",
   "metadata": {},
   "source": [
    "# Exploratory Data Analysis"
   ]
  },
  {
   "cell_type": "code",
   "execution_count": 1,
   "id": "3417f39e",
   "metadata": {},
   "outputs": [],
   "source": [
    "import logging\n",
    "import mmap\n",
    "import h5py\n",
    "import torch\n",
    "from torch.utils.data import Dataset\n",
    "import numpy as np\n",
    "import os\n",
    "import matplotlib as pyplt\n",
    "import matplotlib.pyplot as plt\n",
    "import matplotlib.lines as lines\n",
    "import seaborn as sns\n",
    "from joblib import Parallel, delayed"
   ]
  },
  {
   "cell_type": "markdown",
   "id": "8e9b7c63",
   "metadata": {},
   "source": [
    "## 1. Extracting data\n",
    " (_Using modified code from RICHPID, Original author: Bob_)"
   ]
  },
  {
   "cell_type": "code",
   "execution_count": 2,
   "id": "e979caaa",
   "metadata": {},
   "outputs": [],
   "source": [
    "logger = logging.getLogger(__name__)"
   ]
  },
  {
   "cell_type": "code",
   "execution_count": 3,
   "id": "85c87965",
   "metadata": {},
   "outputs": [],
   "source": [
    "def compute_seq_id(hit, or_id=0):\n",
    "    disk_id, pm_id, sc_id, up_dw_id, _ = hit\n",
    "    \"\"\"Compute the RICH PMT sequence ID\"\"\"\n",
    "    if or_id < 1:\n",
    "        seq_id = sc_id * 8 + pm_id + up_dw_id * 61 * 8 + disk_id * 61 * 8 * 2\n",
    "    else:\n",
    "        seq_id = 61 * 8 * 2 * 2 + sc_id + up_dw_id * 61 + disk_id * 61 * 2\n",
    "    return int(seq_id)\n",
    "\n",
    "compute_seq_id = np.vectorize(compute_seq_id)"
   ]
  },
  {
   "cell_type": "code",
   "execution_count": 4,
   "id": "6a57656d",
   "metadata": {},
   "outputs": [],
   "source": [
    "# Original Author: Bob ; modified for adding labels (ref: notebooks/input_data)\n",
    "class RICHDataset(Dataset):\n",
    "    \"\"\"RICH pytorch dataset.\"\"\"\n",
    "\n",
    "    def check_dataset(self, name, obj):\n",
    "        \"\"\" \"Check the input file fromat.\"\"\"\n",
    "        if isinstance(obj, h5py.Dataset):\n",
    "            print(name, obj.shape)\n",
    "            print(name, obj.chunks)\n",
    "            print(name, obj.compression)\n",
    "            print(name, obj.dtype)\n",
    "            # raise BadDataFormat('Unexpected data format, check the logs.')\n",
    "\n",
    "    def __init__(\n",
    "        self, dset_path, val_split, test_split, return_type=\"tensor\", seed=None\n",
    "    ):\n",
    "\n",
    "        self.return_type = return_type\n",
    "\n",
    "        if seed:\n",
    "            np.random.seed(seed)\n",
    "\n",
    "        # We don't attempt to catch exception here, crash if we cannot open the file.\n",
    "        with h5py.File(dset_path, \"r\") as dfile:\n",
    "\n",
    "            for key in dfile.attrs:\n",
    "                logger.info(\"%s: %s\", key, dfile.attrs[key])\n",
    "\n",
    "            # We don't attempt to catch exception here,\n",
    "            # crash if the data format is not what we were expecting.\n",
    "            dfile.visititems(self.check_dataset)\n",
    "\n",
    "            # Load the hit map into memory\n",
    "            self.hit_mapping = np.asarray(dfile[\"HitMapping\"][:])\n",
    "            logger.info(\"hit map size: %i bytes\", self.hit_mapping.nbytes)\n",
    "            self.N = len(self.hit_mapping) - 1  # !!! The last cell is the sentinel !!!\n",
    "\n",
    "            # Get the info we need to memory map the hits\n",
    "            hit_ds = dfile[\"Hits\"]\n",
    "            hit_offset = hit_ds.id.get_offset()\n",
    "            hit_dtype = hit_ds.dtype\n",
    "            hit_shape = hit_ds.shape\n",
    "            hit_length = np.prod(hit_shape)\n",
    "\n",
    "            # Get the info we need to memory map the events\n",
    "            event_ds = dfile[\"Events\"]\n",
    "            event_offset = event_ds.id.get_offset()\n",
    "            event_dtype = event_ds.dtype\n",
    "            event_shape = event_ds.shape\n",
    "            event_length = np.prod(event_shape)\n",
    "\n",
    "            # Add labels\n",
    "            mu_off = dfile.attrs[\"muon_offset\"]\n",
    "            pi_off = dfile.attrs[\"pion_offset\"]\n",
    "            pos_off = dfile.attrs[\"positron_offset\"]\n",
    "            entries = dfile.attrs[\"entries\"]\n",
    "\n",
    "            # muon: 0, pion: 1, positron: 2\n",
    "            self.labels = np.zeros(entries, dtype=np.int32)\n",
    "            self.labels[mu_off:pi_off] = 0\n",
    "            self.labels[pi_off:pos_off] = 1\n",
    "            self.labels[pos_off:] = 2\n",
    "\n",
    "            logger.info(f'Entries: {entries}')\n",
    "            logger.info(f'Muons start at index: {mu_off}')\n",
    "            logger.info(f'Pions start at index: {pi_off}')\n",
    "            logger.info(f'Positron start at index: {pos_off}')\n",
    "\n",
    "            # train test indices\n",
    "            indices = np.arange(len(self))\n",
    "            n_val = int(len(indices) * val_split)\n",
    "            n_test = int(len(indices) * test_split)\n",
    "            self.train_indices = indices[: -n_val - n_test]\n",
    "            self.val_indices = indices[-n_test - n_val : -n_test]\n",
    "            self.test_indices = indices[-n_test:]\n",
    "\n",
    "        # We don't attempt to catch exception here, crash if we cannot open the file.\n",
    "        with open(dset_path, \"rb\") as fh:\n",
    "            fileno = fh.fileno()\n",
    "            mapping = mmap.mmap(fileno, 0, access=mmap.ACCESS_READ)\n",
    "            self.hit_array = np.frombuffer(\n",
    "                mapping, dtype=hit_dtype, count=hit_length, offset=hit_offset\n",
    "            ).reshape(hit_shape)\n",
    "            logger.info(\"hit array mmap size: %i bytes\", self.hit_array.nbytes)\n",
    "            self.event_array = np.frombuffer(\n",
    "                mapping, dtype=event_dtype, count=event_length, offset=event_offset\n",
    "            ).reshape(event_shape)\n",
    "            logger.info(\"event array mmap size: %i bytes\", self.event_array.nbytes)\n",
    "\n",
    "    def get_position_data(self):\n",
    "        return np.load(os.path.join(\"../tools\", \"rich_pmt_positions.npy\"))\n",
    "\n",
    "    def get_event_pos(self, idx):\n",
    "\n",
    "        # get hits\n",
    "        idx_from = self.hit_mapping[idx]\n",
    "        idx_to = self.hit_mapping[idx + 1]\n",
    "        hits = self.hit_array[idx_from:idx_to]\n",
    "\n",
    "        # load position map data\n",
    "        position_map = self.get_position_data()\n",
    "\n",
    "        # create index\n",
    "        index = compute_seq_id(hits)\n",
    "        event_pos = position_map[index]\n",
    "\n",
    "        return event_pos\n",
    "\n",
    "    def __len__(self):\n",
    "        return self.N\n",
    "\n",
    "    def __getitem__(self, idx):\n",
    "        if not isinstance(idx, int):\n",
    "            raise NotImplementedError(f\"{type(idx)} type key access is not implemented\")\n",
    "        if idx < 0:\n",
    "            raise NotImplementedError(\"negative index access is not implemented\")\n",
    "\n",
    "        idx_from = self.hit_mapping[idx]\n",
    "        idx_to = self.hit_mapping[idx + 1]\n",
    "\n",
    "        # prepare data\n",
    "        event_pos = self.get_event_pos(idx)\n",
    "        labels = self.labels[idx]\n",
    "        hit_time = self.hit_array[idx_from:idx_to][\"hit_time\"]\n",
    "        chod_time = self.event_array[idx][\"chod_time\"]\n",
    "        track_momentum = self.event_array[idx][\"track_momentum\"]\n",
    "        ring_radius = self.event_array[idx][\"ring_radius\"]\n",
    "\n",
    "        if self.return_type == \"numpy\":\n",
    "            return {\n",
    "                \"event_pos\": event_pos,\n",
    "                \"label\": labels,\n",
    "                \"hit_time\": hit_time,\n",
    "                \"chod_time\": chod_time,\n",
    "                \"track_momentum\": track_momentum,\n",
    "                \"ring_radius\": ring_radius,\n",
    "            }\n",
    "        elif self.return_type == \"tensor\":\n",
    "            return {\n",
    "                \"event_pos\": torch.tensor(event_pos),\n",
    "                \"label\": torch.tensor(labels),\n",
    "                \"hit_time\": torch.tensor(hit_time),\n",
    "                \"chod_time\": torch.tensor(chod_time),\n",
    "                \"track_momentum\": torch.tensor(track_momentum),\n",
    "                \"ring_radius\": torch.tensor(ring_radius),\n",
    "            }\n"
   ]
  },
  {
   "cell_type": "code",
   "execution_count": 11,
   "id": "62aab101",
   "metadata": {},
   "outputs": [
    {
     "name": "stdout",
     "output_type": "stream",
     "text": [
      "Events (128982,)\n",
      "Events None\n",
      "Events None\n",
      "Events {'names': ['run_id', 'burst_id', 'event_id', 'track_id', 'track_momentum', 'chod_time', 'ring_radius', 'ring_centre_pos', 'ring_likelihood'], 'formats': ['<i4', '<i4', '<i8', '<i4', '<f4', '<f4', '<f4', ('<f4', (2,)), ('<f4', (3,))], 'offsets': [0, 4, 8, 16, 20, 24, 28, 32, 40], 'itemsize': 56}\n",
      "HitMapping (128983,)\n",
      "HitMapping (128982,)\n",
      "HitMapping gzip\n",
      "HitMapping int64\n",
      "Hits (4689741,)\n",
      "Hits None\n",
      "Hits None\n",
      "Hits [('disk_id', '<i4'), ('pmt_id', '<i4'), ('supercell_id', '<i4'), ('updowndisk_id', '<i4'), ('hit_time', '<f4')]\n"
     ]
    }
   ],
   "source": [
    "# Reading in data from /data/bvelghe/capstone2022/A/ using dataloader RICHDataset\n",
    "dset_path = \"/data/bvelghe/capstone2022/A/Run008548.EOSlist.CTRL.p.v2.0.4-01_f.v2.0.4-01.h5\"\n",
    "dset = RICHDataset(\n",
    "    dset_path,\n",
    "    val_split=0.1, \n",
    "    test_split=0.1, \n",
    "    return_type=\"tensor\"\n",
    ")"
   ]
  },
  {
   "cell_type": "markdown",
   "id": "f1196c58",
   "metadata": {},
   "source": [
    "## 2. Fetching offsets (This needs to be built into RICHDataset class)"
   ]
  },
  {
   "cell_type": "code",
   "execution_count": 12,
   "id": "5f6d41fe",
   "metadata": {},
   "outputs": [],
   "source": [
    "# Reading in the raw data hdf5 file\n",
    "dfile = h5py.File(dset_path, 'r')"
   ]
  },
  {
   "cell_type": "code",
   "execution_count": 13,
   "id": "035410c2",
   "metadata": {},
   "outputs": [],
   "source": [
    "# offsets\n",
    "mu_off = dfile.attrs[\"muon_offset\"]\n",
    "pi_off = dfile.attrs[\"pion_offset\"]\n",
    "pos_off = dfile.attrs[\"positron_offset\"]\n",
    "entries = dfile.attrs[\"entries\"]"
   ]
  },
  {
   "cell_type": "code",
   "execution_count": 14,
   "id": "955fb19f",
   "metadata": {},
   "outputs": [
    {
     "data": {
      "text/plain": [
       "tensor([ 1.1471e-01, -4.3059e-02, -3.4746e-01, -1.2931e-01,  6.6697e-02,\n",
       "        -1.0588e-01, -3.4516e+01, -4.6711e-02, -7.9382e-02, -2.0903e-01,\n",
       "        -1.9880e-01, -1.1443e-02,  9.8967e-01,  1.4476e+00,  8.5365e-01,\n",
       "        -3.4213e+01, -1.5865e-01, -6.1951e-01, -6.4682e-02,  2.8284e-02,\n",
       "        -6.6747e-01, -6.9758e-01])"
      ]
     },
     "execution_count": 14,
     "metadata": {},
     "output_type": "execute_result"
    }
   ],
   "source": [
    "# Reading in delta for 1 event\n",
    "ht_muon = dset[0]['hit_time'] - dset[0]['chod_time']\n",
    "ht_muon"
   ]
  },
  {
   "cell_type": "markdown",
   "id": "0fc8a1bb",
   "metadata": {},
   "source": [
    "## Exploring hit_time, chod_time and momentum"
   ]
  },
  {
   "cell_type": "markdown",
   "id": "cd9b7b38",
   "metadata": {},
   "source": [
    "### 3.1 Plotting for delta (mean hit_time~chod_time) with Different smoothing parameters"
   ]
  },
  {
   "cell_type": "markdown",
   "id": "72864a77",
   "metadata": {},
   "source": [
    "***Low smoothing value*** : We observe bimodal densities"
   ]
  },
  {
   "cell_type": "code",
   "execution_count": 48,
   "id": "91a7ca21",
   "metadata": {},
   "outputs": [
    {
     "data": {
      "image/png": "[encoded data removed]",
      "text/plain": [
       "<Figure size 432x288 with 1 Axes>"
      ]
     },
     "metadata": {
      "needs_background": "light"
     },
     "output_type": "display_data"
    }
   ],
   "source": [
    "fig = sns.kdeplot(ht_muon, bw_adjust=0.1)\n",
    "fig = sns.kdeplot(ht_muon, bw_adjust=0.3)\n",
    "fig = sns.kdeplot(ht_muon, bw_adjust=0.6)\n",
    "plt.show()"
   ]
  },
  {
   "cell_type": "markdown",
   "id": "3c711e05",
   "metadata": {},
   "source": [
    "***High smoothing values***: We observe densities now centered around 0"
   ]
  },
  {
   "cell_type": "code",
   "execution_count": 16,
   "id": "bb6986e9",
   "metadata": {},
   "outputs": [
    {
     "data": {
      "image/png": "[encoded data removed]",
      "text/plain": [
       "<Figure size 432x288 with 1 Axes>"
      ]
     },
     "metadata": {
      "needs_background": "light"
     },
     "output_type": "display_data"
    }
   ],
   "source": [
    "fig = sns.kdeplot(ht_muon, bw_adjust=1)\n",
    "fig = sns.kdeplot(ht_muon, bw_adjust=3)\n",
    "plt.show()"
   ]
  },
  {
   "cell_type": "markdown",
   "id": "c60ceec0",
   "metadata": {},
   "source": [
    "### Plotting for Sub-sampled muon events"
   ]
  },
  {
   "cell_type": "markdown",
   "id": "b13b236f",
   "metadata": {},
   "source": [
    "#### 1000 Events"
   ]
  },
  {
   "cell_type": "code",
   "execution_count": 80,
   "id": "590ef082",
   "metadata": {},
   "outputs": [],
   "source": [
    "# Sample size\n",
    "n = 1000"
   ]
  },
  {
   "cell_type": "code",
   "execution_count": 17,
   "id": "48bed578",
   "metadata": {},
   "outputs": [],
   "source": [
    "# Defining function for delta\n",
    "def delta(i):\n",
    "    return (dset[i]['hit_time'] - dset[i]['chod_time']).numpy().mean()"
   ]
  },
  {
   "cell_type": "code",
   "execution_count": 77,
   "id": "90f90629",
   "metadata": {},
   "outputs": [],
   "source": [
    "# Defining function for randomly sampling indices\n",
    "def get_idx(n, offset, seed=123):\n",
    "    \"\"\"Returns randomly sampled list of indices\"\"\"\n",
    "    np.random.seed(seed)\n",
    "    idx_start = offset\n",
    "    idx_end = offset + n\n",
    "\n",
    "    idx_list = np.random.choice(\n",
    "        range(idx_start, idx_end),\n",
    "        n, \n",
    "        replace = False\n",
    "    )\n",
    "    return idx_list"
   ]
  },
  {
   "cell_type": "code",
   "execution_count": 92,
   "id": "c6fa72eb",
   "metadata": {},
   "outputs": [],
   "source": [
    "# Getting n indices from muon events\n",
    "idx_list_muon_n = get_idx(n, mu_off)"
   ]
  },
  {
   "cell_type": "code",
   "execution_count": 122,
   "id": "9ee213d2",
   "metadata": {},
   "outputs": [],
   "source": [
    "delta_muon_A = Parallel(n_jobs=-1)(delayed(delta)(int(i)) for i in idx_list_muon_n)"
   ]
  },
  {
   "cell_type": "code",
   "execution_count": 123,
   "id": "12b844a0",
   "metadata": {},
   "outputs": [
    {
     "data": {
      "text/plain": [
       "<AxesSubplot:ylabel='Density'>"
      ]
     },
     "execution_count": 123,
     "metadata": {},
     "output_type": "execute_result"
    },
    {
     "data": {
      "image/png": "[encoded data removed]",
      "text/plain": [
       "<Figure size 432x288 with 1 Axes>"
      ]
     },
     "metadata": {
      "needs_background": "light"
     },
     "output_type": "display_data"
    }
   ],
   "source": [
    "# Plotting delta for 1000 muon events\n",
    "sns.kdeplot(delta_muon_A)"
   ]
  },
  {
   "cell_type": "markdown",
   "id": "9ead0935",
   "metadata": {},
   "source": [
    "## 4. Plotting for momentum"
   ]
  },
  {
   "cell_type": "markdown",
   "id": "3884de39",
   "metadata": {},
   "source": [
    "### 4.1 Muon events"
   ]
  },
  {
   "cell_type": "code",
   "execution_count": 51,
   "id": "2bdd8c56",
   "metadata": {},
   "outputs": [],
   "source": [
    "# Defining function for momentum\n",
    "def momentum(i):\n",
    "    return (dset[i]['track_momentum'].numpy())"
   ]
  },
  {
   "cell_type": "code",
   "execution_count": 126,
   "id": "cd8fdba6",
   "metadata": {},
   "outputs": [],
   "source": [
    "# Parallelising (currently for 1000 muon events)\n",
    "p_muon_A = Parallel(n_jobs=-1)(delayed(momentum)(int(i)) for i in idx_list_muon_n)"
   ]
  },
  {
   "cell_type": "code",
   "execution_count": 127,
   "id": "70861840",
   "metadata": {
    "scrolled": true
   },
   "outputs": [
    {
     "data": {
      "text/plain": [
       "<AxesSubplot:ylabel='Density'>"
      ]
     },
     "execution_count": 127,
     "metadata": {},
     "output_type": "execute_result"
    },
    {
     "data": {
      "image/png": "[encoded data removed]",
      "text/plain": [
       "<Figure size 432x288 with 1 Axes>"
      ]
     },
     "metadata": {
      "needs_background": "light"
     },
     "output_type": "display_data"
    }
   ],
   "source": [
    "# Plotting momentum for 1000 muon events\n",
    "sns.kdeplot(np.asarray(p_muon_A))"
   ]
  },
  {
   "cell_type": "markdown",
   "id": "0bcc9e11",
   "metadata": {},
   "source": [
    "### 4.2 Pion Events"
   ]
  },
  {
   "cell_type": "code",
   "execution_count": 128,
   "id": "a170ea8b",
   "metadata": {},
   "outputs": [],
   "source": [
    "# Getting indexes \n",
    "idx_list_pion_n = get_idx(n, pi_off)"
   ]
  },
  {
   "cell_type": "code",
   "execution_count": 129,
   "id": "248557c5",
   "metadata": {},
   "outputs": [],
   "source": [
    "# Parallelising for 1000 pion events\n",
    "p_pion_A = Parallel(n_jobs=-1)(delayed(momentum)(int(i)) for i in idx_list_pion_n)"
   ]
  },
  {
   "cell_type": "code",
   "execution_count": 130,
   "id": "6c55820e",
   "metadata": {},
   "outputs": [
    {
     "data": {
      "image/png": "[encoded data removed]",
      "text/plain": [
       "<Figure size 432x288 with 1 Axes>"
      ]
     },
     "metadata": {
      "needs_background": "light"
     },
     "output_type": "display_data"
    }
   ],
   "source": [
    "# Plotting momentum for 1000 muon events\n",
    "sns.kdeplot(np.asarray(p_pion_A))"
   ]
  },
  {
   "cell_type": "markdown",
   "id": "16487992",
   "metadata": {},
   "source": [
    "### 4.3 Positron events"
   ]
  },
  {
   "cell_type": "code",
   "execution_count": 131,
   "id": "54f899ae",
   "metadata": {},
   "outputs": [],
   "source": [
    "# Getting indexes \n",
    "idx_list_pos_n = get_idx(n, pos_off)"
   ]
  },
  {
   "cell_type": "code",
   "execution_count": 133,
   "id": "2fcb2c62",
   "metadata": {},
   "outputs": [],
   "source": [
    "# Parallelising \n",
    "p_pos_A = Parallel(n_jobs=-1)(delayed(momentum)(int(i)) for i in idx_list_pos_n)"
   ]
  },
  {
   "cell_type": "code",
   "execution_count": 134,
   "id": "5df168b1",
   "metadata": {},
   "outputs": [
    {
     "data": {
      "image/png": "[encoded data removed]",
      "text/plain": [
       "<Figure size 432x288 with 1 Axes>"
      ]
     },
     "metadata": {
      "needs_background": "light"
     },
     "output_type": "display_data"
    }
   ],
   "source": [
    "# Plotting momentum for 1000 positron events\n",
    "fig = sns.kdeplot(np.asarray(p_pos_A))"
   ]
  },
  {
   "cell_type": "markdown",
   "id": "66dd3eba",
   "metadata": {},
   "source": [
    "### 4.4 Overlay of momentum density plots all three particles for n = 1000 each"
   ]
  },
  {
   "cell_type": "code",
   "execution_count": 135,
   "id": "0e36ba7c",
   "metadata": {},
   "outputs": [
    {
     "data": {
      "image/png": "[encoded data removed]",
      "text/plain": [
       "<Figure size 432x288 with 1 Axes>"
      ]
     },
     "metadata": {
      "needs_background": "light"
     },
     "output_type": "display_data"
    }
   ],
   "source": [
    "fig = sns.kdeplot(np.asarray(p_muon_A))\n",
    "fig = sns.kdeplot(np.asarray(p_pion_A))\n",
    "fig = sns.kdeplot(np.asarray(p_pos_A))\n",
    "plt.show()"
   ]
  },
  {
   "cell_type": "code",
   "execution_count": null,
   "id": "e15e6dd1",
   "metadata": {},
   "outputs": [],
   "source": []
  }
 ],
 "metadata": {
  "kernelspec": {
   "display_name": "Python 3 (ipykernel)",
   "language": "python",
   "name": "python3"
  },
  "language_info": {
   "codemirror_mode": {
    "name": "ipython",
    "version": 3
   },
   "file_extension": ".py",
   "mimetype": "text/x-python",
   "name": "python",
   "nbconvert_exporter": "python",
   "pygments_lexer": "ipython3",
   "version": "3.8.12"
  }
 },
 "nbformat": 4,
 "nbformat_minor": 5
}
