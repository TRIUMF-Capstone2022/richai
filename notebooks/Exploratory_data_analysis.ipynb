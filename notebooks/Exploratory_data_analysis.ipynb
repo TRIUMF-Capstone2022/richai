{
 "cells": [
  {
   "cell_type": "markdown",
   "id": "426f070e",
   "metadata": {},
   "source": [
    "# RICH AI Exploratory Data Analysis"
   ]
  },
  {
   "cell_type": "markdown",
   "id": "c3356ad4",
   "metadata": {},
   "source": [
    "Notes\n",
    "- Labels are 0: Muon, 1: Pion, 2: Positron\n",
    "- Likelihood labels are different [Pion, Muon, Positron]"
   ]
  },
  {
   "cell_type": "code",
   "execution_count": 1,
   "id": "ad639327",
   "metadata": {},
   "outputs": [],
   "source": [
    "import h5py \n",
    "import numpy as np \n",
    "import pandas as pd\n",
    "import os\n",
    "import seaborn as sns\n",
    "import matplotlib.pyplot as plt\n",
    "import sys\n",
    "import glob"
   ]
  },
  {
   "cell_type": "markdown",
   "id": "3ce39eb6",
   "metadata": {},
   "source": [
    "# Helper functions"
   ]
  },
  {
   "cell_type": "code",
   "execution_count": 2,
   "id": "30a1c8d8",
   "metadata": {},
   "outputs": [],
   "source": [
    "def read_RICHAI_data(file_paths):\n",
    "    \"\"\"Read in all the 2018 RICHAI data\n",
    "    \n",
    "    Parameters\n",
    "    ----------\n",
    "    file_paths : list of str\n",
    "        List of file paths of all data sets.\n",
    "        \n",
    "    Returns\n",
    "    -------\n",
    "    data_files : dict\n",
    "        Dictionary of HFD data sets     \n",
    "    \"\"\"\n",
    "    data_files = {}\n",
    "    for file_path in file_paths:\n",
    "        name = file_path.split(\"/\")[4] + \"/\" + file_path.split(\"/\")[5].split(\".\")[0]\n",
    "        data_files[name] = h5py.File(file_path)\n",
    "    \n",
    "    return data_files"
   ]
  },
  {
   "cell_type": "code",
   "execution_count": 3,
   "id": "f886c91c",
   "metadata": {},
   "outputs": [],
   "source": [
    "def events_to_pandas(dfile):\n",
    "    \"\"\"Convert HDF5 events data to Pandas\"\"\"\n",
    "    \n",
    "    df = pd.DataFrame()\n",
    "    \n",
    "    # event features\n",
    "    df[\"run_id\"] = dfile[\"Events\"][\"run_id\"]\n",
    "    df[\"burst_id\"] = dfile[\"Events\"][\"burst_id\"]\n",
    "    df[\"event_id\"] = dfile[\"Events\"][\"event_id\"]\n",
    "    df[\"track_id\"] = dfile[\"Events\"][\"track_id\"]\n",
    "    df[\"track_momentum\"] = dfile[\"Events\"][\"track_momentum\"]\n",
    "    df[\"chod_time\"] = dfile[\"Events\"][\"chod_time\"]\n",
    "    df[\"ring_radius\"] = dfile[\"Events\"][\"ring_radius\"]\n",
    "    df[\"ring_centre_pos_x\"] = dfile[\"Events\"][\"ring_centre_pos\"][:, 0]\n",
    "    df[\"ring_centre_pos_y\"] = dfile[\"Events\"][\"ring_centre_pos\"][:, 1]\n",
    "    \n",
    "    # TODO: check w/ TRIUMF if this is correct\n",
    "    df[\"ring_likelihood_pion\"] = dfile[\"Events\"][\"ring_likelihood\"][:, 0]\n",
    "    df[\"ring_likelihood_muon\"] = dfile[\"Events\"][\"ring_likelihood\"][:, 1]\n",
    "    df[\"ring_likelihood_positron\"] = dfile[\"Events\"][\"ring_likelihood\"][:, 2]\n",
    "    \n",
    "    # labels\n",
    "    mu_off = dfile.attrs[\"muon_offset\"]\n",
    "    pi_off = dfile.attrs[\"pion_offset\"]\n",
    "    pos_off = dfile.attrs[\"positron_offset\"]\n",
    "    entries = dfile.attrs[\"entries\"]\n",
    "    \n",
    "    labels = np.zeros(entries, dtype=np.int32)\n",
    "    labels[mu_off:pi_off] = 0\n",
    "    labels[pi_off:pos_off] = 1\n",
    "    labels[pos_off:] = 2\n",
    "    \n",
    "    df[\"label\"] = labels\n",
    "    \n",
    "    return df"
   ]
  },
  {
   "cell_type": "code",
   "execution_count": 4,
   "id": "82bbffc8",
   "metadata": {},
   "outputs": [
    {
     "data": {
      "text/plain": [
       "dict_keys(['A/Run008563', 'A/Run008548', 'A/Run008564', 'A/Run008553', 'A/Run008562', 'C/2018E', 'B/2018B'])"
      ]
     },
     "execution_count": 4,
     "metadata": {},
     "output_type": "execute_result"
    }
   ],
   "source": [
    "file_paths = glob.glob(\"/data/bvelghe/capstone2022/*/*\")\n",
    "data_files = read_RICHAI_data(file_paths)\n",
    "data_files.keys()"
   ]
  },
  {
   "cell_type": "markdown",
   "id": "6e1c89ef",
   "metadata": {},
   "source": [
    "# DataFrame"
   ]
  },
  {
   "cell_type": "code",
   "execution_count": 5,
   "id": "e7242b80",
   "metadata": {},
   "outputs": [
    {
     "data": {
      "text/html": [
       "<div>\n",
       "<style scoped>\n",
       "    .dataframe tbody tr th:only-of-type {\n",
       "        vertical-align: middle;\n",
       "    }\n",
       "\n",
       "    .dataframe tbody tr th {\n",
       "        vertical-align: top;\n",
       "    }\n",
       "\n",
       "    .dataframe thead th {\n",
       "        text-align: right;\n",
       "    }\n",
       "</style>\n",
       "<table border=\"1\" class=\"dataframe\">\n",
       "  <thead>\n",
       "    <tr style=\"text-align: right;\">\n",
       "      <th></th>\n",
       "      <th>run_id</th>\n",
       "      <th>burst_id</th>\n",
       "      <th>event_id</th>\n",
       "      <th>track_id</th>\n",
       "      <th>track_momentum</th>\n",
       "      <th>chod_time</th>\n",
       "      <th>ring_radius</th>\n",
       "      <th>ring_centre_pos_x</th>\n",
       "      <th>ring_centre_pos_y</th>\n",
       "      <th>ring_likelihood_pion</th>\n",
       "      <th>ring_likelihood_muon</th>\n",
       "      <th>ring_likelihood_positron</th>\n",
       "      <th>label</th>\n",
       "    </tr>\n",
       "  </thead>\n",
       "  <tbody>\n",
       "    <tr>\n",
       "      <th>0</th>\n",
       "      <td>8563</td>\n",
       "      <td>1502</td>\n",
       "      <td>19187</td>\n",
       "      <td>0</td>\n",
       "      <td>29.086382</td>\n",
       "      <td>24.875072</td>\n",
       "      <td>181.268814</td>\n",
       "      <td>-4.406287</td>\n",
       "      <td>31.420258</td>\n",
       "      <td>1.229546e-08</td>\n",
       "      <td>1.0</td>\n",
       "      <td>9.656426e-02</td>\n",
       "      <td>0</td>\n",
       "    </tr>\n",
       "    <tr>\n",
       "      <th>1</th>\n",
       "      <td>8563</td>\n",
       "      <td>1502</td>\n",
       "      <td>43695</td>\n",
       "      <td>0</td>\n",
       "      <td>29.131575</td>\n",
       "      <td>23.019239</td>\n",
       "      <td>180.360535</td>\n",
       "      <td>-33.380520</td>\n",
       "      <td>81.289101</td>\n",
       "      <td>2.874574e-05</td>\n",
       "      <td>1.0</td>\n",
       "      <td>1.647658e-09</td>\n",
       "      <td>0</td>\n",
       "    </tr>\n",
       "    <tr>\n",
       "      <th>2</th>\n",
       "      <td>8563</td>\n",
       "      <td>1502</td>\n",
       "      <td>53258</td>\n",
       "      <td>0</td>\n",
       "      <td>53.725155</td>\n",
       "      <td>7.871216</td>\n",
       "      <td>187.981369</td>\n",
       "      <td>-124.974808</td>\n",
       "      <td>-26.034964</td>\n",
       "      <td>3.173104e-01</td>\n",
       "      <td>1.0</td>\n",
       "      <td>9.871307e-02</td>\n",
       "      <td>0</td>\n",
       "    </tr>\n",
       "    <tr>\n",
       "      <th>3</th>\n",
       "      <td>8563</td>\n",
       "      <td>1502</td>\n",
       "      <td>79840</td>\n",
       "      <td>1</td>\n",
       "      <td>45.426033</td>\n",
       "      <td>15.969522</td>\n",
       "      <td>181.346909</td>\n",
       "      <td>-159.838486</td>\n",
       "      <td>-44.940845</td>\n",
       "      <td>1.382166e-01</td>\n",
       "      <td>1.0</td>\n",
       "      <td>2.374848e-01</td>\n",
       "      <td>0</td>\n",
       "    </tr>\n",
       "    <tr>\n",
       "      <th>4</th>\n",
       "      <td>8563</td>\n",
       "      <td>1502</td>\n",
       "      <td>88854</td>\n",
       "      <td>0</td>\n",
       "      <td>51.754585</td>\n",
       "      <td>23.295773</td>\n",
       "      <td>186.581955</td>\n",
       "      <td>-131.870239</td>\n",
       "      <td>-39.216457</td>\n",
       "      <td>7.380376e-01</td>\n",
       "      <td>1.0</td>\n",
       "      <td>5.661391e-02</td>\n",
       "      <td>0</td>\n",
       "    </tr>\n",
       "  </tbody>\n",
       "</table>\n",
       "</div>"
      ],
      "text/plain": [
       "   run_id  burst_id  event_id  track_id  track_momentum  chod_time  \\\n",
       "0    8563      1502     19187         0       29.086382  24.875072   \n",
       "1    8563      1502     43695         0       29.131575  23.019239   \n",
       "2    8563      1502     53258         0       53.725155   7.871216   \n",
       "3    8563      1502     79840         1       45.426033  15.969522   \n",
       "4    8563      1502     88854         0       51.754585  23.295773   \n",
       "\n",
       "   ring_radius  ring_centre_pos_x  ring_centre_pos_y  ring_likelihood_pion  \\\n",
       "0   181.268814          -4.406287          31.420258          1.229546e-08   \n",
       "1   180.360535         -33.380520          81.289101          2.874574e-05   \n",
       "2   187.981369        -124.974808         -26.034964          3.173104e-01   \n",
       "3   181.346909        -159.838486         -44.940845          1.382166e-01   \n",
       "4   186.581955        -131.870239         -39.216457          7.380376e-01   \n",
       "\n",
       "   ring_likelihood_muon  ring_likelihood_positron  label  \n",
       "0                   1.0              9.656426e-02      0  \n",
       "1                   1.0              1.647658e-09      0  \n",
       "2                   1.0              9.871307e-02      0  \n",
       "3                   1.0              2.374848e-01      0  \n",
       "4                   1.0              5.661391e-02      0  "
      ]
     },
     "execution_count": 5,
     "metadata": {},
     "output_type": "execute_result"
    }
   ],
   "source": [
    "df = events_to_pandas(data_files['A/Run008563'])\n",
    "df.head()"
   ]
  },
  {
   "cell_type": "code",
   "execution_count": 6,
   "id": "0c64331b",
   "metadata": {},
   "outputs": [
    {
     "data": {
      "text/plain": [
       "0    162478\n",
       "1     17602\n",
       "2      1767\n",
       "Name: label, dtype: int64"
      ]
     },
     "execution_count": 6,
     "metadata": {},
     "output_type": "execute_result"
    }
   ],
   "source": [
    "# this matches Bob's documentation on https://github.com/TRIUMF-Capstone2022/RICHPID/tree/main/docs\n",
    "df[\"label\"].value_counts()"
   ]
  },
  {
   "cell_type": "markdown",
   "id": "7ce09532",
   "metadata": {},
   "source": [
    "# Plots"
   ]
  },
  {
   "cell_type": "markdown",
   "id": "f4aa0516",
   "metadata": {},
   "source": [
    "## Distribution of track momentum for each particle"
   ]
  },
  {
   "cell_type": "code",
   "execution_count": 12,
   "id": "e1f76f46",
   "metadata": {},
   "outputs": [
    {
     "data": {
      "text/plain": [
       "Text(0.5, 0, 'Track momentum')"
      ]
     },
     "execution_count": 12,
     "metadata": {},
     "output_type": "execute_result"
    },
    {
     "data": {
      "image/png": "[encoded data removed]",
      "text/plain": [
       "<Figure size 720x504 with 1 Axes>"
      ]
     },
     "metadata": {
      "needs_background": "light"
     },
     "output_type": "display_data"
    }
   ],
   "source": [
    "plt.figure(figsize=(10, 7))\n",
    "sns.kdeplot(df[\"track_momentum\"], hue=df[\"label\"], common_norm=False, palette=\"tab10\")\n",
    "plt.legend(labels=[\"Muon\",\"Pion\", \"Positron\"]);\n",
    "plt.xlabel(\"Track momentum\" )"
   ]
  },
  {
   "cell_type": "code",
   "execution_count": null,
   "id": "27b18a80",
   "metadata": {},
   "outputs": [],
   "source": []
  }
 ],
 "metadata": {
  "kernelspec": {
   "display_name": "Python 3 (ipykernel)",
   "language": "python",
   "name": "python3"
  },
  "language_info": {
   "codemirror_mode": {
    "name": "ipython",
    "version": 3
   },
   "file_extension": ".py",
   "mimetype": "text/x-python",
   "name": "python",
   "nbconvert_exporter": "python",
   "pygments_lexer": "ipython3",
   "version": "3.8.12"
  }
 },
 "nbformat": 4,
 "nbformat_minor": 5
}
