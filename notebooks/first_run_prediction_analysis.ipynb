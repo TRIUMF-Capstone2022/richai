{
 "cells": [
  {
   "cell_type": "markdown",
   "metadata": {},
   "source": [
    "## Size of dataset"
   ]
  },
  {
   "cell_type": "markdown",
   "metadata": {},
   "source": [
    "#### Training"
   ]
  },
  {
   "cell_type": "code",
   "execution_count": 1,
   "metadata": {},
   "outputs": [
    {
     "name": "stderr",
     "output_type": "stream",
     "text": [
      "2022-05-18 23:32:36,682  INFO      Train directories: ['/data/bvelghe/capstone2022/B', '/data/bvelghe/capstone2022/C']\n",
      "2022-05-18 23:32:36,685  INFO      data_version: 8565aa47-4e6a-4acd-b1c7-453688daa0c7\n",
      "2022-05-18 23:32:36,686  INFO      description: NA62 RICH PID dataset - MDS Capstone project - Fri 22 Apr 2022 10:15:02 AM <bob.velghe@triumf.ca>\n",
      "2022-05-18 23:32:36,687  INFO      entries: 1194703\n",
      "2022-05-18 23:32:36,687  INFO      muon_offset: 0\n",
      "2022-05-18 23:32:36,688  INFO      pion_offset: 1066606\n",
      "2022-05-18 23:32:36,689  INFO      positron_offset: 1183353\n",
      "2022-05-18 23:32:36,749  INFO      hit map size: 9557632 bytes\n",
      "2022-05-18 23:32:36,751  INFO      Offsets: {'entries': 1194703, 'muon': 0, 'pion': 1066606, 'positron': 1183353}\n",
      "2022-05-18 23:32:36,752  INFO      Entries: 1194703\n",
      "2022-05-18 23:32:36,753  INFO      Muons start at index: 0\n",
      "2022-05-18 23:32:36,753  INFO      Pions start at index: 1066606\n",
      "2022-05-18 23:32:36,754  INFO      Positron start at index: 1183353\n",
      "2022-05-18 23:32:36,779  INFO      hit array mmap size: 892602500 bytes\n",
      "2022-05-18 23:32:36,780  INFO      event array mmap size: 66903368 bytes\n",
      "2022-05-18 23:32:36,782  INFO      data_version: 8565aa47-4e6a-4acd-b1c7-453688daa0c7\n",
      "2022-05-18 23:32:36,783  INFO      description: NA62 RICH PID dataset - MDS Capstone project - Mon 25 Apr 2022 05:29:14 PM <bob.velghe@triumf.ca>\n",
      "2022-05-18 23:32:36,783  INFO      entries: 9662769\n",
      "2022-05-18 23:32:36,784  INFO      muon_offset: 0\n",
      "2022-05-18 23:32:36,785  INFO      pion_offset: 8583495\n",
      "2022-05-18 23:32:36,786  INFO      positron_offset: 9567650\n",
      "2022-05-18 23:32:37,198  INFO      hit map size: 77302160 bytes\n",
      "2022-05-18 23:32:37,200  INFO      Offsets: {'entries': 9662769, 'muon': 0, 'pion': 8583495, 'positron': 9567650}\n",
      "2022-05-18 23:32:37,226  INFO      Entries: 9662769\n",
      "2022-05-18 23:32:37,227  INFO      Muons start at index: 0\n",
      "2022-05-18 23:32:37,228  INFO      Pions start at index: 8583495\n",
      "2022-05-18 23:32:37,228  INFO      Positron start at index: 9567650\n",
      "2022-05-18 23:32:37,687  INFO      hit array mmap size: 6921200020 bytes\n",
      "2022-05-18 23:32:37,688  INFO      event array mmap size: 618417216 bytes\n",
      "2022-05-18 23:32:37,689  INFO      Training files: defaultdict(None, {'/data/bvelghe/capstone2022/B/2018B.Sample.EOSlist.CTRL.p.v2.0.4_f.v2.0.4.h5': <dataset.rich_dataset.RICHDataset object at 0x7fb0903e3970>, '/data/bvelghe/capstone2022/C/2018E.EOSlist.CTRL.h5': <dataset.rich_dataset.RICHDataset object at 0x7fb387a82ac0>})\n"
     ]
    },
    {
     "name": "stdout",
     "output_type": "stream",
     "text": [
      "Input Size: 10857472\n",
      "Muon Size: 9650101\n",
      "Pion Size: 1100902\n",
      "Positron Size: 106469\n"
     ]
    }
   ],
   "source": [
    "from dataset.rich_dataset import combine_datset\n",
    "\n",
    "input_size, muon_size, pion_size, positron_size = 0, 0, 0, 0\n",
    "for _, dataset in combine_datset(\"train\").items():\n",
    "    input_size += dataset.offsets[\"entries\"]\n",
    "    muon_size += dataset.offsets[\"pion\"] - dataset.offsets[\"muon\"]\n",
    "    pion_size += dataset.offsets[\"positron\"] - dataset.offsets[\"pion\"]\n",
    "    positron_size += dataset.offsets[\"entries\"] - dataset.offsets[\"positron\"]\n",
    "\n",
    "print(f\"Input Size: {input_size}\")\n",
    "print(f\"Muon Size: {muon_size}\")\n",
    "print(f\"Pion Size: {pion_size}\")\n",
    "print(f\"Positron Size: {positron_size}\")\n"
   ]
  },
  {
   "cell_type": "markdown",
   "metadata": {},
   "source": [
    "#### Testing"
   ]
  },
  {
   "cell_type": "code",
   "execution_count": 2,
   "metadata": {},
   "outputs": [
    {
     "name": "stderr",
     "output_type": "stream",
     "text": [
      "2022-05-18 23:32:37,895  INFO      Train directories: ['/data/bvelghe/capstone2022/A']\n",
      "2022-05-18 23:32:37,898  INFO      data_version: 397411f5-71f4-49ab-b876-7960946ec1e9\n",
      "2022-05-18 23:32:37,898  INFO      description: NA62 RICH PID dataset - MDS Capstone project - Fri 22 Apr 2022 10:28:31 AM <bob.velghe@triumf.ca>\n",
      "2022-05-18 23:32:37,899  INFO      entries: 181847\n",
      "2022-05-18 23:32:37,900  INFO      muon_offset: 0\n",
      "2022-05-18 23:32:37,901  INFO      pion_offset: 162478\n",
      "2022-05-18 23:32:37,902  INFO      positron_offset: 180080\n",
      "2022-05-18 23:32:37,916  INFO      hit map size: 1454784 bytes\n",
      "2022-05-18 23:32:37,918  INFO      Offsets: {'entries': 181847, 'muon': 0, 'pion': 162478, 'positron': 180080}\n",
      "2022-05-18 23:32:37,918  INFO      Entries: 181847\n",
      "2022-05-18 23:32:37,919  INFO      Muons start at index: 0\n",
      "2022-05-18 23:32:37,920  INFO      Pions start at index: 162478\n",
      "2022-05-18 23:32:37,920  INFO      Positron start at index: 180080\n",
      "2022-05-18 23:32:37,924  INFO      hit array mmap size: 137123980 bytes\n",
      "2022-05-18 23:32:37,925  INFO      event array mmap size: 10183432 bytes\n",
      "2022-05-18 23:32:37,926  INFO      data_version: 397411f5-71f4-49ab-b876-7960946ec1e9\n",
      "2022-05-18 23:32:37,926  INFO      description: NA62 RICH PID dataset - MDS Capstone project - Fri 22 Apr 2022 10:20:38 AM <bob.velghe@triumf.ca>\n",
      "2022-05-18 23:32:37,927  INFO      entries: 128982\n",
      "2022-05-18 23:32:37,928  INFO      muon_offset: 0\n",
      "2022-05-18 23:32:37,928  INFO      pion_offset: 115340\n",
      "2022-05-18 23:32:37,929  INFO      positron_offset: 127811\n",
      "2022-05-18 23:32:37,936  INFO      hit map size: 1031864 bytes\n",
      "2022-05-18 23:32:37,938  INFO      Offsets: {'entries': 128982, 'muon': 0, 'pion': 115340, 'positron': 127811}\n",
      "2022-05-18 23:32:37,939  INFO      Entries: 128982\n",
      "2022-05-18 23:32:37,940  INFO      Muons start at index: 0\n",
      "2022-05-18 23:32:37,940  INFO      Pions start at index: 115340\n",
      "2022-05-18 23:32:37,941  INFO      Positron start at index: 127811\n",
      "2022-05-18 23:32:37,945  INFO      hit array mmap size: 93794820 bytes\n",
      "2022-05-18 23:32:37,945  INFO      event array mmap size: 7222992 bytes\n",
      "2022-05-18 23:32:37,947  INFO      data_version: 397411f5-71f4-49ab-b876-7960946ec1e9\n",
      "2022-05-18 23:32:37,948  INFO      description: NA62 RICH PID dataset - MDS Capstone project - Fri 22 Apr 2022 10:29:39 AM <bob.velghe@triumf.ca>\n",
      "2022-05-18 23:32:37,948  INFO      entries: 104580\n",
      "2022-05-18 23:32:37,949  INFO      muon_offset: 0\n",
      "2022-05-18 23:32:37,950  INFO      pion_offset: 93437\n",
      "2022-05-18 23:32:37,950  INFO      positron_offset: 103596\n",
      "2022-05-18 23:32:37,958  INFO      hit map size: 836648 bytes\n",
      "2022-05-18 23:32:37,960  INFO      Offsets: {'entries': 104580, 'muon': 0, 'pion': 93437, 'positron': 103596}\n",
      "2022-05-18 23:32:37,961  INFO      Entries: 104580\n",
      "2022-05-18 23:32:37,962  INFO      Muons start at index: 0\n",
      "2022-05-18 23:32:37,962  INFO      Pions start at index: 93437\n",
      "2022-05-18 23:32:37,963  INFO      Positron start at index: 103596\n",
      "2022-05-18 23:32:37,967  INFO      hit array mmap size: 78286820 bytes\n",
      "2022-05-18 23:32:37,967  INFO      event array mmap size: 5856480 bytes\n",
      "2022-05-18 23:32:37,969  INFO      data_version: 397411f5-71f4-49ab-b876-7960946ec1e9\n",
      "2022-05-18 23:32:37,969  INFO      description: NA62 RICH PID dataset - MDS Capstone project - Fri 22 Apr 2022 10:21:55 AM <bob.velghe@triumf.ca>\n",
      "2022-05-18 23:32:37,970  INFO      entries: 179381\n",
      "2022-05-18 23:32:37,971  INFO      muon_offset: 0\n",
      "2022-05-18 23:32:37,971  INFO      pion_offset: 160164\n",
      "2022-05-18 23:32:37,972  INFO      positron_offset: 177653\n",
      "2022-05-18 23:32:37,985  INFO      hit map size: 1435056 bytes\n",
      "2022-05-18 23:32:37,987  INFO      Offsets: {'entries': 179381, 'muon': 0, 'pion': 160164, 'positron': 177653}\n",
      "2022-05-18 23:32:37,988  INFO      Entries: 179381\n",
      "2022-05-18 23:32:37,988  INFO      Muons start at index: 0\n",
      "2022-05-18 23:32:37,989  INFO      Pions start at index: 160164\n",
      "2022-05-18 23:32:37,990  INFO      Positron start at index: 177653\n",
      "2022-05-18 23:32:37,995  INFO      hit array mmap size: 131490880 bytes\n",
      "2022-05-18 23:32:37,996  INFO      event array mmap size: 10045336 bytes\n",
      "2022-05-18 23:32:37,998  INFO      data_version: 397411f5-71f4-49ab-b876-7960946ec1e9\n",
      "2022-05-18 23:32:37,998  INFO      description: NA62 RICH PID dataset - MDS Capstone project - Fri 22 Apr 2022 10:25:48 AM <bob.velghe@triumf.ca>\n",
      "2022-05-18 23:32:37,999  INFO      entries: 111707\n",
      "2022-05-18 23:32:38,000  INFO      muon_offset: 0\n",
      "2022-05-18 23:32:38,001  INFO      pion_offset: 99781\n",
      "2022-05-18 23:32:38,001  INFO      positron_offset: 110714\n",
      "2022-05-18 23:32:38,010  INFO      hit map size: 893664 bytes\n",
      "2022-05-18 23:32:38,012  INFO      Offsets: {'entries': 111707, 'muon': 0, 'pion': 99781, 'positron': 110714}\n",
      "2022-05-18 23:32:38,013  INFO      Entries: 111707\n",
      "2022-05-18 23:32:38,013  INFO      Muons start at index: 0\n",
      "2022-05-18 23:32:38,014  INFO      Pions start at index: 99781\n",
      "2022-05-18 23:32:38,014  INFO      Positron start at index: 110714\n",
      "2022-05-18 23:32:38,018  INFO      hit array mmap size: 82948700 bytes\n",
      "2022-05-18 23:32:38,019  INFO      event array mmap size: 6255592 bytes\n",
      "2022-05-18 23:32:38,020  INFO      Training files: defaultdict(None, {'/data/bvelghe/capstone2022/A/Run008563.EOSlist.CTRL.p.v2.0.4-01_f.v2.0.4-01.h5': <dataset.rich_dataset.RICHDataset object at 0x7fb3882d0a90>, '/data/bvelghe/capstone2022/A/Run008548.EOSlist.CTRL.p.v2.0.4-01_f.v2.0.4-01.h5': <dataset.rich_dataset.RICHDataset object at 0x7fb387a82340>, '/data/bvelghe/capstone2022/A/Run008564.EOSlist.CTRL.p.v2.0.4-01_f.v2.0.4-01.h5': <dataset.rich_dataset.RICHDataset object at 0x7fb387a82160>, '/data/bvelghe/capstone2022/A/Run008553.EOSlist.CTRL.p.v2.0.4-01_f.v2.0.4-01.h5': <dataset.rich_dataset.RICHDataset object at 0x7fb3882df4c0>, '/data/bvelghe/capstone2022/A/Run008562.EOSlist.CTRL.p.v2.0.4-01_f.v2.0.4-01.h5': <dataset.rich_dataset.RICHDataset object at 0x7fb38945c250>})\n"
     ]
    },
    {
     "name": "stdout",
     "output_type": "stream",
     "text": [
      "Input Size: 706497\n",
      "Muon Size: 631200\n",
      "Pion Size: 68654\n",
      "Positron Size: 6643\n"
     ]
    }
   ],
   "source": [
    "from dataset.rich_dataset import combine_datset\n",
    "\n",
    "input_size, muon_size, pion_size, positron_size = 0, 0, 0, 0\n",
    "for _, dataset in combine_datset(\"test\").items():\n",
    "    input_size += dataset.offsets[\"entries\"]\n",
    "    muon_size += dataset.offsets[\"pion\"] - dataset.offsets[\"muon\"]\n",
    "    pion_size += dataset.offsets[\"positron\"] - dataset.offsets[\"pion\"]\n",
    "    positron_size += dataset.offsets[\"entries\"] - dataset.offsets[\"positron\"]\n",
    "\n",
    "print(f\"Input Size: {input_size}\")\n",
    "print(f\"Muon Size: {muon_size}\")\n",
    "print(f\"Pion Size: {pion_size}\")\n",
    "print(f\"Positron Size: {positron_size}\")\n",
    "# Input Size:  10857472\n"
   ]
  },
  {
   "cell_type": "markdown",
   "metadata": {},
   "source": [
    "## Pion efficiency and precision"
   ]
  },
  {
   "cell_type": "code",
   "execution_count": 3,
   "metadata": {},
   "outputs": [
    {
     "name": "stdout",
     "output_type": "stream",
     "text": [
      "Pion efficiency: 0.97\n",
      "Pion prescision: 0.89\n"
     ]
    }
   ],
   "source": [
    "import pandas as pd\n",
    "\n",
    "# read predictions.csv\n",
    "df = pd.read_csv('saved_models/predictions.csv')\n",
    "\n",
    "# count where the prediction is correct\n",
    "df['correct'] = df['predictions'] == df['labels']\n",
    "\n",
    "# filter label = 1\n",
    "pion = df[df['labels'] == 1]\n",
    "pion_efficiency = pion['correct'].sum() / pion['labels'].sum()\n",
    "\n",
    "predicted_pion = df[df['predictions'] == 1]\n",
    "pion_precision = predicted_pion['correct'].sum() / predicted_pion['predictions'].sum()\n",
    "\n",
    "print(f\"Pion efficiency: {pion_efficiency:.2f}\")\n",
    "print(f\"Pion prescision: {pion_precision:.2f}\")"
   ]
  },
  {
   "cell_type": "markdown",
   "metadata": {},
   "source": [
    "**Pion precision:** Of all particles that predicted as pion, how many actually are pions? High precision relates to the low false positive rate. \n",
    "\n",
    "**Pion efficiency:** Of all particles that are labelled as pion, how many actually predicted correctly as pions?"
   ]
  },
  {
   "cell_type": "markdown",
   "metadata": {},
   "source": [
    "## Movement of particles"
   ]
  },
  {
   "cell_type": "code",
   "execution_count": 4,
   "metadata": {},
   "outputs": [
    {
     "data": {
      "text/html": [
       "<div>\n",
       "<style scoped>\n",
       "    .dataframe tbody tr th:only-of-type {\n",
       "        vertical-align: middle;\n",
       "    }\n",
       "\n",
       "    .dataframe tbody tr th {\n",
       "        vertical-align: top;\n",
       "    }\n",
       "\n",
       "    .dataframe thead th {\n",
       "        text-align: right;\n",
       "    }\n",
       "</style>\n",
       "<table border=\"1\" class=\"dataframe\">\n",
       "  <thead>\n",
       "    <tr style=\"text-align: right;\">\n",
       "      <th>predictions</th>\n",
       "      <th>muon</th>\n",
       "      <th>pion</th>\n",
       "      <th>positron</th>\n",
       "    </tr>\n",
       "    <tr>\n",
       "      <th>labels</th>\n",
       "      <th></th>\n",
       "      <th></th>\n",
       "      <th></th>\n",
       "    </tr>\n",
       "  </thead>\n",
       "  <tbody>\n",
       "    <tr>\n",
       "      <th>muon</th>\n",
       "      <td>628954</td>\n",
       "      <td>2149</td>\n",
       "      <td>97</td>\n",
       "    </tr>\n",
       "    <tr>\n",
       "      <th>pion</th>\n",
       "      <td>1988</td>\n",
       "      <td>66612</td>\n",
       "      <td>54</td>\n",
       "    </tr>\n",
       "    <tr>\n",
       "      <th>positron</th>\n",
       "      <td>199</td>\n",
       "      <td>6437</td>\n",
       "      <td>7</td>\n",
       "    </tr>\n",
       "  </tbody>\n",
       "</table>\n",
       "</div>"
      ],
      "text/plain": [
       "predictions    muon   pion  positron\n",
       "labels                              \n",
       "muon         628954   2149        97\n",
       "pion           1988  66612        54\n",
       "positron        199   6437         7"
      ]
     },
     "execution_count": 4,
     "metadata": {},
     "output_type": "execute_result"
    }
   ],
   "source": [
    "# rename labels and predictions 0 to muon, labels = 1 to pion, and labels = 2 to positron \n",
    "df.loc[df['labels'] == 0, 'labels'] = 'muon'\n",
    "df.loc[df['labels'] == 1, 'labels'] = 'pion'\n",
    "df.loc[df['labels'] == 2, 'labels'] = 'positron'\n",
    "df.loc[df['predictions'] == 0, 'predictions'] = 'muon'\n",
    "df.loc[df['predictions'] == 1, 'predictions'] = 'pion'\n",
    "df.loc[df['predictions'] == 2, 'predictions'] = 'positron'\n",
    "\n",
    "\n",
    "# movement\n",
    "mov_df = df.groupby([\"labels\", \"predictions\"]).size().unstack()\n",
    "mov_df"
   ]
  },
  {
   "cell_type": "code",
   "execution_count": 5,
   "metadata": {},
   "outputs": [
    {
     "data": {
      "text/html": [
       "<div>\n",
       "<style scoped>\n",
       "    .dataframe tbody tr th:only-of-type {\n",
       "        vertical-align: middle;\n",
       "    }\n",
       "\n",
       "    .dataframe tbody tr th {\n",
       "        vertical-align: top;\n",
       "    }\n",
       "\n",
       "    .dataframe thead th {\n",
       "        text-align: right;\n",
       "    }\n",
       "</style>\n",
       "<table border=\"1\" class=\"dataframe\">\n",
       "  <thead>\n",
       "    <tr style=\"text-align: right;\">\n",
       "      <th>predictions</th>\n",
       "      <th>muon</th>\n",
       "      <th>pion</th>\n",
       "      <th>positron</th>\n",
       "    </tr>\n",
       "    <tr>\n",
       "      <th>labels</th>\n",
       "      <th></th>\n",
       "      <th></th>\n",
       "      <th></th>\n",
       "    </tr>\n",
       "  </thead>\n",
       "  <tbody>\n",
       "    <tr>\n",
       "      <th>muon</th>\n",
       "      <td>99.64%</td>\n",
       "      <td>0.34%</td>\n",
       "      <td>0.02%</td>\n",
       "    </tr>\n",
       "    <tr>\n",
       "      <th>pion</th>\n",
       "      <td>2.90%</td>\n",
       "      <td>97.03%</td>\n",
       "      <td>0.08%</td>\n",
       "    </tr>\n",
       "    <tr>\n",
       "      <th>positron</th>\n",
       "      <td>3.00%</td>\n",
       "      <td>96.90%</td>\n",
       "      <td>0.11%</td>\n",
       "    </tr>\n",
       "  </tbody>\n",
       "</table>\n",
       "</div>"
      ],
      "text/plain": [
       "predictions    muon    pion positron\n",
       "labels                              \n",
       "muon         99.64%   0.34%    0.02%\n",
       "pion          2.90%  97.03%    0.08%\n",
       "positron      3.00%  96.90%    0.11%"
      ]
     },
     "execution_count": 5,
     "metadata": {},
     "output_type": "execute_result"
    }
   ],
   "source": [
    "# movement percentages\n",
    "mov_pct_df = mov_df.div(mov_df.sum(axis=1), axis=0).round(4) * 100\n",
    "mov_pct_df = mov_pct_df.applymap(lambda x: f\"{x:.2f}%\")\n",
    "mov_pct_df\n",
    "\n"
   ]
  }
 ],
 "metadata": {
  "interpreter": {
   "hash": "31f2aee4e71d21fbe5cf8b01ff0e069b9275f58929596ceb00d14d90e3e16cd6"
  },
  "kernelspec": {
   "display_name": "Python 3",
   "language": "python",
   "name": "python3"
  },
  "language_info": {
   "codemirror_mode": {
    "name": "ipython",
    "version": 3
   },
   "file_extension": ".py",
   "mimetype": "text/x-python",
   "name": "python",
   "nbconvert_exporter": "python",
   "pygments_lexer": "ipython3",
   "version": "3.8.12"
  },
  "orig_nbformat": 4
 },
 "nbformat": 4,
 "nbformat_minor": 2
}
