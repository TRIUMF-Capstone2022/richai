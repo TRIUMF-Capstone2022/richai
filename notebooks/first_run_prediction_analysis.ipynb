{
 "cells": [
  {
   "cell_type": "markdown",
   "metadata": {},
   "source": [
    "## Pion efficiency and precision"
   ]
  },
  {
   "cell_type": "code",
   "execution_count": 14,
   "metadata": {},
   "outputs": [
    {
     "name": "stdout",
     "output_type": "stream",
     "text": [
      "Pion efficiency: 0.97\n",
      "Pion prescision: 0.89\n"
     ]
    }
   ],
   "source": [
    "import pandas as pd\n",
    "\n",
    "# read predictions.csv\n",
    "df = pd.read_csv('predictions.csv')\n",
    "\n",
    "# count where the prediction is correct\n",
    "df['correct'] = df['predictions'] == df['labels']\n",
    "\n",
    "# filter label = 1\n",
    "pion = df[df['labels'] == 1]\n",
    "pion_efficiency = pion['correct'].sum() / pion['labels'].sum()\n",
    "\n",
    "predicted_pion = df[df['predictions'] == 1]\n",
    "pion_precision = predicted_pion['correct'].sum() / predicted_pion['predictions'].sum()\n",
    "\n",
    "print(f\"Pion efficiency: {pion_efficiency:.2f}\")\n",
    "print(f\"Pion prescision: {pion_precision:.2f}\")"
   ]
  },
  {
   "cell_type": "markdown",
   "metadata": {},
   "source": [
    "**Pion precision:** Of all particles that predicted as pion, how many actually are pions? High precision relates to the low false positive rate. \n",
    "\n",
    "**Pion efficiency:** Of all particles that are labelled as pion, how many actually predicted correctly as pions?"
   ]
  },
  {
   "cell_type": "markdown",
   "metadata": {},
   "source": [
    "## Movement of particles"
   ]
  },
  {
   "cell_type": "code",
   "execution_count": 15,
   "metadata": {},
   "outputs": [
    {
     "data": {
      "text/html": [
       "<div>\n",
       "<style scoped>\n",
       "    .dataframe tbody tr th:only-of-type {\n",
       "        vertical-align: middle;\n",
       "    }\n",
       "\n",
       "    .dataframe tbody tr th {\n",
       "        vertical-align: top;\n",
       "    }\n",
       "\n",
       "    .dataframe thead th {\n",
       "        text-align: right;\n",
       "    }\n",
       "</style>\n",
       "<table border=\"1\" class=\"dataframe\">\n",
       "  <thead>\n",
       "    <tr style=\"text-align: right;\">\n",
       "      <th>predictions</th>\n",
       "      <th>muon</th>\n",
       "      <th>pion</th>\n",
       "      <th>positron</th>\n",
       "    </tr>\n",
       "    <tr>\n",
       "      <th>labels</th>\n",
       "      <th></th>\n",
       "      <th></th>\n",
       "      <th></th>\n",
       "    </tr>\n",
       "  </thead>\n",
       "  <tbody>\n",
       "    <tr>\n",
       "      <th>muon</th>\n",
       "      <td>628954</td>\n",
       "      <td>2149</td>\n",
       "      <td>97</td>\n",
       "    </tr>\n",
       "    <tr>\n",
       "      <th>pion</th>\n",
       "      <td>1988</td>\n",
       "      <td>66612</td>\n",
       "      <td>54</td>\n",
       "    </tr>\n",
       "    <tr>\n",
       "      <th>positron</th>\n",
       "      <td>199</td>\n",
       "      <td>6437</td>\n",
       "      <td>7</td>\n",
       "    </tr>\n",
       "  </tbody>\n",
       "</table>\n",
       "</div>"
      ],
      "text/plain": [
       "predictions    muon   pion  positron\n",
       "labels                              \n",
       "muon         628954   2149        97\n",
       "pion           1988  66612        54\n",
       "positron        199   6437         7"
      ]
     },
     "execution_count": 15,
     "metadata": {},
     "output_type": "execute_result"
    }
   ],
   "source": [
    "# rename labels and predictions 0 to muon, labels = 1 to pion, and labels = 2 to positron \n",
    "df.loc[df['labels'] == 0, 'labels'] = 'muon'\n",
    "df.loc[df['labels'] == 1, 'labels'] = 'pion'\n",
    "df.loc[df['labels'] == 2, 'labels'] = 'positron'\n",
    "df.loc[df['predictions'] == 0, 'predictions'] = 'muon'\n",
    "df.loc[df['predictions'] == 1, 'predictions'] = 'pion'\n",
    "df.loc[df['predictions'] == 2, 'predictions'] = 'positron'\n",
    "\n",
    "\n",
    "# movement\n",
    "mov_df = df.groupby([\"labels\", \"predictions\"]).size().unstack()\n",
    "mov_df"
   ]
  },
  {
   "cell_type": "code",
   "execution_count": 16,
   "metadata": {},
   "outputs": [
    {
     "data": {
      "text/html": [
       "<div>\n",
       "<style scoped>\n",
       "    .dataframe tbody tr th:only-of-type {\n",
       "        vertical-align: middle;\n",
       "    }\n",
       "\n",
       "    .dataframe tbody tr th {\n",
       "        vertical-align: top;\n",
       "    }\n",
       "\n",
       "    .dataframe thead th {\n",
       "        text-align: right;\n",
       "    }\n",
       "</style>\n",
       "<table border=\"1\" class=\"dataframe\">\n",
       "  <thead>\n",
       "    <tr style=\"text-align: right;\">\n",
       "      <th>predictions</th>\n",
       "      <th>muon</th>\n",
       "      <th>pion</th>\n",
       "      <th>positron</th>\n",
       "    </tr>\n",
       "    <tr>\n",
       "      <th>labels</th>\n",
       "      <th></th>\n",
       "      <th></th>\n",
       "      <th></th>\n",
       "    </tr>\n",
       "  </thead>\n",
       "  <tbody>\n",
       "    <tr>\n",
       "      <th>muon</th>\n",
       "      <td>99.64%</td>\n",
       "      <td>0.34%</td>\n",
       "      <td>0.02%</td>\n",
       "    </tr>\n",
       "    <tr>\n",
       "      <th>pion</th>\n",
       "      <td>2.90%</td>\n",
       "      <td>97.03%</td>\n",
       "      <td>0.08%</td>\n",
       "    </tr>\n",
       "    <tr>\n",
       "      <th>positron</th>\n",
       "      <td>3.00%</td>\n",
       "      <td>96.90%</td>\n",
       "      <td>0.11%</td>\n",
       "    </tr>\n",
       "  </tbody>\n",
       "</table>\n",
       "</div>"
      ],
      "text/plain": [
       "predictions    muon    pion positron\n",
       "labels                              \n",
       "muon         99.64%   0.34%    0.02%\n",
       "pion          2.90%  97.03%    0.08%\n",
       "positron      3.00%  96.90%    0.11%"
      ]
     },
     "execution_count": 16,
     "metadata": {},
     "output_type": "execute_result"
    }
   ],
   "source": [
    "# movement percentages\n",
    "mov_pct_df = mov_df.div(mov_df.sum(axis=1), axis=0).round(4) * 100\n",
    "mov_pct_df = mov_pct_df.applymap(lambda x: f\"{x:.2f}%\")\n",
    "mov_pct_df\n",
    "\n"
   ]
  }
 ],
 "metadata": {
  "interpreter": {
   "hash": "18cca827317dc93c49bdbfb31696d668003abf2728b0cfc22b35ba00d48fcd23"
  },
  "kernelspec": {
   "display_name": "Python 3.9.7 ('573-2.9.0')",
   "language": "python",
   "name": "python3"
  },
  "language_info": {
   "codemirror_mode": {
    "name": "ipython",
    "version": 3
   },
   "file_extension": ".py",
   "mimetype": "text/x-python",
   "name": "python",
   "nbconvert_exporter": "python",
   "pygments_lexer": "ipython3",
   "version": "3.9.7"
  },
  "orig_nbformat": 4
 },
 "nbformat": 4,
 "nbformat_minor": 2
}
