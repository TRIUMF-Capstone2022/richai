{
 "cells": [
  {
   "cell_type": "code",
   "execution_count": 5,
   "id": "cd053744",
   "metadata": {},
   "outputs": [],
   "source": [
    "import logging\n",
    "import mmap\n",
    "import h5py\n",
    "import torch\n",
    "from torch.utils.data import Dataset\n",
    "import numpy as np\n",
    "import os"
   ]
  },
  {
   "cell_type": "code",
   "execution_count": 6,
   "id": "bfdcce91",
   "metadata": {},
   "outputs": [],
   "source": [
    "logger = logging.getLogger(__name__)"
   ]
  },
  {
   "cell_type": "code",
   "execution_count": 7,
   "id": "5d3d97ef",
   "metadata": {},
   "outputs": [],
   "source": [
    "def compute_seq_id(hit, or_id=0):\n",
    "    disk_id, pm_id, sc_id, up_dw_id, _ = hit\n",
    "    \"\"\"Compute the RICH PMT sequence ID\"\"\"\n",
    "    if or_id < 1:\n",
    "        seq_id = sc_id * 8 + pm_id + up_dw_id * 61 * 8 + disk_id * 61 * 8 * 2\n",
    "    else:\n",
    "        seq_id = 61 * 8 * 2 * 2 + sc_id + up_dw_id * 61 + disk_id * 61 * 2\n",
    "    return int(seq_id)\n",
    "\n",
    "compute_seq_id = np.vectorize(compute_seq_id)"
   ]
  },
  {
   "cell_type": "code",
   "execution_count": 170,
   "id": "cf389883",
   "metadata": {},
   "outputs": [],
   "source": [
    "# Original Author: Bob\n",
    "# Modified by: Rakesh Pandey\n",
    "\n",
    "class RICHDataset(Dataset):\n",
    "    \"\"\"RICH pytorch dataset.\"\"\"\n",
    "\n",
    "    def check_dataset(self, name, obj):\n",
    "        \"\"\" \"Check the input file fromat.\"\"\"\n",
    "        if isinstance(obj, h5py.Dataset):\n",
    "            print(name, obj.shape)\n",
    "            print(name, obj.chunks)\n",
    "            print(name, obj.compression)\n",
    "            print(name, obj.dtype)\n",
    "            # raise BadDataFormat('Unexpected data format, check the logs.')\n",
    "\n",
    "    def __init__(\n",
    "        self, dset_path, val_split, test_split, return_type=\"tensor\", seed=None\n",
    "    ):\n",
    "\n",
    "        self.return_type = return_type\n",
    "\n",
    "        if seed:\n",
    "            np.random.seed(seed)\n",
    "\n",
    "        # We don't attempt to catch exception here, crash if we cannot open the file.\n",
    "        with h5py.File(dset_path, \"r\") as dfile:\n",
    "\n",
    "            for key in dfile.attrs:\n",
    "                logger.info(\"%s: %s\", key, dfile.attrs[key])\n",
    "\n",
    "            # We don't attempt to catch exception here,\n",
    "            # crash if the data format is not what we were expecting.\n",
    "            dfile.visititems(self.check_dataset)\n",
    "\n",
    "            # Load the hit map into memory\n",
    "            self.hit_mapping = np.asarray(dfile[\"HitMapping\"][:])\n",
    "            logger.info(\"hit map size: %i bytes\", self.hit_mapping.nbytes)\n",
    "            self.N = len(self.hit_mapping) - 1  # !!! The last cell is the sentinel !!!\n",
    "\n",
    "            # Get the info we need to memory map the hits\n",
    "            hit_ds = dfile[\"Hits\"]\n",
    "            hit_offset = hit_ds.id.get_offset()\n",
    "            hit_dtype = hit_ds.dtype\n",
    "            hit_shape = hit_ds.shape\n",
    "            hit_length = np.prod(hit_shape)\n",
    "            # Get the info we need to memory map the events\n",
    "            event_ds = dfile[\"Events\"]\n",
    "            event_offset = event_ds.id.get_offset()\n",
    "            event_dtype = event_ds.dtype\n",
    "            event_shape = event_ds.shape\n",
    "            event_length = np.prod(event_shape)\n",
    "\n",
    "            # train test indices\n",
    "            indices = np.arange(len(self))\n",
    "            n_val = int(len(indices) * val_split)\n",
    "            n_test = int(len(indices) * test_split)\n",
    "            self.train_indices = indices[: -n_val - n_test]\n",
    "            self.val_indices = indices[-n_test - n_val : -n_test]\n",
    "            self.test_indices = indices[-n_test:]\n",
    "\n",
    "        # We don't attempt to catch exception here, crash if we cannot open the file.\n",
    "        with open(dset_path, \"rb\") as fh:\n",
    "            fileno = fh.fileno()\n",
    "            mapping = mmap.mmap(fileno, 0, access=mmap.ACCESS_READ)\n",
    "            self.hit_array = np.frombuffer(\n",
    "                mapping, dtype=hit_dtype, count=hit_length, offset=hit_offset\n",
    "            ).reshape(hit_shape)\n",
    "            logger.info(\"hit array mmap size: %i bytes\", self.hit_array.nbytes)\n",
    "            self.event_array = np.frombuffer(\n",
    "                mapping, dtype=event_dtype, count=event_length, offset=event_offset\n",
    "            ).reshape(event_shape)\n",
    "            logger.info(\"event array mmap size: %i bytes\", self.event_array.nbytes)\n",
    "\n",
    "    def get_position_data(self):\n",
    "        return np.load(os.path.join(\"tools\", \"rich_pmt_positions.npy\"))\n",
    "\n",
    "    def get_event_pos(self, idx):\n",
    "\n",
    "        # get hits\n",
    "        idx_from = self.hit_mapping[idx]\n",
    "        idx_to = self.hit_mapping[idx + 1]\n",
    "        hits = self.hit_array[idx_from:idx_to]\n",
    "\n",
    "        # load position map data\n",
    "        position_map = self.get_position_data()\n",
    "\n",
    "        # create index\n",
    "        index = compute_seq_id(hits)\n",
    "        event_pos = position_map[index]\n",
    "\n",
    "        return event_pos\n",
    "\n",
    "    def __len__(self):\n",
    "        return self.N\n",
    "\n",
    "    def __getitem__(self, idx):\n",
    "        if not isinstance(idx, int):\n",
    "            raise NotImplementedError(f\"{type(idx)} type key access is not implemented\")\n",
    "        if idx < 0:\n",
    "            raise NotImplementedError(\"negative index access is not implemented\")\n",
    "\n",
    "        idx_from = self.hit_mapping[idx]\n",
    "        idx_to = self.hit_mapping[idx + 1]\n",
    "\n",
    "        # prepare data\n",
    "        event_pos = self.get_event_pos(idx)\n",
    "        # labels = self.event_array[idx][\"labels\"]\n",
    "        hit_time = self.hit_array[idx_from:idx_to][\"hit_time\"]\n",
    "        chod_time = self.event_array[idx][\"chod_time\"]\n",
    "        track_momentum = self.event_array[idx][\"track_momentum\"]\n",
    "        ring_radius = self.event_array[idx][\"ring_radius\"]\n",
    "\n",
    "        if self.return_type == \"numpy\":\n",
    "            return {\n",
    "                \"event_pos\": event_pos,\n",
    "                # \"lablel\": labels,\n",
    "                \"hit_time\": hit_time,\n",
    "                \"chod_time\": chod_time,\n",
    "                \"track_momentum\": track_momentum,\n",
    "                \"ring_radius\": ring_radius,\n",
    "            }\n",
    "        elif self.return_type == \"tensor\":\n",
    "            return {\n",
    "                \"event_pos\": torch.tensor(event_pos),\n",
    "                # \"lablel\":labels,\n",
    "                \"hit_time\": torch.tensor(hit_time),\n",
    "                \"chod_time\": torch.tensor(chod_time),\n",
    "                \"track_momentum\": torch.tensor(track_momentum),\n",
    "                \"ring_radius\": torch.tensor(ring_radius),\n",
    "            }"
   ]
  },
  {
   "cell_type": "code",
   "execution_count": 171,
   "id": "45a55fa9",
   "metadata": {
    "scrolled": true
   },
   "outputs": [
    {
     "name": "stdout",
     "output_type": "stream",
     "text": [
      "Events (128982,)\n",
      "Events None\n",
      "Events None\n",
      "Events {'names': ['run_id', 'burst_id', 'event_id', 'track_id', 'track_momentum', 'chod_time', 'ring_radius', 'ring_centre_pos', 'ring_likelihood'], 'formats': ['<i4', '<i4', '<i8', '<i4', '<f4', '<f4', '<f4', ('<f4', (2,)), ('<f4', (3,))], 'offsets': [0, 4, 8, 16, 20, 24, 28, 32, 40], 'itemsize': 56}\n",
      "HitMapping (128983,)\n",
      "HitMapping (128982,)\n",
      "HitMapping gzip\n",
      "HitMapping int64\n",
      "Hits (4689741,)\n",
      "Hits None\n",
      "Hits None\n",
      "Hits [('disk_id', '<i4'), ('pmt_id', '<i4'), ('supercell_id', '<i4'), ('updowndisk_id', '<i4'), ('hit_time', '<f4')]\n"
     ]
    }
   ],
   "source": [
    "dset = RICHDataset(\"/data/bvelghe/capstone2022/A/Run008548.EOSlist.CTRL.p.v2.0.4-01_f.v2.0.4-01.h5\", val_split=0.1, test_split=0.1, return_type=\"tensor\")"
   ]
  },
  {
   "cell_type": "code",
   "execution_count": 172,
   "id": "4131e2f1",
   "metadata": {},
   "outputs": [
    {
     "name": "stdout",
     "output_type": "stream",
     "text": [
      "{'event_pos': tensor([[-171.0000,  -93.5300,    1.0000],\n",
      "        [   0.0000, -171.4700,    1.0000],\n",
      "        [ -27.0000, -187.0600,    1.0000],\n",
      "        [-153.0000,   93.5300,    1.0000],\n",
      "        [-162.0000,   77.9400,    1.0000],\n",
      "        [-171.0000,   62.3500,    1.0000],\n",
      "        [ -72.0000,  171.4700,    1.0000],\n",
      "        [ 189.0000,  -31.1800,    1.0000],\n",
      "        [ 180.0000,   46.7700,    1.0000],\n",
      "        [ 180.0000,   15.5900,    1.0000],\n",
      "        [ 180.0000,  -46.7700,    1.0000],\n",
      "        [ 162.0000,   77.9400,    1.0000],\n",
      "        [-171.0000,  -62.3500,    1.0000],\n",
      "        [-198.0000,  -77.9400,    1.0000],\n",
      "        [-207.0000, -124.7100,    1.0000],\n",
      "        [-108.0000,  140.3000,    1.0000],\n",
      "        [ 189.0000,  -62.3500,    1.0000],\n",
      "        [ 162.0000,   46.7700,    1.0000],\n",
      "        [ 153.0000,    0.0000,    1.0000],\n",
      "        [ 144.0000,  -46.7700,    1.0000],\n",
      "        [-171.0000,   62.3500,    1.0000],\n",
      "        [ -27.0000, -187.0600,    1.0000]]), 'hit_time': tensor([  6.4918,   6.3340,   6.0296,   6.2478,   6.4438,   6.2712, -28.1392,\n",
      "          6.3304,   6.2977,   6.1681,   6.1783,   6.3657,   7.3668,   7.8247,\n",
      "          7.2308, -27.8364,   6.2185,   5.7576,   6.3124,   6.4054,   5.7096,\n",
      "          5.6795]), 'chod_time': tensor(6.3771), 'track_momentum': tensor(39.1021), 'ring_radius': tensor(184.6815)}\n",
      "{'event_pos': tensor([[ 180.0000,  -15.5900,    1.0000],\n",
      "        [ -36.0000,  265.0000,    0.0000],\n",
      "        [   0.0000,  202.6500,    0.0000],\n",
      "        ...,\n",
      "        [ -27.0000, -187.0600,    1.0000],\n",
      "        [  18.0000, -202.6500,    1.0000],\n",
      "        [-225.0000,   31.1800,    0.0000]]), 'hit_time': tensor([ 11.6656,  54.9668, -28.5816,  ...,  17.5623,  17.8169,  -9.1480]), 'chod_time': tensor(18.2625), 'track_momentum': tensor(29.2439), 'ring_radius': tensor(189.4073)}\n",
      "128982\n"
     ]
    }
   ],
   "source": [
    "print(dset[0])\n",
    "print(dset[len(dset)-1])\n",
    "print(len(dset))"
   ]
  },
  {
   "cell_type": "code",
   "execution_count": 173,
   "id": "0892aba2",
   "metadata": {},
   "outputs": [
    {
     "data": {
      "image/png": "[encoded data removed]",
      "text/plain": [
       "<Figure size 432x288 with 1 Axes>"
      ]
     },
     "metadata": {
      "needs_background": "light"
     },
     "output_type": "display_data"
    }
   ],
   "source": [
    "import matplotlib.pyplot as plt\n",
    "plt.scatter(dset[0][\"event_pos\"][:,0], dset[0][\"event_pos\"][:,1])\n",
    "plt.show()"
   ]
  },
  {
   "cell_type": "code",
   "execution_count": 174,
   "id": "0d0d3185",
   "metadata": {
    "scrolled": true
   },
   "outputs": [
    {
     "data": {
      "image/png": "[encoded data removed]",
      "text/plain": [
       "<Figure size 432x288 with 1 Axes>"
      ]
     },
     "metadata": {
      "needs_background": "light"
     },
     "output_type": "display_data"
    }
   ],
   "source": [
    "from event_display.plot_event import draw_pmt_pos\n",
    "fig = plt.figure()\n",
    "ax = fig.subplots()\n",
    "ax.set_aspect('equal')\n",
    "ax.set_xlim(-350,350) # mm\n",
    "ax.set_ylim(-350,350) # mm\n",
    "ax.set_xlabel('X (mm)')\n",
    "ax.set_ylabel('Y (mm)')\n",
    "draw_pmt_pos(ax, dset.get_position_data())\n",
    "plt.scatter(dset[0][\"event_pos\"][:,0], dset[0][\"event_pos\"][:,1])\n",
    "plt.show()"
   ]
  },
  {
   "cell_type": "code",
   "execution_count": 176,
   "id": "90c7188e",
   "metadata": {},
   "outputs": [
    {
     "data": {
      "text/plain": [
       "array([     0,      1,      2, ..., 103183, 103184, 103185])"
      ]
     },
     "execution_count": 176,
     "metadata": {},
     "output_type": "execute_result"
    }
   ],
   "source": [
    "dset.train_indices"
   ]
  },
  {
   "cell_type": "code",
   "execution_count": 177,
   "id": "5bdd0bf9",
   "metadata": {},
   "outputs": [
    {
     "data": {
      "text/plain": [
       "array([(8548, 1095,   11551, 0, 39.102062,  6.377106 , 184.68147, [-196.52412  ,  -16.790398 ], [5.2108949e-01, 1.0000000e+00, 3.3442233e-05]),\n",
       "       (8548, 1095,   62102, 0, 43.845306,  6.220097 , 184.9323 , [   6.3917556,  -24.476423 ], [1.5753073e-01, 1.0000000e+00, 1.9092786e-01]),\n",
       "       (8548, 1095,   66328, 0, 49.434795,  4.1999097, 189.74113, [ -78.32746  ,  -71.59249  ], [1.6594762e-01, 9.1073775e-01, 1.0000000e+00]),\n",
       "       ...,\n",
       "       (8548,    8,  687077, 0, 35.895885,  4.063919 , 189.60388, [-115.83869  ,  -37.7422   ], [6.1766016e-19, 4.8908441e-06, 1.0000000e+00]),\n",
       "       (8548,    8, 1116864, 0, 24.034994, 20.309193 , 192.61932, [-114.256775 ,   83.53365  ], [1.2160993e-37, 1.5893112e-17, 1.0000000e+00]),\n",
       "       (8548,    9,  945834, 0, 29.24393 , 18.262516 , 189.4073 , [-205.64192  ,    9.161364 ], [3.7009421e-27, 1.6712754e-08, 1.0000000e+00])],\n",
       "      dtype={'names': ['run_id', 'burst_id', 'event_id', 'track_id', 'track_momentum', 'chod_time', 'ring_radius', 'ring_centre_pos', 'ring_likelihood'], 'formats': ['<i4', '<i4', '<i8', '<i4', '<f4', '<f4', '<f4', ('<f4', (2,)), ('<f4', (3,))], 'offsets': [0, 4, 8, 16, 20, 24, 28, 32, 40], 'itemsize': 56})"
      ]
     },
     "execution_count": 177,
     "metadata": {},
     "output_type": "execute_result"
    }
   ],
   "source": [
    "dset.event_array"
   ]
  },
  {
   "cell_type": "code",
   "execution_count": 179,
   "id": "de0e72e9",
   "metadata": {},
   "outputs": [],
   "source": [
    "# train validation and test\n",
    "from torch.utils.data import DataLoader\n",
    "from torch.utils.data.sampler import SubsetRandomSampler\n",
    "\n",
    "train_iter = DataLoader(\n",
    "    dset,\n",
    "    batch_size=64,\n",
    "    shuffle=False,\n",
    "    sampler=SubsetRandomSampler(dset.train_indices),\n",
    "    num_workers=4,\n",
    ")\n",
    "val_iter = DataLoader(\n",
    "    dset,\n",
    "    batch_size=64,\n",
    "    shuffle=False,\n",
    "    sampler=SubsetRandomSampler(dset.val_indices),\n",
    "    num_workers=4,\n",
    ")\n",
    "test_iter = DataLoader(\n",
    "    dset,\n",
    "    batch_size=64,\n",
    "    shuffle=False,\n",
    "    sampler=SubsetRandomSampler(dset.test_indices),\n",
    "    num_workers=4,\n",
    ")\n"
   ]
  },
  {
   "cell_type": "code",
   "execution_count": 169,
   "id": "a48ab948",
   "metadata": {},
   "outputs": [
    {
     "ename": "NotImplementedError",
     "evalue": "Caught NotImplementedError in DataLoader worker process 0.\nOriginal Traceback (most recent call last):\n  File \"/opt/conda/lib/python3.8/site-packages/torch/utils/data/_utils/worker.py\", line 287, in _worker_loop\n    data = fetcher.fetch(index)\n  File \"/opt/conda/lib/python3.8/site-packages/torch/utils/data/_utils/fetch.py\", line 49, in fetch\n    data = [self.dataset[idx] for idx in possibly_batched_index]\n  File \"/opt/conda/lib/python3.8/site-packages/torch/utils/data/_utils/fetch.py\", line 49, in <listcomp>\n    data = [self.dataset[idx] for idx in possibly_batched_index]\n  File \"/tmp/ipykernel_25313/1456706082.py\", line 98, in __getitem__\n    raise NotImplementedError(f\"{type(idx)} type key access is not implemented\")\nNotImplementedError: <class 'numpy.int64'> type key access is not implemented\n",
     "output_type": "error",
     "traceback": [
      "\u001b[0;31m---------------------------------------------------------------------------\u001b[0m",
      "\u001b[0;31mNotImplementedError\u001b[0m                       Traceback (most recent call last)",
      "Input \u001b[0;32mIn [169]\u001b[0m, in \u001b[0;36m<module>\u001b[0;34m\u001b[0m\n\u001b[0;32m----> 1\u001b[0m \u001b[38;5;28;01mfor\u001b[39;00m i_batch, batch_data \u001b[38;5;129;01min\u001b[39;00m \u001b[38;5;28menumerate\u001b[39m(val_iter):\n\u001b[1;32m      2\u001b[0m     \u001b[38;5;28mprint\u001b[39m(batch_data\u001b[38;5;241m.\u001b[39mshape)\n",
      "File \u001b[0;32m/opt/conda/lib/python3.8/site-packages/torch/utils/data/dataloader.py:530\u001b[0m, in \u001b[0;36m_BaseDataLoaderIter.__next__\u001b[0;34m(self)\u001b[0m\n\u001b[1;32m    528\u001b[0m \u001b[38;5;28;01mif\u001b[39;00m \u001b[38;5;28mself\u001b[39m\u001b[38;5;241m.\u001b[39m_sampler_iter \u001b[38;5;129;01mis\u001b[39;00m \u001b[38;5;28;01mNone\u001b[39;00m:\n\u001b[1;32m    529\u001b[0m     \u001b[38;5;28mself\u001b[39m\u001b[38;5;241m.\u001b[39m_reset()\n\u001b[0;32m--> 530\u001b[0m data \u001b[38;5;241m=\u001b[39m \u001b[38;5;28;43mself\u001b[39;49m\u001b[38;5;241;43m.\u001b[39;49m\u001b[43m_next_data\u001b[49m\u001b[43m(\u001b[49m\u001b[43m)\u001b[49m\n\u001b[1;32m    531\u001b[0m \u001b[38;5;28mself\u001b[39m\u001b[38;5;241m.\u001b[39m_num_yielded \u001b[38;5;241m+\u001b[39m\u001b[38;5;241m=\u001b[39m \u001b[38;5;241m1\u001b[39m\n\u001b[1;32m    532\u001b[0m \u001b[38;5;28;01mif\u001b[39;00m \u001b[38;5;28mself\u001b[39m\u001b[38;5;241m.\u001b[39m_dataset_kind \u001b[38;5;241m==\u001b[39m _DatasetKind\u001b[38;5;241m.\u001b[39mIterable \u001b[38;5;129;01mand\u001b[39;00m \\\n\u001b[1;32m    533\u001b[0m         \u001b[38;5;28mself\u001b[39m\u001b[38;5;241m.\u001b[39m_IterableDataset_len_called \u001b[38;5;129;01mis\u001b[39;00m \u001b[38;5;129;01mnot\u001b[39;00m \u001b[38;5;28;01mNone\u001b[39;00m \u001b[38;5;129;01mand\u001b[39;00m \\\n\u001b[1;32m    534\u001b[0m         \u001b[38;5;28mself\u001b[39m\u001b[38;5;241m.\u001b[39m_num_yielded \u001b[38;5;241m>\u001b[39m \u001b[38;5;28mself\u001b[39m\u001b[38;5;241m.\u001b[39m_IterableDataset_len_called:\n",
      "File \u001b[0;32m/opt/conda/lib/python3.8/site-packages/torch/utils/data/dataloader.py:1212\u001b[0m, in \u001b[0;36m_MultiProcessingDataLoaderIter._next_data\u001b[0;34m(self)\u001b[0m\n\u001b[1;32m   1210\u001b[0m \u001b[38;5;28;01melse\u001b[39;00m:\n\u001b[1;32m   1211\u001b[0m     \u001b[38;5;28;01mdel\u001b[39;00m \u001b[38;5;28mself\u001b[39m\u001b[38;5;241m.\u001b[39m_task_info[idx]\n\u001b[0;32m-> 1212\u001b[0m     \u001b[38;5;28;01mreturn\u001b[39;00m \u001b[38;5;28;43mself\u001b[39;49m\u001b[38;5;241;43m.\u001b[39;49m\u001b[43m_process_data\u001b[49m\u001b[43m(\u001b[49m\u001b[43mdata\u001b[49m\u001b[43m)\u001b[49m\n",
      "File \u001b[0;32m/opt/conda/lib/python3.8/site-packages/torch/utils/data/dataloader.py:1238\u001b[0m, in \u001b[0;36m_MultiProcessingDataLoaderIter._process_data\u001b[0;34m(self, data)\u001b[0m\n\u001b[1;32m   1236\u001b[0m \u001b[38;5;28mself\u001b[39m\u001b[38;5;241m.\u001b[39m_try_put_index()\n\u001b[1;32m   1237\u001b[0m \u001b[38;5;28;01mif\u001b[39;00m \u001b[38;5;28misinstance\u001b[39m(data, ExceptionWrapper):\n\u001b[0;32m-> 1238\u001b[0m     \u001b[43mdata\u001b[49m\u001b[38;5;241;43m.\u001b[39;49m\u001b[43mreraise\u001b[49m\u001b[43m(\u001b[49m\u001b[43m)\u001b[49m\n\u001b[1;32m   1239\u001b[0m \u001b[38;5;28;01mreturn\u001b[39;00m data\n",
      "File \u001b[0;32m/opt/conda/lib/python3.8/site-packages/torch/_utils.py:438\u001b[0m, in \u001b[0;36mExceptionWrapper.reraise\u001b[0;34m(self)\u001b[0m\n\u001b[1;32m    434\u001b[0m \u001b[38;5;28;01mexcept\u001b[39;00m \u001b[38;5;167;01mTypeError\u001b[39;00m:\n\u001b[1;32m    435\u001b[0m     \u001b[38;5;66;03m# If the exception takes multiple arguments, don't try to\u001b[39;00m\n\u001b[1;32m    436\u001b[0m     \u001b[38;5;66;03m# instantiate since we don't know how to\u001b[39;00m\n\u001b[1;32m    437\u001b[0m     \u001b[38;5;28;01mraise\u001b[39;00m \u001b[38;5;167;01mRuntimeError\u001b[39;00m(msg) \u001b[38;5;28;01mfrom\u001b[39;00m \u001b[38;5;28mNone\u001b[39m\n\u001b[0;32m--> 438\u001b[0m \u001b[38;5;28;01mraise\u001b[39;00m exception\n",
      "\u001b[0;31mNotImplementedError\u001b[0m: Caught NotImplementedError in DataLoader worker process 0.\nOriginal Traceback (most recent call last):\n  File \"/opt/conda/lib/python3.8/site-packages/torch/utils/data/_utils/worker.py\", line 287, in _worker_loop\n    data = fetcher.fetch(index)\n  File \"/opt/conda/lib/python3.8/site-packages/torch/utils/data/_utils/fetch.py\", line 49, in fetch\n    data = [self.dataset[idx] for idx in possibly_batched_index]\n  File \"/opt/conda/lib/python3.8/site-packages/torch/utils/data/_utils/fetch.py\", line 49, in <listcomp>\n    data = [self.dataset[idx] for idx in possibly_batched_index]\n  File \"/tmp/ipykernel_25313/1456706082.py\", line 98, in __getitem__\n    raise NotImplementedError(f\"{type(idx)} type key access is not implemented\")\nNotImplementedError: <class 'numpy.int64'> type key access is not implemented\n"
     ]
    },
    {
     "name": "stderr",
     "output_type": "stream",
     "text": [
      "--- Logging error ---\n",
      "Traceback (most recent call last):\n",
      "  File \"/opt/conda/lib/python3.8/site-packages/ipykernel/kernelbase.py\", line 461, in dispatch_queue\n",
      "    await self.process_one()\n",
      "  File \"/opt/conda/lib/python3.8/site-packages/ipykernel/kernelbase.py\", line 450, in process_one\n",
      "    await dispatch(*args)\n",
      "TypeError: object NoneType can't be used in 'await' expression\n",
      "\n",
      "During handling of the above exception, another exception occurred:\n",
      "\n",
      "Traceback (most recent call last):\n",
      "  File \"/opt/conda/lib/python3.8/logging/__init__.py\", line 1089, in emit\n",
      "    self.flush()\n",
      "  File \"/opt/conda/lib/python3.8/logging/__init__.py\", line 1069, in flush\n",
      "    self.stream.flush()\n",
      "OSError: [Errno 5] Input/output error\n",
      "Call stack:\n",
      "  File \"/opt/conda/lib/python3.8/runpy.py\", line 194, in _run_module_as_main\n",
      "    return _run_code(code, main_globals, None,\n",
      "  File \"/opt/conda/lib/python3.8/runpy.py\", line 87, in _run_code\n",
      "    exec(code, run_globals)\n",
      "  File \"/opt/conda/lib/python3.8/site-packages/ipykernel_launcher.py\", line 16, in <module>\n",
      "    app.launch_new_instance()\n",
      "  File \"/opt/conda/lib/python3.8/site-packages/traitlets/config/application.py\", line 846, in launch_instance\n",
      "    app.start()\n",
      "  File \"/opt/conda/lib/python3.8/site-packages/ipykernel/kernelapp.py\", line 677, in start\n",
      "    self.io_loop.start()\n",
      "  File \"/opt/conda/lib/python3.8/site-packages/tornado/platform/asyncio.py\", line 199, in start\n",
      "    self.asyncio_loop.run_forever()\n",
      "  File \"/opt/conda/lib/python3.8/asyncio/base_events.py\", line 570, in run_forever\n",
      "    self._run_once()\n",
      "  File \"/opt/conda/lib/python3.8/asyncio/base_events.py\", line 1859, in _run_once\n",
      "    handle._run()\n",
      "  File \"/opt/conda/lib/python3.8/asyncio/events.py\", line 81, in _run\n",
      "    self._context.run(self._callback, *self._args)\n",
      "  File \"/opt/conda/lib/python3.8/site-packages/ipykernel/kernelbase.py\", line 463, in dispatch_queue\n",
      "    self.log.exception(\"Error in message handler\")\n",
      "Message: 'Error in message handler'\n",
      "Arguments: ()\n"
     ]
    }
   ],
   "source": [
    "for i_batch, batch_data in enumerate(val_iter):\n",
    "    print(batch_data.shape)"
   ]
  },
  {
   "cell_type": "code",
   "execution_count": null,
   "id": "144a53f0",
   "metadata": {},
   "outputs": [
    {
     "name": "stderr",
     "output_type": "stream",
     "text": [
      "--- Logging error ---\n",
      "Traceback (most recent call last):\n",
      "  File \"/opt/conda/lib/python3.8/site-packages/ipykernel/kernelbase.py\", line 461, in dispatch_queue\n",
      "    await self.process_one()\n",
      "  File \"/opt/conda/lib/python3.8/site-packages/ipykernel/kernelbase.py\", line 450, in process_one\n",
      "    await dispatch(*args)\n",
      "TypeError: object NoneType can't be used in 'await' expression\n",
      "\n",
      "During handling of the above exception, another exception occurred:\n",
      "\n",
      "Traceback (most recent call last):\n",
      "  File \"/opt/conda/lib/python3.8/logging/__init__.py\", line 1089, in emit\n",
      "    self.flush()\n",
      "  File \"/opt/conda/lib/python3.8/logging/__init__.py\", line 1069, in flush\n",
      "    self.stream.flush()\n",
      "OSError: [Errno 5] Input/output error\n",
      "Call stack:\n",
      "  File \"/opt/conda/lib/python3.8/runpy.py\", line 194, in _run_module_as_main\n",
      "    return _run_code(code, main_globals, None,\n",
      "  File \"/opt/conda/lib/python3.8/runpy.py\", line 87, in _run_code\n",
      "    exec(code, run_globals)\n",
      "  File \"/opt/conda/lib/python3.8/site-packages/ipykernel_launcher.py\", line 16, in <module>\n",
      "    app.launch_new_instance()\n",
      "  File \"/opt/conda/lib/python3.8/site-packages/traitlets/config/application.py\", line 846, in launch_instance\n",
      "    app.start()\n",
      "  File \"/opt/conda/lib/python3.8/site-packages/ipykernel/kernelapp.py\", line 677, in start\n",
      "    self.io_loop.start()\n",
      "  File \"/opt/conda/lib/python3.8/site-packages/tornado/platform/asyncio.py\", line 199, in start\n",
      "    self.asyncio_loop.run_forever()\n",
      "  File \"/opt/conda/lib/python3.8/asyncio/base_events.py\", line 570, in run_forever\n",
      "    self._run_once()\n",
      "  File \"/opt/conda/lib/python3.8/asyncio/base_events.py\", line 1859, in _run_once\n",
      "    handle._run()\n",
      "  File \"/opt/conda/lib/python3.8/asyncio/events.py\", line 81, in _run\n",
      "    self._context.run(self._callback, *self._args)\n",
      "  File \"/opt/conda/lib/python3.8/site-packages/ipykernel/kernelbase.py\", line 463, in dispatch_queue\n",
      "    self.log.exception(\"Error in message handler\")\n",
      "Message: 'Error in message handler'\n",
      "Arguments: ()\n"
     ]
    }
   ],
   "source": [
    "next_batch[0]"
   ]
  },
  {
   "cell_type": "code",
   "execution_count": null,
   "id": "da6a48c7",
   "metadata": {},
   "outputs": [],
   "source": []
  }
 ],
 "metadata": {
  "kernelspec": {
   "display_name": "Python 3",
   "language": "python",
   "name": "python3"
  },
  "language_info": {
   "codemirror_mode": {
    "name": "ipython",
    "version": 3
   },
   "file_extension": ".py",
   "mimetype": "text/x-python",
   "name": "python",
   "nbconvert_exporter": "python",
   "pygments_lexer": "ipython3",
   "version": "3.8.12"
  }
 },
 "nbformat": 4,
 "nbformat_minor": 5
}
