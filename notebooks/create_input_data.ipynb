{
 "cells": [
  {
   "cell_type": "code",
   "execution_count": 67,
   "id": "cd053744",
   "metadata": {},
   "outputs": [],
   "source": [
    "import logging\n",
    "import mmap\n",
    "import h5py\n",
    "import torch\n",
    "from torch.utils.data import Dataset\n",
    "import numpy as np\n",
    "import os"
   ]
  },
  {
   "cell_type": "code",
   "execution_count": 68,
   "id": "bfdcce91",
   "metadata": {},
   "outputs": [],
   "source": [
    "logger = logging.getLogger(__name__)"
   ]
  },
  {
   "cell_type": "code",
   "execution_count": 78,
   "id": "5d3d97ef",
   "metadata": {},
   "outputs": [],
   "source": [
    "def compute_seq_id(hit, or_id=0):\n",
    "    disk_id, pm_id, sc_id, up_dw_id, _ = hit\n",
    "    \"\"\"Compute the RICH PMT sequence ID\"\"\"\n",
    "    if or_id < 1:\n",
    "        seq_id = sc_id * 8 + pm_id + up_dw_id * 61 * 8 + disk_id * 61 * 8 * 2\n",
    "    else:\n",
    "        seq_id = 61 * 8 * 2 * 2 + sc_id + up_dw_id * 61 + disk_id * 61 * 2\n",
    "    return int(seq_id)\n",
    "\n",
    "compute_seq_id = np.vectorize(compute_seq_id)"
   ]
  },
  {
   "cell_type": "code",
   "execution_count": 94,
   "id": "cf389883",
   "metadata": {},
   "outputs": [],
   "source": [
    "# Adapted from Bob's RICHPID repo\n",
    "class RICHDataset(Dataset):\n",
    "    \"\"\"RICH pytorch dataset.\"\"\"\n",
    "    def check_dataset(self,name,obj):\n",
    "        \"\"\"\"Check the input file fromat.\"\"\"\n",
    "        if isinstance(obj, h5py.Dataset):\n",
    "            print(name,obj.shape)\n",
    "            print(name,obj.chunks)\n",
    "            print(name,obj.compression)\n",
    "            print(name,obj.dtype)\n",
    "            #raise BadDataFormat('Unexpected data format, check the logs.')\n",
    "            \n",
    "    def __init__(self, dset_path):\n",
    "        # We don't attempt to catch exception here, crash if we cannot open the file.\n",
    "        with h5py.File(dset_path,'r') as dfile:\n",
    "\n",
    "            for key in dfile.attrs:\n",
    "                logger.info('%s: %s', key,dfile.attrs[key])\n",
    "\n",
    "            # We don't attempt to catch exception here,\n",
    "            # crash if the data format is not what we were expecting.\n",
    "            dfile.visititems(self.check_dataset)\n",
    "\n",
    "            # Load the hit map into memory\n",
    "            self.hit_mapping = np.asarray(dfile['HitMapping'][:])\n",
    "            logger.info('hit map size: %i bytes',self.hit_mapping.nbytes)\n",
    "            self.N = len(self.hit_mapping) - 1 # !!! The last cell is the sentinel !!!\n",
    "\n",
    "            # Get the info we need to memory map the hits\n",
    "            hit_ds = dfile['Hits']\n",
    "            hit_offset = hit_ds.id.get_offset()\n",
    "            hit_dtype = hit_ds.dtype\n",
    "            hit_shape = hit_ds.shape\n",
    "            hit_length = np.prod(hit_shape)\n",
    "            # Get the info we need to memory map the events\n",
    "            event_ds = dfile['Events']\n",
    "            event_offset = event_ds.id.get_offset()\n",
    "            event_dtype = event_ds.dtype\n",
    "            event_shape = event_ds.shape\n",
    "            event_length = np.prod(event_shape)\n",
    "\n",
    "        # We don't attempt to catch exception here, crash if we cannot open the file.\n",
    "        with open(dset_path, \"rb\") as fh:\n",
    "            fileno = fh.fileno()\n",
    "            mapping = mmap.mmap(fileno, 0, access=mmap.ACCESS_READ)\n",
    "            self.hit_array = np.frombuffer(mapping, dtype=hit_dtype, count=hit_length,\n",
    "                                            offset=hit_offset).reshape(hit_shape)\n",
    "            logger.info('hit array mmap size: %i bytes', self.hit_array.nbytes)\n",
    "            self.event_array = np.frombuffer(mapping, dtype=event_dtype, count=event_length,\n",
    "                                            offset=event_offset).reshape(event_shape)\n",
    "            logger.info('event array mmap size: %i bytes', self.event_array.nbytes)\n",
    "\n",
    "    \n",
    "    def get_position_data(self):\n",
    "        return np.load(os.path.join(\"tools\", \"rich_pmt_positions.npy\"))\n",
    "    \n",
    "    def get_single_event_input(self, event_number):\n",
    "        \n",
    "        # get hits for the event\n",
    "        hit_in=self.hit_mapping[event_number]\n",
    "        hit_in_end=self.hit_mapping[event_number + 1] - 1 \n",
    "        hits = self.hit_array[hit_in: hit_in_end]\n",
    "        \n",
    "        # load position map data\n",
    "        position_map = self.get_position_data()\n",
    "        \n",
    "        # create index \n",
    "        index = compute_seq_id(hits)\n",
    "        event_pos = position_map[index]\n",
    "        \n",
    "        return event_pos\n",
    "    \n",
    "    def get_input_data(self):\n",
    "        get_event_input_ = np.vectorize(self.get_single_event_input)\n",
    "        return get_event_input_([i for i in range(self.N)])\n",
    "    \n",
    "        \n",
    "\n",
    "    def __len__(self):\n",
    "        return self.N\n",
    "\n",
    "    def __getitem__(self, idx):\n",
    "        if not isinstance(idx,int):\n",
    "            raise NotImplementedError(f'{type(idx)} type key access is not implemented')\n",
    "        if idx < 0:\n",
    "            raise NotImplementedError('negative index access is not implemented')\n",
    "        idx_from = self.hit_mapping[idx]\n",
    "        idx_to = self.hit_mapping[idx+1] # This ok, we have the sentinel\n",
    "        return (torch.tensor(self.hit_array[idx_from:idx_to]['hit_time']),\n",
    "                torch.tensor(self.event_array[idx]['chod_time']),\n",
    "                torch.tensor(self.event_array[idx]['ring_centre_pos'])\n",
    "                )"
   ]
  },
  {
   "cell_type": "code",
   "execution_count": 95,
   "id": "45a55fa9",
   "metadata": {
    "scrolled": false
   },
   "outputs": [
    {
     "name": "stdout",
     "output_type": "stream",
     "text": [
      "Events (128982,)\n",
      "Events None\n",
      "Events None\n",
      "Events {'names': ['run_id', 'burst_id', 'event_id', 'track_id', 'track_momentum', 'chod_time', 'ring_radius', 'ring_centre_pos', 'ring_likelihood'], 'formats': ['<i4', '<i4', '<i8', '<i4', '<f4', '<f4', '<f4', ('<f4', (2,)), ('<f4', (3,))], 'offsets': [0, 4, 8, 16, 20, 24, 28, 32, 40], 'itemsize': 56}\n",
      "HitMapping (128983,)\n",
      "HitMapping (128982,)\n",
      "HitMapping gzip\n",
      "HitMapping int64\n",
      "Hits (4689741,)\n",
      "Hits None\n",
      "Hits None\n",
      "Hits [('disk_id', '<i4'), ('pmt_id', '<i4'), ('supercell_id', '<i4'), ('updowndisk_id', '<i4'), ('hit_time', '<f4')]\n"
     ]
    }
   ],
   "source": [
    "dset = RICHDataset(\"/data/bvelghe/capstone2022/A/Run008548.EOSlist.CTRL.p.v2.0.4-01_f.v2.0.4-01.h5\")"
   ]
  },
  {
   "cell_type": "code",
   "execution_count": 96,
   "id": "e28e143f",
   "metadata": {},
   "outputs": [
    {
     "data": {
      "text/plain": [
       "array([(1, 7, 37, 1,  6.4918146), (1, 4, 41, 1,  6.334047 ),\n",
       "       (1, 0, 41, 1,  6.0296416), ..., (1, 0, 41, 1, 17.56226  ),\n",
       "       (1, 0, 42, 1, 17.81694  ), (0, 0,  1, 1, -9.147976 )],\n",
       "      dtype=[('disk_id', '<i4'), ('pmt_id', '<i4'), ('supercell_id', '<i4'), ('updowndisk_id', '<i4'), ('hit_time', '<f4')])"
      ]
     },
     "execution_count": 96,
     "metadata": {},
     "output_type": "execute_result"
    }
   ],
   "source": [
    "dset.hit_array"
   ]
  },
  {
   "cell_type": "code",
   "execution_count": 99,
   "id": "31fa80e8",
   "metadata": {
    "scrolled": true
   },
   "outputs": [],
   "source": [
    "data = dset.get_single_event_input(10)"
   ]
  },
  {
   "cell_type": "code",
   "execution_count": 100,
   "id": "0892aba2",
   "metadata": {},
   "outputs": [
    {
     "data": {
      "image/png": "[encoded data removed]",
      "text/plain": [
       "<Figure size 432x288 with 1 Axes>"
      ]
     },
     "metadata": {
      "needs_background": "light"
     },
     "output_type": "display_data"
    }
   ],
   "source": [
    "import matplotlib.pyplot as plt\n",
    "plt.scatter(data[:,0], data[:,1])\n",
    "plt.show()"
   ]
  },
  {
   "cell_type": "code",
   "execution_count": 104,
   "id": "0d0d3185",
   "metadata": {},
   "outputs": [
    {
     "data": {
      "image/png": "[encoded data removed]",
      "text/plain": [
       "<Figure size 432x288 with 1 Axes>"
      ]
     },
     "metadata": {
      "needs_background": "light"
     },
     "output_type": "display_data"
    }
   ],
   "source": [
    "from event_display.plot_event import draw_pmt_pos\n",
    "fig = plt.figure()\n",
    "ax = fig.subplots()\n",
    "ax.set_aspect('equal')\n",
    "ax.set_xlim(-350,350) # mm\n",
    "ax.set_ylim(-350,350) # mm\n",
    "ax.set_xlabel('X (mm)')\n",
    "ax.set_ylabel('Y (mm)')\n",
    "draw_pmt_pos(ax, dset.get_position_data())\n",
    "plt.scatter(data[:,0], data[:,1])\n",
    "plt.show()"
   ]
  },
  {
   "cell_type": "code",
   "execution_count": null,
   "id": "bcce126a",
   "metadata": {},
   "outputs": [],
   "source": []
  }
 ],
 "metadata": {
  "kernelspec": {
   "display_name": "Python 3",
   "language": "python",
   "name": "python3"
  },
  "language_info": {
   "codemirror_mode": {
    "name": "ipython",
    "version": 3
   },
   "file_extension": ".py",
   "mimetype": "text/x-python",
   "name": "python",
   "nbconvert_exporter": "python",
   "pygments_lexer": "ipython3",
   "version": "3.8.12"
  }
 },
 "nbformat": 4,
 "nbformat_minor": 5
}
