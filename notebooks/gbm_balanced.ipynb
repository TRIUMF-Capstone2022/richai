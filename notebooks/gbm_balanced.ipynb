{
 "cells": [
  {
   "cell_type": "markdown",
   "id": "b9d680f2",
   "metadata": {
    "slideshow": {
     "slide_type": "slide"
    }
   },
   "source": [
    "# Training ensemble models on balanced dataset\n",
    "\n",
    "## Model characteristics\n",
    "\n",
    "- **Data**: balanced dataset with 1.7m entries, containing data for muons(label = 0) and pions (label=1)\n",
    "\n",
    "- **Classifiers**: Lightgbm, xgboost, Adaboost\n",
    "\n",
    "- **Classifier type**: binary \n",
    "\n",
    "- Features (3 Nos.):\n",
    "\n",
    "    - track_momentum\n",
    "    \n",
    "    - ring_radius\n",
    "    \n",
    "    - total_hits_filtered\n",
    "    \n",
    "\n",
    "- **Preprocessing**: \n",
    "\n",
    "    - filtering noise in hit times\n",
    "    \n",
    "    - feature scaling: not required for tree based methods\n",
    "    "
   ]
  },
  {
   "cell_type": "markdown",
   "id": "d392baaf",
   "metadata": {
    "slideshow": {
     "slide_type": "subslide"
    }
   },
   "source": [
    "## Data preparation\n",
    "\n",
    "- Original Source: \"/data/bvelghe/capstone2022/C/2018E.EOSlist.CTRL_patched.h5\"\n",
    "- Balanced data set binned on 3 momentum bins:\n",
    "    - 15-25 GeV/C\n",
    "    - 25-35 GeV/C\n",
    "    - 35-45 GeV/C"
   ]
  },
  {
   "cell_type": "code",
   "execution_count": 376,
   "id": "fc017bc5",
   "metadata": {
    "slideshow": {
     "slide_type": "skip"
    }
   },
   "outputs": [],
   "source": [
    "# Imports\n",
    "\n",
    "import os\n",
    "import sys\n",
    "import glob\n",
    "\n",
    "from lightgbm.sklearn import LGBMClassifier\n",
    "from sklearn.ensemble import AdaBoostClassifier\n",
    "from xgboost import XGBClassifier\n",
    "from sklearn.model_selection import KFold\n",
    "from sklearn.metrics import (\n",
    "    plot_roc_curve,    \n",
    "    auc, \n",
    "    accuracy_score,\n",
    "    confusion_matrix, \n",
    "    classification_report,\n",
    "    precision_recall_curve\n",
    "    \n",
    ")\n",
    "import optuna\n",
    "\n",
    "import seaborn as sns\n",
    "import matplotlib.pyplot as plt\n",
    "import plotly.graph_objects as go\n",
    "import plotly.express as px\n",
    "from sklearn.model_selection import train_test_split\n",
    "import lightgbm as lgb\n",
    "import h5py \n",
    "import seaborn as sns\n",
    "import matplotlib.pyplot as plt\n",
    "from collections import defaultdict\n",
    "\n",
    "__file__ = \"../utils/helpers.py\"\n",
    "SCRIPT_DIR = os.path.dirname(os.path.abspath(__file__))\n",
    "sys.path.append(os.path.dirname(SCRIPT_DIR))\n",
    "from utils.helpers import compute_seq_id, get_config, get_logger\n",
    "from dataset.rich_dataset import *"
   ]
  },
  {
   "cell_type": "code",
   "execution_count": 219,
   "id": "1721cefe",
   "metadata": {
    "scrolled": false,
    "slideshow": {
     "slide_type": "skip"
    }
   },
   "outputs": [
    {
     "name": "stdout",
     "output_type": "stream",
     "text": [
      "Wed Jun  8 08:24:02 2022       \n",
      "+-----------------------------------------------------------------------------+\n",
      "| NVIDIA-SMI 510.47.03    Driver Version: 510.47.03    CUDA Version: 11.6     |\n",
      "|-------------------------------+----------------------+----------------------+\n",
      "| GPU  Name        Persistence-M| Bus-Id        Disp.A | Volatile Uncorr. ECC |\n",
      "| Fan  Temp  Perf  Pwr:Usage/Cap|         Memory-Usage | GPU-Util  Compute M. |\n",
      "|                               |                      |               MIG M. |\n",
      "|===============================+======================+======================|\n",
      "|   0  NVIDIA GeForce ...  Off  | 00000000:1A:00.0 Off |                  N/A |\n",
      "| 30%   33C    P8     5W / 250W |   8690MiB / 11264MiB |      0%      Default |\n",
      "|                               |                      |                  N/A |\n",
      "+-------------------------------+----------------------+----------------------+\n",
      "|   1  NVIDIA GeForce ...  Off  | 00000000:1B:00.0 Off |                  N/A |\n",
      "| 30%   33C    P8    16W / 250W |      3MiB / 11264MiB |      0%      Default |\n",
      "|                               |                      |                  N/A |\n",
      "+-------------------------------+----------------------+----------------------+\n",
      "|   2  NVIDIA GeForce ...  Off  | 00000000:3D:00.0 Off |                  N/A |\n",
      "| 30%   30C    P8    21W / 250W |      3MiB / 11264MiB |      0%      Default |\n",
      "|                               |                      |                  N/A |\n",
      "+-------------------------------+----------------------+----------------------+\n",
      "|   3  NVIDIA GeForce ...  Off  | 00000000:3E:00.0 Off |                  N/A |\n",
      "| 30%   33C    P8     1W / 250W |      3MiB / 11264MiB |      0%      Default |\n",
      "|                               |                      |                  N/A |\n",
      "+-------------------------------+----------------------+----------------------+\n",
      "|   4  NVIDIA GeForce ...  Off  | 00000000:88:00.0 Off |                  N/A |\n",
      "| 31%   30C    P8     7W / 250W |      3MiB / 11264MiB |      0%      Default |\n",
      "|                               |                      |                  N/A |\n",
      "+-------------------------------+----------------------+----------------------+\n",
      "|   5  NVIDIA GeForce ...  Off  | 00000000:89:00.0 Off |                  N/A |\n",
      "| 30%   31C    P8    21W / 250W |      3MiB / 11264MiB |      0%      Default |\n",
      "|                               |                      |                  N/A |\n",
      "+-------------------------------+----------------------+----------------------+\n",
      "|   6  NVIDIA GeForce ...  Off  | 00000000:B1:00.0 Off |                  N/A |\n",
      "| 30%   31C    P8     3W / 250W |      3MiB / 11264MiB |      0%      Default |\n",
      "|                               |                      |                  N/A |\n",
      "+-------------------------------+----------------------+----------------------+\n",
      "|   7  NVIDIA GeForce ...  Off  | 00000000:B2:00.0 Off |                  N/A |\n",
      "| 22%   31C    P8    22W / 250W |    350MiB / 11264MiB |      0%      Default |\n",
      "|                               |                      |                  N/A |\n",
      "+-------------------------------+----------------------+----------------------+\n",
      "                                                                               \n",
      "+-----------------------------------------------------------------------------+\n",
      "| Processes:                                                                  |\n",
      "|  GPU   GI   CI        PID   Type   Process name                  GPU Memory |\n",
      "|        ID   ID                                                   Usage      |\n",
      "|=============================================================================|\n",
      "|    0   N/A  N/A     39246      C   /usr/bin/python3                 8687MiB |\n",
      "|    7   N/A  N/A     12921      C   /opt/conda/bin/python3.8          347MiB |\n",
      "+-----------------------------------------------------------------------------+\n"
     ]
    }
   ],
   "source": [
    "!nvidia-smi"
   ]
  },
  {
   "cell_type": "code",
   "execution_count": 73,
   "id": "7dfb6523",
   "metadata": {
    "slideshow": {
     "slide_type": "skip"
    }
   },
   "outputs": [
    {
     "name": "stdout",
     "output_type": "stream",
     "text": [
      "nvcc: NVIDIA (R) Cuda compiler driver\r\n",
      "Copyright (c) 2005-2021 NVIDIA Corporation\r\n",
      "Built on Fri_Dec_17_18:16:03_PST_2021\r\n",
      "Cuda compilation tools, release 11.6, V11.6.55\r\n",
      "Build cuda_11.6.r11.6/compiler.30794723_0\r\n"
     ]
    }
   ],
   "source": [
    "!nvcc --version"
   ]
  },
  {
   "cell_type": "markdown",
   "id": "fa654860",
   "metadata": {
    "slideshow": {
     "slide_type": "skip"
    }
   },
   "source": [
    "## 1. Extracting data from Original dataset (C : ~ 9 m entries)"
   ]
  },
  {
   "cell_type": "code",
   "execution_count": 4,
   "id": "4af5d24e",
   "metadata": {
    "slideshow": {
     "slide_type": "skip"
    }
   },
   "outputs": [
    {
     "name": "stderr",
     "output_type": "stream",
     "text": [
      "2022-06-06 12:47:41,174  INFO      data_version: 5f0df761-9a34-4554-9c50-dc0b338dc19a\n",
      "2022-06-06 12:47:41,177  INFO      description: NA62 RICH PID dataset - MDS Capstone project - Thu 26 May 2022 09:33:42 AM CEST <bob.velghe@triumf.ca>\n",
      "2022-06-06 12:47:41,181  INFO      entries: 9662769\n",
      "2022-06-06 12:47:41,182  INFO      muon_offset: 0\n",
      "2022-06-06 12:47:41,183  INFO      pion_offset: 8583495\n",
      "2022-06-06 12:47:41,184  INFO      positron_offset: 9567650\n",
      "2022-06-06 12:47:42,122  INFO      hit map size: 77302160 bytes\n",
      "2022-06-06 12:47:42,128  INFO      Offsets: {'entries': 9662769, 'muon': 0, 'pion': 8583495, 'positron': 9567650}\n",
      "2022-06-06 12:47:42,157  INFO      Entries: 9662769\n",
      "2022-06-06 12:47:42,160  INFO      Muons start at index: 0\n",
      "2022-06-06 12:47:42,162  INFO      Pions start at index: 8583495\n",
      "2022-06-06 12:47:42,164  INFO      Positron start at index: 9567650\n",
      "2022-06-06 12:47:43,538  INFO      Total indices: 9662767\n",
      "2022-06-06 12:47:43,541  INFO      Total Train indices: 0\n",
      "2022-06-06 12:47:43,543  INFO      Sample Train indices: []\n",
      "2022-06-06 12:47:43,544  INFO      Total Validation indices: 0\n",
      "2022-06-06 12:47:43,544  INFO      Sample Validation indices: []\n",
      "2022-06-06 12:47:43,545  INFO      Total Test indices: 0\n",
      "2022-06-06 12:47:43,546  INFO      Sample Test indices: []\n",
      "2022-06-06 12:47:43,547  INFO      hit array mmap size: 6921200020 bytes\n",
      "2022-06-06 12:47:43,548  INFO      event array mmap size: 695719368 bytes\n"
     ]
    }
   ],
   "source": [
    "# 1. Extracting the whole data Frame from original patched file (C)\n",
    "\n",
    "# dset_path = \"../Run008594.EOSlist.CTRL.p.v2.0.4-01_f.v2.0.4-01_patched.h5\"\n",
    "dset_path = \"/data/bvelghe/capstone2022/C/2018E.EOSlist.CTRL_patched.h5\"\n",
    "dset_unbalanced = RICHDataset(\n",
    "    dset_path\n",
    ")"
   ]
  },
  {
   "cell_type": "code",
   "execution_count": 77,
   "id": "1042d7e2",
   "metadata": {
    "slideshow": {
     "slide_type": "skip"
    }
   },
   "outputs": [],
   "source": [
    "# Function to convert data into pandas dataframe\n",
    "def dataset_gbt(dset):\n",
    "    \"Returns dataset with momentum, ring radius, total hits, center positions\"\n",
    "    mu_off = dset.offsets['muon']\n",
    "    pi_off = dset.offsets['pion']\n",
    "    pos_off = dset.offsets['positron']\n",
    "    entries = dset.offsets['entries']\n",
    "\n",
    "    labels = np.zeros(entries, dtype=np.int32)\n",
    "    labels[mu_off:pi_off] = 0                           # Muon\n",
    "    labels[pi_off:pos_off] = 1                          # Pion\n",
    "    labels[pos_off:] = 2                              # Positron\n",
    "\n",
    "    total_hits = dset.hit_mapping[1:] - dset.hit_mapping[:-1]\n",
    "\n",
    "    ring_centre_pos_x = dset.event_array['ring_centre_pos'][:, 0]\n",
    "    ring_centre_pos_y = dset.event_array['ring_centre_pos'][:, 1]\n",
    "\n",
    "    df = pd.DataFrame(\n",
    "        {\n",
    "            'track_momentum' : dset.event_array['track_momentum'], \n",
    "            'ring_radius': dset.event_array['ring_radius'],\n",
    "            'total_hits': total_hits,\n",
    "            'ring_centre_pos_x': ring_centre_pos_x,\n",
    "            'ring_centre_pos_y': ring_centre_pos_y,\n",
    "            'labels': labels\n",
    "        },\n",
    "    )\n",
    "    return df"
   ]
  },
  {
   "cell_type": "code",
   "execution_count": 78,
   "id": "09249b6c",
   "metadata": {
    "slideshow": {
     "slide_type": "skip"
    }
   },
   "outputs": [
    {
     "data": {
      "text/plain": [
       "(9662769, 6)"
      ]
     },
     "execution_count": 78,
     "metadata": {},
     "output_type": "execute_result"
    }
   ],
   "source": [
    "df_unbalanced = dataset_gbt(dset_unbalanced)\n",
    "df_unbalanced.shape"
   ]
  },
  {
   "cell_type": "code",
   "execution_count": 354,
   "id": "025a25bc",
   "metadata": {
    "slideshow": {
     "slide_type": "subslide"
    }
   },
   "outputs": [
    {
     "data": {
      "text/html": [
       "<div>\n",
       "<style scoped>\n",
       "    .dataframe tbody tr th:only-of-type {\n",
       "        vertical-align: middle;\n",
       "    }\n",
       "\n",
       "    .dataframe tbody tr th {\n",
       "        vertical-align: top;\n",
       "    }\n",
       "\n",
       "    .dataframe thead th {\n",
       "        text-align: right;\n",
       "    }\n",
       "</style>\n",
       "<table border=\"1\" class=\"dataframe\">\n",
       "  <thead>\n",
       "    <tr style=\"text-align: right;\">\n",
       "      <th></th>\n",
       "      <th>track_momentum</th>\n",
       "      <th>ring_radius</th>\n",
       "      <th>total_hits</th>\n",
       "      <th>ring_centre_pos_x</th>\n",
       "      <th>ring_centre_pos_y</th>\n",
       "      <th>labels</th>\n",
       "    </tr>\n",
       "  </thead>\n",
       "  <tbody>\n",
       "    <tr>\n",
       "      <th>0</th>\n",
       "      <td>26.948496</td>\n",
       "      <td>179.391769</td>\n",
       "      <td>22</td>\n",
       "      <td>-4.097735</td>\n",
       "      <td>31.231167</td>\n",
       "      <td>0</td>\n",
       "    </tr>\n",
       "    <tr>\n",
       "      <th>1</th>\n",
       "      <td>28.132404</td>\n",
       "      <td>178.753250</td>\n",
       "      <td>43</td>\n",
       "      <td>-156.361954</td>\n",
       "      <td>-131.826675</td>\n",
       "      <td>0</td>\n",
       "    </tr>\n",
       "    <tr>\n",
       "      <th>2</th>\n",
       "      <td>31.447334</td>\n",
       "      <td>180.091827</td>\n",
       "      <td>91</td>\n",
       "      <td>-49.356911</td>\n",
       "      <td>-90.976852</td>\n",
       "      <td>0</td>\n",
       "    </tr>\n",
       "    <tr>\n",
       "      <th>3</th>\n",
       "      <td>17.581686</td>\n",
       "      <td>160.696716</td>\n",
       "      <td>15</td>\n",
       "      <td>-54.584312</td>\n",
       "      <td>-29.460228</td>\n",
       "      <td>0</td>\n",
       "    </tr>\n",
       "    <tr>\n",
       "      <th>4</th>\n",
       "      <td>51.211544</td>\n",
       "      <td>189.128403</td>\n",
       "      <td>28</td>\n",
       "      <td>-114.221886</td>\n",
       "      <td>57.083755</td>\n",
       "      <td>0</td>\n",
       "    </tr>\n",
       "    <tr>\n",
       "      <th>...</th>\n",
       "      <td>...</td>\n",
       "      <td>...</td>\n",
       "      <td>...</td>\n",
       "      <td>...</td>\n",
       "      <td>...</td>\n",
       "      <td>...</td>\n",
       "    </tr>\n",
       "    <tr>\n",
       "      <th>9662764</th>\n",
       "      <td>31.850220</td>\n",
       "      <td>192.431152</td>\n",
       "      <td>32</td>\n",
       "      <td>-113.566689</td>\n",
       "      <td>-57.402962</td>\n",
       "      <td>2</td>\n",
       "    </tr>\n",
       "    <tr>\n",
       "      <th>9662765</th>\n",
       "      <td>12.499146</td>\n",
       "      <td>190.746674</td>\n",
       "      <td>56</td>\n",
       "      <td>-321.155853</td>\n",
       "      <td>-3.086937</td>\n",
       "      <td>2</td>\n",
       "    </tr>\n",
       "    <tr>\n",
       "      <th>9662766</th>\n",
       "      <td>29.423574</td>\n",
       "      <td>192.198502</td>\n",
       "      <td>22</td>\n",
       "      <td>-85.888626</td>\n",
       "      <td>69.484283</td>\n",
       "      <td>2</td>\n",
       "    </tr>\n",
       "    <tr>\n",
       "      <th>9662767</th>\n",
       "      <td>36.714138</td>\n",
       "      <td>191.890732</td>\n",
       "      <td>90</td>\n",
       "      <td>-122.784370</td>\n",
       "      <td>83.730347</td>\n",
       "      <td>2</td>\n",
       "    </tr>\n",
       "    <tr>\n",
       "      <th>9662768</th>\n",
       "      <td>21.653843</td>\n",
       "      <td>190.720322</td>\n",
       "      <td>36</td>\n",
       "      <td>-254.223358</td>\n",
       "      <td>-15.691989</td>\n",
       "      <td>2</td>\n",
       "    </tr>\n",
       "  </tbody>\n",
       "</table>\n",
       "<p>9662769 rows × 6 columns</p>\n",
       "</div>"
      ],
      "text/plain": [
       "         track_momentum  ring_radius  total_hits  ring_centre_pos_x  \\\n",
       "0             26.948496   179.391769          22          -4.097735   \n",
       "1             28.132404   178.753250          43        -156.361954   \n",
       "2             31.447334   180.091827          91         -49.356911   \n",
       "3             17.581686   160.696716          15         -54.584312   \n",
       "4             51.211544   189.128403          28        -114.221886   \n",
       "...                 ...          ...         ...                ...   \n",
       "9662764       31.850220   192.431152          32        -113.566689   \n",
       "9662765       12.499146   190.746674          56        -321.155853   \n",
       "9662766       29.423574   192.198502          22         -85.888626   \n",
       "9662767       36.714138   191.890732          90        -122.784370   \n",
       "9662768       21.653843   190.720322          36        -254.223358   \n",
       "\n",
       "         ring_centre_pos_y  labels  \n",
       "0                31.231167       0  \n",
       "1              -131.826675       0  \n",
       "2               -90.976852       0  \n",
       "3               -29.460228       0  \n",
       "4                57.083755       0  \n",
       "...                    ...     ...  \n",
       "9662764         -57.402962       2  \n",
       "9662765          -3.086937       2  \n",
       "9662766          69.484283       2  \n",
       "9662767          83.730347       2  \n",
       "9662768         -15.691989       2  \n",
       "\n",
       "[9662769 rows x 6 columns]"
      ]
     },
     "execution_count": 354,
     "metadata": {},
     "output_type": "execute_result"
    }
   ],
   "source": [
    "df_unbalanced"
   ]
  },
  {
   "cell_type": "code",
   "execution_count": 79,
   "id": "24c807be",
   "metadata": {
    "slideshow": {
     "slide_type": "subslide"
    }
   },
   "outputs": [
    {
     "data": {
      "text/plain": [
       "0    8583495\n",
       "1     984155\n",
       "2      95119\n",
       "Name: labels, dtype: int64"
      ]
     },
     "execution_count": 79,
     "metadata": {},
     "output_type": "execute_result"
    }
   ],
   "source": [
    "# Value counts of the classes (0: muon, 1: pion, 2: positron)\n",
    "df_unbalanced.labels.value_counts()"
   ]
  },
  {
   "cell_type": "markdown",
   "id": "4b0c15c0",
   "metadata": {
    "slideshow": {
     "slide_type": "slide"
    }
   },
   "source": [
    "## 2. Creating balanced dataset C (1.7 m entries) and adding total hits"
   ]
  },
  {
   "cell_type": "code",
   "execution_count": 81,
   "id": "68be5fa0",
   "metadata": {
    "slideshow": {
     "slide_type": "skip"
    }
   },
   "outputs": [
    {
     "data": {
      "text/plain": [
       "(1731226, 15)"
      ]
     },
     "execution_count": 81,
     "metadata": {},
     "output_type": "execute_result"
    }
   ],
   "source": [
    "# Converting combined balanced dataset C to pandas dataframe\n",
    "df_temp = pd.read_hdf('/fast_scratch_1/capstone_2022/datasetC_combined.h5')\n",
    "df_temp.shape"
   ]
  },
  {
   "cell_type": "code",
   "execution_count": 355,
   "id": "898566b6",
   "metadata": {
    "scrolled": false,
    "slideshow": {
     "slide_type": "skip"
    }
   },
   "outputs": [
    {
     "data": {
      "text/html": [
       "<div>\n",
       "<style scoped>\n",
       "    .dataframe tbody tr th:only-of-type {\n",
       "        vertical-align: middle;\n",
       "    }\n",
       "\n",
       "    .dataframe tbody tr th {\n",
       "        vertical-align: top;\n",
       "    }\n",
       "\n",
       "    .dataframe thead th {\n",
       "        text-align: right;\n",
       "    }\n",
       "</style>\n",
       "<table border=\"1\" class=\"dataframe\">\n",
       "  <thead>\n",
       "    <tr style=\"text-align: right;\">\n",
       "      <th></th>\n",
       "      <th>run_id</th>\n",
       "      <th>burst_id</th>\n",
       "      <th>event_id</th>\n",
       "      <th>track_id</th>\n",
       "      <th>track_momentum</th>\n",
       "      <th>chod_time</th>\n",
       "      <th>ring_radius</th>\n",
       "      <th>ring_centre_pos_x</th>\n",
       "      <th>ring_centre_pos_y</th>\n",
       "      <th>ring_likelihood_pion</th>\n",
       "      <th>ring_likelihood_muon</th>\n",
       "      <th>ring_likelihood_positron</th>\n",
       "      <th>label</th>\n",
       "      <th>original_index</th>\n",
       "      <th>momentum-bin</th>\n",
       "    </tr>\n",
       "    <tr>\n",
       "      <th>original_index</th>\n",
       "      <th></th>\n",
       "      <th></th>\n",
       "      <th></th>\n",
       "      <th></th>\n",
       "      <th></th>\n",
       "      <th></th>\n",
       "      <th></th>\n",
       "      <th></th>\n",
       "      <th></th>\n",
       "      <th></th>\n",
       "      <th></th>\n",
       "      <th></th>\n",
       "      <th></th>\n",
       "      <th></th>\n",
       "      <th></th>\n",
       "    </tr>\n",
       "  </thead>\n",
       "  <tbody>\n",
       "    <tr>\n",
       "      <th>2687658</th>\n",
       "      <td>9011</td>\n",
       "      <td>887</td>\n",
       "      <td>1800376</td>\n",
       "      <td>0</td>\n",
       "      <td>24.691673</td>\n",
       "      <td>16.837833</td>\n",
       "      <td>177.461960</td>\n",
       "      <td>-60.107861</td>\n",
       "      <td>106.794441</td>\n",
       "      <td>5.328789e-10</td>\n",
       "      <td>1.000000</td>\n",
       "      <td>9.393904e-21</td>\n",
       "      <td>0</td>\n",
       "      <td>2687658</td>\n",
       "      <td>15-25</td>\n",
       "    </tr>\n",
       "    <tr>\n",
       "      <th>4676657</th>\n",
       "      <td>8992</td>\n",
       "      <td>1059</td>\n",
       "      <td>770241</td>\n",
       "      <td>0</td>\n",
       "      <td>23.396029</td>\n",
       "      <td>9.284823</td>\n",
       "      <td>175.237564</td>\n",
       "      <td>-12.228768</td>\n",
       "      <td>11.319837</td>\n",
       "      <td>1.080940e-22</td>\n",
       "      <td>1.000000</td>\n",
       "      <td>6.127901e-07</td>\n",
       "      <td>0</td>\n",
       "      <td>4676657</td>\n",
       "      <td>15-25</td>\n",
       "    </tr>\n",
       "    <tr>\n",
       "      <th>3262259</th>\n",
       "      <td>9007</td>\n",
       "      <td>477</td>\n",
       "      <td>1922012</td>\n",
       "      <td>0</td>\n",
       "      <td>15.891424</td>\n",
       "      <td>22.654669</td>\n",
       "      <td>152.091827</td>\n",
       "      <td>-241.150375</td>\n",
       "      <td>-172.708389</td>\n",
       "      <td>1.216099e-37</td>\n",
       "      <td>1.000000</td>\n",
       "      <td>1.216099e-37</td>\n",
       "      <td>0</td>\n",
       "      <td>3262259</td>\n",
       "      <td>15-25</td>\n",
       "    </tr>\n",
       "    <tr>\n",
       "      <th>5473943</th>\n",
       "      <td>8987</td>\n",
       "      <td>1295</td>\n",
       "      <td>1634792</td>\n",
       "      <td>0</td>\n",
       "      <td>16.026428</td>\n",
       "      <td>23.254803</td>\n",
       "      <td>155.005783</td>\n",
       "      <td>-65.635712</td>\n",
       "      <td>-0.601753</td>\n",
       "      <td>1.216099e-37</td>\n",
       "      <td>1.000000</td>\n",
       "      <td>1.216099e-37</td>\n",
       "      <td>0</td>\n",
       "      <td>5473943</td>\n",
       "      <td>15-25</td>\n",
       "    </tr>\n",
       "    <tr>\n",
       "      <th>8071459</th>\n",
       "      <td>8971</td>\n",
       "      <td>654</td>\n",
       "      <td>2010374</td>\n",
       "      <td>0</td>\n",
       "      <td>21.888950</td>\n",
       "      <td>24.337191</td>\n",
       "      <td>172.810287</td>\n",
       "      <td>-231.750687</td>\n",
       "      <td>159.534821</td>\n",
       "      <td>4.307081e-14</td>\n",
       "      <td>1.000000</td>\n",
       "      <td>7.490480e-21</td>\n",
       "      <td>0</td>\n",
       "      <td>8071459</td>\n",
       "      <td>15-25</td>\n",
       "    </tr>\n",
       "    <tr>\n",
       "      <th>...</th>\n",
       "      <td>...</td>\n",
       "      <td>...</td>\n",
       "      <td>...</td>\n",
       "      <td>...</td>\n",
       "      <td>...</td>\n",
       "      <td>...</td>\n",
       "      <td>...</td>\n",
       "      <td>...</td>\n",
       "      <td>...</td>\n",
       "      <td>...</td>\n",
       "      <td>...</td>\n",
       "      <td>...</td>\n",
       "      <td>...</td>\n",
       "      <td>...</td>\n",
       "      <td>...</td>\n",
       "    </tr>\n",
       "    <tr>\n",
       "      <th>9567636</th>\n",
       "      <td>8968</td>\n",
       "      <td>7</td>\n",
       "      <td>563388</td>\n",
       "      <td>0</td>\n",
       "      <td>35.011139</td>\n",
       "      <td>16.212551</td>\n",
       "      <td>177.854492</td>\n",
       "      <td>-213.486633</td>\n",
       "      <td>-2.936464</td>\n",
       "      <td>1.000000e+00</td>\n",
       "      <td>0.000043</td>\n",
       "      <td>2.887881e-20</td>\n",
       "      <td>1</td>\n",
       "      <td>9567636</td>\n",
       "      <td>35-45</td>\n",
       "    </tr>\n",
       "    <tr>\n",
       "      <th>9567637</th>\n",
       "      <td>8968</td>\n",
       "      <td>7</td>\n",
       "      <td>572378</td>\n",
       "      <td>0</td>\n",
       "      <td>38.958267</td>\n",
       "      <td>19.714800</td>\n",
       "      <td>182.430420</td>\n",
       "      <td>-98.754082</td>\n",
       "      <td>92.138535</td>\n",
       "      <td>1.000000e+00</td>\n",
       "      <td>0.146916</td>\n",
       "      <td>3.528800e-07</td>\n",
       "      <td>1</td>\n",
       "      <td>9567637</td>\n",
       "      <td>35-45</td>\n",
       "    </tr>\n",
       "    <tr>\n",
       "      <th>9567638</th>\n",
       "      <td>8968</td>\n",
       "      <td>7</td>\n",
       "      <td>583135</td>\n",
       "      <td>0</td>\n",
       "      <td>38.474777</td>\n",
       "      <td>13.620609</td>\n",
       "      <td>176.691132</td>\n",
       "      <td>-145.546219</td>\n",
       "      <td>-77.260124</td>\n",
       "      <td>1.000000e+00</td>\n",
       "      <td>0.001099</td>\n",
       "      <td>5.301323e-11</td>\n",
       "      <td>1</td>\n",
       "      <td>9567638</td>\n",
       "      <td>35-45</td>\n",
       "    </tr>\n",
       "    <tr>\n",
       "      <th>9567646</th>\n",
       "      <td>8968</td>\n",
       "      <td>7</td>\n",
       "      <td>1461058</td>\n",
       "      <td>0</td>\n",
       "      <td>36.989967</td>\n",
       "      <td>14.916398</td>\n",
       "      <td>180.464676</td>\n",
       "      <td>-186.481369</td>\n",
       "      <td>-47.899498</td>\n",
       "      <td>1.000000e+00</td>\n",
       "      <td>0.004252</td>\n",
       "      <td>8.353033e-16</td>\n",
       "      <td>1</td>\n",
       "      <td>9567646</td>\n",
       "      <td>35-45</td>\n",
       "    </tr>\n",
       "    <tr>\n",
       "      <th>9567649</th>\n",
       "      <td>8968</td>\n",
       "      <td>7</td>\n",
       "      <td>1879508</td>\n",
       "      <td>0</td>\n",
       "      <td>37.186985</td>\n",
       "      <td>13.901727</td>\n",
       "      <td>179.594803</td>\n",
       "      <td>-184.169525</td>\n",
       "      <td>-46.599884</td>\n",
       "      <td>1.000000e+00</td>\n",
       "      <td>0.145252</td>\n",
       "      <td>4.142398e-08</td>\n",
       "      <td>1</td>\n",
       "      <td>9567649</td>\n",
       "      <td>35-45</td>\n",
       "    </tr>\n",
       "  </tbody>\n",
       "</table>\n",
       "<p>1731226 rows × 15 columns</p>\n",
       "</div>"
      ],
      "text/plain": [
       "                run_id  burst_id  event_id  track_id  track_momentum  \\\n",
       "original_index                                                         \n",
       "2687658           9011       887   1800376         0       24.691673   \n",
       "4676657           8992      1059    770241         0       23.396029   \n",
       "3262259           9007       477   1922012         0       15.891424   \n",
       "5473943           8987      1295   1634792         0       16.026428   \n",
       "8071459           8971       654   2010374         0       21.888950   \n",
       "...                ...       ...       ...       ...             ...   \n",
       "9567636           8968         7    563388         0       35.011139   \n",
       "9567637           8968         7    572378         0       38.958267   \n",
       "9567638           8968         7    583135         0       38.474777   \n",
       "9567646           8968         7   1461058         0       36.989967   \n",
       "9567649           8968         7   1879508         0       37.186985   \n",
       "\n",
       "                chod_time  ring_radius  ring_centre_pos_x  ring_centre_pos_y  \\\n",
       "original_index                                                                 \n",
       "2687658         16.837833   177.461960         -60.107861         106.794441   \n",
       "4676657          9.284823   175.237564         -12.228768          11.319837   \n",
       "3262259         22.654669   152.091827        -241.150375        -172.708389   \n",
       "5473943         23.254803   155.005783         -65.635712          -0.601753   \n",
       "8071459         24.337191   172.810287        -231.750687         159.534821   \n",
       "...                   ...          ...                ...                ...   \n",
       "9567636         16.212551   177.854492        -213.486633          -2.936464   \n",
       "9567637         19.714800   182.430420         -98.754082          92.138535   \n",
       "9567638         13.620609   176.691132        -145.546219         -77.260124   \n",
       "9567646         14.916398   180.464676        -186.481369         -47.899498   \n",
       "9567649         13.901727   179.594803        -184.169525         -46.599884   \n",
       "\n",
       "                ring_likelihood_pion  ring_likelihood_muon  \\\n",
       "original_index                                               \n",
       "2687658                 5.328789e-10              1.000000   \n",
       "4676657                 1.080940e-22              1.000000   \n",
       "3262259                 1.216099e-37              1.000000   \n",
       "5473943                 1.216099e-37              1.000000   \n",
       "8071459                 4.307081e-14              1.000000   \n",
       "...                              ...                   ...   \n",
       "9567636                 1.000000e+00              0.000043   \n",
       "9567637                 1.000000e+00              0.146916   \n",
       "9567638                 1.000000e+00              0.001099   \n",
       "9567646                 1.000000e+00              0.004252   \n",
       "9567649                 1.000000e+00              0.145252   \n",
       "\n",
       "                ring_likelihood_positron  label  original_index momentum-bin  \n",
       "original_index                                                                \n",
       "2687658                     9.393904e-21      0         2687658        15-25  \n",
       "4676657                     6.127901e-07      0         4676657        15-25  \n",
       "3262259                     1.216099e-37      0         3262259        15-25  \n",
       "5473943                     1.216099e-37      0         5473943        15-25  \n",
       "8071459                     7.490480e-21      0         8071459        15-25  \n",
       "...                                  ...    ...             ...          ...  \n",
       "9567636                     2.887881e-20      1         9567636        35-45  \n",
       "9567637                     3.528800e-07      1         9567637        35-45  \n",
       "9567638                     5.301323e-11      1         9567638        35-45  \n",
       "9567646                     8.353033e-16      1         9567646        35-45  \n",
       "9567649                     4.142398e-08      1         9567649        35-45  \n",
       "\n",
       "[1731226 rows x 15 columns]"
      ]
     },
     "execution_count": 355,
     "metadata": {},
     "output_type": "execute_result"
    }
   ],
   "source": [
    "# Combined balanced dataset of \"/data/bvelghe/capstone2022/C/2018E.EOSlist.CTRL_patched.h5\"\n",
    "df_temp"
   ]
  },
  {
   "cell_type": "code",
   "execution_count": 83,
   "id": "b676284b",
   "metadata": {
    "slideshow": {
     "slide_type": "subslide"
    }
   },
   "outputs": [
    {
     "data": {
      "text/html": [
       "<div>\n",
       "<style scoped>\n",
       "    .dataframe tbody tr th:only-of-type {\n",
       "        vertical-align: middle;\n",
       "    }\n",
       "\n",
       "    .dataframe tbody tr th {\n",
       "        vertical-align: top;\n",
       "    }\n",
       "\n",
       "    .dataframe thead th {\n",
       "        text-align: right;\n",
       "    }\n",
       "</style>\n",
       "<table border=\"1\" class=\"dataframe\">\n",
       "  <thead>\n",
       "    <tr style=\"text-align: right;\">\n",
       "      <th></th>\n",
       "      <th>track_momentum</th>\n",
       "      <th>ring_radius</th>\n",
       "      <th>total_hits</th>\n",
       "      <th>ring_centre_pos_x</th>\n",
       "      <th>ring_centre_pos_y</th>\n",
       "      <th>labels</th>\n",
       "    </tr>\n",
       "  </thead>\n",
       "  <tbody>\n",
       "    <tr>\n",
       "      <th>2687658</th>\n",
       "      <td>24.691673</td>\n",
       "      <td>177.461960</td>\n",
       "      <td>22</td>\n",
       "      <td>-60.107861</td>\n",
       "      <td>106.794441</td>\n",
       "      <td>0</td>\n",
       "    </tr>\n",
       "    <tr>\n",
       "      <th>4676657</th>\n",
       "      <td>23.396029</td>\n",
       "      <td>175.237564</td>\n",
       "      <td>21</td>\n",
       "      <td>-12.228768</td>\n",
       "      <td>11.319837</td>\n",
       "      <td>0</td>\n",
       "    </tr>\n",
       "    <tr>\n",
       "      <th>3262259</th>\n",
       "      <td>15.891424</td>\n",
       "      <td>152.091827</td>\n",
       "      <td>19</td>\n",
       "      <td>-241.150375</td>\n",
       "      <td>-172.708389</td>\n",
       "      <td>0</td>\n",
       "    </tr>\n",
       "    <tr>\n",
       "      <th>5473943</th>\n",
       "      <td>16.026428</td>\n",
       "      <td>155.005783</td>\n",
       "      <td>35</td>\n",
       "      <td>-65.635712</td>\n",
       "      <td>-0.601753</td>\n",
       "      <td>0</td>\n",
       "    </tr>\n",
       "    <tr>\n",
       "      <th>8071459</th>\n",
       "      <td>21.888950</td>\n",
       "      <td>172.810287</td>\n",
       "      <td>48</td>\n",
       "      <td>-231.750687</td>\n",
       "      <td>159.534821</td>\n",
       "      <td>0</td>\n",
       "    </tr>\n",
       "    <tr>\n",
       "      <th>...</th>\n",
       "      <td>...</td>\n",
       "      <td>...</td>\n",
       "      <td>...</td>\n",
       "      <td>...</td>\n",
       "      <td>...</td>\n",
       "      <td>...</td>\n",
       "    </tr>\n",
       "    <tr>\n",
       "      <th>9567636</th>\n",
       "      <td>35.011139</td>\n",
       "      <td>177.854492</td>\n",
       "      <td>28</td>\n",
       "      <td>-213.486633</td>\n",
       "      <td>-2.936464</td>\n",
       "      <td>1</td>\n",
       "    </tr>\n",
       "    <tr>\n",
       "      <th>9567637</th>\n",
       "      <td>38.958267</td>\n",
       "      <td>182.430420</td>\n",
       "      <td>21</td>\n",
       "      <td>-98.754082</td>\n",
       "      <td>92.138535</td>\n",
       "      <td>1</td>\n",
       "    </tr>\n",
       "    <tr>\n",
       "      <th>9567638</th>\n",
       "      <td>38.474777</td>\n",
       "      <td>176.691132</td>\n",
       "      <td>31</td>\n",
       "      <td>-145.546219</td>\n",
       "      <td>-77.260124</td>\n",
       "      <td>1</td>\n",
       "    </tr>\n",
       "    <tr>\n",
       "      <th>9567646</th>\n",
       "      <td>36.989967</td>\n",
       "      <td>180.464676</td>\n",
       "      <td>51</td>\n",
       "      <td>-186.481369</td>\n",
       "      <td>-47.899498</td>\n",
       "      <td>1</td>\n",
       "    </tr>\n",
       "    <tr>\n",
       "      <th>9567649</th>\n",
       "      <td>37.186985</td>\n",
       "      <td>179.594803</td>\n",
       "      <td>34</td>\n",
       "      <td>-184.169525</td>\n",
       "      <td>-46.599884</td>\n",
       "      <td>1</td>\n",
       "    </tr>\n",
       "  </tbody>\n",
       "</table>\n",
       "<p>1731226 rows × 6 columns</p>\n",
       "</div>"
      ],
      "text/plain": [
       "         track_momentum  ring_radius  total_hits  ring_centre_pos_x  \\\n",
       "2687658       24.691673   177.461960          22         -60.107861   \n",
       "4676657       23.396029   175.237564          21         -12.228768   \n",
       "3262259       15.891424   152.091827          19        -241.150375   \n",
       "5473943       16.026428   155.005783          35         -65.635712   \n",
       "8071459       21.888950   172.810287          48        -231.750687   \n",
       "...                 ...          ...         ...                ...   \n",
       "9567636       35.011139   177.854492          28        -213.486633   \n",
       "9567637       38.958267   182.430420          21         -98.754082   \n",
       "9567638       38.474777   176.691132          31        -145.546219   \n",
       "9567646       36.989967   180.464676          51        -186.481369   \n",
       "9567649       37.186985   179.594803          34        -184.169525   \n",
       "\n",
       "         ring_centre_pos_y  labels  \n",
       "2687658         106.794441       0  \n",
       "4676657          11.319837       0  \n",
       "3262259        -172.708389       0  \n",
       "5473943          -0.601753       0  \n",
       "8071459         159.534821       0  \n",
       "...                    ...     ...  \n",
       "9567636          -2.936464       1  \n",
       "9567637          92.138535       1  \n",
       "9567638         -77.260124       1  \n",
       "9567646         -47.899498       1  \n",
       "9567649         -46.599884       1  \n",
       "\n",
       "[1731226 rows x 6 columns]"
      ]
     },
     "execution_count": 83,
     "metadata": {},
     "output_type": "execute_result"
    }
   ],
   "source": [
    "# Adding total hits from original dataset C by mapping original indices\n",
    "df_balanced = df_unbalanced.iloc[df_temp.original_index,:]\n",
    "df_balanced"
   ]
  },
  {
   "cell_type": "markdown",
   "id": "0d265577",
   "metadata": {
    "slideshow": {
     "slide_type": "slide"
    }
   },
   "source": [
    "## 3. Filtering hits data and adding total_hits_filtered"
   ]
  },
  {
   "cell_type": "code",
   "execution_count": 84,
   "id": "afd4feff",
   "metadata": {
    "slideshow": {
     "slide_type": "skip"
    }
   },
   "outputs": [],
   "source": [
    "# Filtering noise for total hits\n",
    "\n",
    "def filter_hits(\n",
    "    dset_unbalanced=dset_unbalanced, \n",
    "    df_balanced= df_balanced, \n",
    "    delta = 0.3\n",
    "):\n",
    "    \"\"\"Filter hits based on chod time hit time delta\"\"\"\n",
    "    \n",
    "    # Event indices in balanced dataset\n",
    "    event_nums = df_balanced.index\n",
    "\n",
    "    # Defining total_hits_filtered\n",
    "    total_hits_filtered = pd.Series(np.zeros(df_balanced.shape[0], dtype='int32'), index=event_nums,dtype='int32')\n",
    "\n",
    "    for event_idx in event_nums:\n",
    "        # Finding the number of hits for each event in the hit_array from hit_mapping\n",
    "        idx_from = dset_unbalanced.hit_mapping[event_idx]\n",
    "        idx_to = dset_unbalanced.hit_mapping[event_idx+1]\n",
    "        hit_times = dset_unbalanced.hit_array['hit_time'][idx_from:idx_to]\n",
    "\n",
    "        # Extracting delta for each event\n",
    "        delta_time = dset_unbalanced.event_array[event_idx][\"chod_time\"] - hit_times\n",
    "\n",
    "        # Fetching the count of hit_times in the range hit_time +- delta_tolerance\n",
    "        total_hits_filtered[event_idx] = delta_time[np.abs(delta_time) < delta].shape[0]\n",
    "\n",
    "    # updating df_balanced for total hits\n",
    "    df_balanced_copy = df_balanced\n",
    "    df_balanced_copy['total_hits_filtered'] = total_hits_filtered\n",
    "    return df_balanced_copy\n",
    "    "
   ]
  },
  {
   "cell_type": "code",
   "execution_count": 85,
   "id": "7d7726de",
   "metadata": {
    "slideshow": {
     "slide_type": "skip"
    }
   },
   "outputs": [
    {
     "name": "stderr",
     "output_type": "stream",
     "text": [
      "/tmp/ipykernel_12921/3182433742.py:31: SettingWithCopyWarning: \n",
      "A value is trying to be set on a copy of a slice from a DataFrame.\n",
      "Try using .loc[row_indexer,col_indexer] = value instead\n",
      "\n",
      "See the caveats in the documentation: https://pandas.pydata.org/pandas-docs/stable/user_guide/indexing.html#returning-a-view-versus-a-copy\n",
      "  df_balanced_copy['total_hits_filtered'] = total_hits_filtered\n"
     ]
    }
   ],
   "source": [
    "df_balanced_filtered = filter_hits()"
   ]
  },
  {
   "cell_type": "code",
   "execution_count": 87,
   "id": "9120c08f",
   "metadata": {
    "slideshow": {
     "slide_type": "subslide"
    }
   },
   "outputs": [
    {
     "data": {
      "text/html": [
       "<div>\n",
       "<style scoped>\n",
       "    .dataframe tbody tr th:only-of-type {\n",
       "        vertical-align: middle;\n",
       "    }\n",
       "\n",
       "    .dataframe tbody tr th {\n",
       "        vertical-align: top;\n",
       "    }\n",
       "\n",
       "    .dataframe thead th {\n",
       "        text-align: right;\n",
       "    }\n",
       "</style>\n",
       "<table border=\"1\" class=\"dataframe\">\n",
       "  <thead>\n",
       "    <tr style=\"text-align: right;\">\n",
       "      <th></th>\n",
       "      <th>track_momentum</th>\n",
       "      <th>ring_radius</th>\n",
       "      <th>total_hits</th>\n",
       "      <th>ring_centre_pos_x</th>\n",
       "      <th>ring_centre_pos_y</th>\n",
       "      <th>labels</th>\n",
       "      <th>total_hits_filtered</th>\n",
       "    </tr>\n",
       "  </thead>\n",
       "  <tbody>\n",
       "    <tr>\n",
       "      <th>2687658</th>\n",
       "      <td>24.691673</td>\n",
       "      <td>177.461960</td>\n",
       "      <td>22</td>\n",
       "      <td>-60.107861</td>\n",
       "      <td>106.794441</td>\n",
       "      <td>0</td>\n",
       "      <td>19</td>\n",
       "    </tr>\n",
       "    <tr>\n",
       "      <th>4676657</th>\n",
       "      <td>23.396029</td>\n",
       "      <td>175.237564</td>\n",
       "      <td>21</td>\n",
       "      <td>-12.228768</td>\n",
       "      <td>11.319837</td>\n",
       "      <td>0</td>\n",
       "      <td>9</td>\n",
       "    </tr>\n",
       "    <tr>\n",
       "      <th>3262259</th>\n",
       "      <td>15.891424</td>\n",
       "      <td>152.091827</td>\n",
       "      <td>19</td>\n",
       "      <td>-241.150375</td>\n",
       "      <td>-172.708389</td>\n",
       "      <td>0</td>\n",
       "      <td>10</td>\n",
       "    </tr>\n",
       "    <tr>\n",
       "      <th>5473943</th>\n",
       "      <td>16.026428</td>\n",
       "      <td>155.005783</td>\n",
       "      <td>35</td>\n",
       "      <td>-65.635712</td>\n",
       "      <td>-0.601753</td>\n",
       "      <td>0</td>\n",
       "      <td>9</td>\n",
       "    </tr>\n",
       "    <tr>\n",
       "      <th>8071459</th>\n",
       "      <td>21.888950</td>\n",
       "      <td>172.810287</td>\n",
       "      <td>48</td>\n",
       "      <td>-231.750687</td>\n",
       "      <td>159.534821</td>\n",
       "      <td>0</td>\n",
       "      <td>12</td>\n",
       "    </tr>\n",
       "    <tr>\n",
       "      <th>...</th>\n",
       "      <td>...</td>\n",
       "      <td>...</td>\n",
       "      <td>...</td>\n",
       "      <td>...</td>\n",
       "      <td>...</td>\n",
       "      <td>...</td>\n",
       "      <td>...</td>\n",
       "    </tr>\n",
       "    <tr>\n",
       "      <th>9567636</th>\n",
       "      <td>35.011139</td>\n",
       "      <td>177.854492</td>\n",
       "      <td>28</td>\n",
       "      <td>-213.486633</td>\n",
       "      <td>-2.936464</td>\n",
       "      <td>1</td>\n",
       "      <td>19</td>\n",
       "    </tr>\n",
       "    <tr>\n",
       "      <th>9567637</th>\n",
       "      <td>38.958267</td>\n",
       "      <td>182.430420</td>\n",
       "      <td>21</td>\n",
       "      <td>-98.754082</td>\n",
       "      <td>92.138535</td>\n",
       "      <td>1</td>\n",
       "      <td>17</td>\n",
       "    </tr>\n",
       "    <tr>\n",
       "      <th>9567638</th>\n",
       "      <td>38.474777</td>\n",
       "      <td>176.691132</td>\n",
       "      <td>31</td>\n",
       "      <td>-145.546219</td>\n",
       "      <td>-77.260124</td>\n",
       "      <td>1</td>\n",
       "      <td>12</td>\n",
       "    </tr>\n",
       "    <tr>\n",
       "      <th>9567646</th>\n",
       "      <td>36.989967</td>\n",
       "      <td>180.464676</td>\n",
       "      <td>51</td>\n",
       "      <td>-186.481369</td>\n",
       "      <td>-47.899498</td>\n",
       "      <td>1</td>\n",
       "      <td>32</td>\n",
       "    </tr>\n",
       "    <tr>\n",
       "      <th>9567649</th>\n",
       "      <td>37.186985</td>\n",
       "      <td>179.594803</td>\n",
       "      <td>34</td>\n",
       "      <td>-184.169525</td>\n",
       "      <td>-46.599884</td>\n",
       "      <td>1</td>\n",
       "      <td>14</td>\n",
       "    </tr>\n",
       "  </tbody>\n",
       "</table>\n",
       "<p>1731226 rows × 7 columns</p>\n",
       "</div>"
      ],
      "text/plain": [
       "         track_momentum  ring_radius  total_hits  ring_centre_pos_x  \\\n",
       "2687658       24.691673   177.461960          22         -60.107861   \n",
       "4676657       23.396029   175.237564          21         -12.228768   \n",
       "3262259       15.891424   152.091827          19        -241.150375   \n",
       "5473943       16.026428   155.005783          35         -65.635712   \n",
       "8071459       21.888950   172.810287          48        -231.750687   \n",
       "...                 ...          ...         ...                ...   \n",
       "9567636       35.011139   177.854492          28        -213.486633   \n",
       "9567637       38.958267   182.430420          21         -98.754082   \n",
       "9567638       38.474777   176.691132          31        -145.546219   \n",
       "9567646       36.989967   180.464676          51        -186.481369   \n",
       "9567649       37.186985   179.594803          34        -184.169525   \n",
       "\n",
       "         ring_centre_pos_y  labels  total_hits_filtered  \n",
       "2687658         106.794441       0                   19  \n",
       "4676657          11.319837       0                    9  \n",
       "3262259        -172.708389       0                   10  \n",
       "5473943          -0.601753       0                    9  \n",
       "8071459         159.534821       0                   12  \n",
       "...                    ...     ...                  ...  \n",
       "9567636          -2.936464       1                   19  \n",
       "9567637          92.138535       1                   17  \n",
       "9567638         -77.260124       1                   12  \n",
       "9567646         -47.899498       1                   32  \n",
       "9567649         -46.599884       1                   14  \n",
       "\n",
       "[1731226 rows x 7 columns]"
      ]
     },
     "execution_count": 87,
     "metadata": {},
     "output_type": "execute_result"
    }
   ],
   "source": [
    "# balanced data filtered for hits by delta value = 0.3\n",
    "df_balanced_filtered"
   ]
  },
  {
   "cell_type": "markdown",
   "id": "a839db9c",
   "metadata": {
    "slideshow": {
     "slide_type": "slide"
    }
   },
   "source": [
    "## 4. Removing anomalous observations"
   ]
  },
  {
   "cell_type": "markdown",
   "id": "613fec09",
   "metadata": {
    "slideshow": {
     "slide_type": "fragment"
    }
   },
   "source": [
    "### Some EDA on ring_centre_pos, ring_radius, total_hits_filtered"
   ]
  },
  {
   "cell_type": "code",
   "execution_count": 130,
   "id": "fef749b2",
   "metadata": {
    "slideshow": {
     "slide_type": "fragment"
    }
   },
   "outputs": [
    {
     "data": {
      "text/html": [
       "<div>\n",
       "<style scoped>\n",
       "    .dataframe tbody tr th:only-of-type {\n",
       "        vertical-align: middle;\n",
       "    }\n",
       "\n",
       "    .dataframe tbody tr th {\n",
       "        vertical-align: top;\n",
       "    }\n",
       "\n",
       "    .dataframe thead th {\n",
       "        text-align: right;\n",
       "    }\n",
       "</style>\n",
       "<table border=\"1\" class=\"dataframe\">\n",
       "  <thead>\n",
       "    <tr style=\"text-align: right;\">\n",
       "      <th></th>\n",
       "      <th>track_momentum</th>\n",
       "      <th>ring_radius</th>\n",
       "      <th>total_hits</th>\n",
       "      <th>ring_centre_pos_x</th>\n",
       "      <th>ring_centre_pos_y</th>\n",
       "      <th>labels</th>\n",
       "      <th>total_hits_filtered</th>\n",
       "    </tr>\n",
       "  </thead>\n",
       "  <tbody>\n",
       "    <tr>\n",
       "      <th>min</th>\n",
       "      <td>15.000096</td>\n",
       "      <td>0.000000e+00</td>\n",
       "      <td>5.0</td>\n",
       "      <td>-9.389281e+08</td>\n",
       "      <td>-683145280.0</td>\n",
       "      <td>0.0</td>\n",
       "      <td>0.0</td>\n",
       "    </tr>\n",
       "    <tr>\n",
       "      <th>max</th>\n",
       "      <td>44.999985</td>\n",
       "      <td>1.366392e+09</td>\n",
       "      <td>332.0</td>\n",
       "      <td>1.183359e+09</td>\n",
       "      <td>307175360.0</td>\n",
       "      <td>1.0</td>\n",
       "      <td>107.0</td>\n",
       "    </tr>\n",
       "  </tbody>\n",
       "</table>\n",
       "</div>"
      ],
      "text/plain": [
       "     track_momentum   ring_radius  total_hits  ring_centre_pos_x  \\\n",
       "min       15.000096  0.000000e+00         5.0      -9.389281e+08   \n",
       "max       44.999985  1.366392e+09       332.0       1.183359e+09   \n",
       "\n",
       "     ring_centre_pos_y  labels  total_hits_filtered  \n",
       "min       -683145280.0     0.0                  0.0  \n",
       "max        307175360.0     1.0                107.0  "
      ]
     },
     "execution_count": 130,
     "metadata": {},
     "output_type": "execute_result"
    }
   ],
   "source": [
    "df_balanced_filtered.describe().loc[['min', 'max'],:]"
   ]
  },
  {
   "cell_type": "code",
   "execution_count": 119,
   "id": "f2a4f642",
   "metadata": {
    "slideshow": {
     "slide_type": "skip"
    }
   },
   "outputs": [
    {
     "data": {
      "text/html": [
       "<div>\n",
       "<style scoped>\n",
       "    .dataframe tbody tr th:only-of-type {\n",
       "        vertical-align: middle;\n",
       "    }\n",
       "\n",
       "    .dataframe tbody tr th {\n",
       "        vertical-align: top;\n",
       "    }\n",
       "\n",
       "    .dataframe thead th {\n",
       "        text-align: right;\n",
       "    }\n",
       "</style>\n",
       "<table border=\"1\" class=\"dataframe\">\n",
       "  <thead>\n",
       "    <tr style=\"text-align: right;\">\n",
       "      <th></th>\n",
       "      <th>track_momentum</th>\n",
       "      <th>ring_radius</th>\n",
       "      <th>total_hits</th>\n",
       "      <th>ring_centre_pos_x</th>\n",
       "      <th>ring_centre_pos_y</th>\n",
       "      <th>labels</th>\n",
       "      <th>total_hits_filtered</th>\n",
       "    </tr>\n",
       "  </thead>\n",
       "  <tbody>\n",
       "    <tr>\n",
       "      <th>8059195</th>\n",
       "      <td>23.793406</td>\n",
       "      <td>1.762612e+08</td>\n",
       "      <td>13</td>\n",
       "      <td>-1.526504e+08</td>\n",
       "      <td>8.812386e+07</td>\n",
       "      <td>0</td>\n",
       "      <td>9</td>\n",
       "    </tr>\n",
       "    <tr>\n",
       "      <th>5064455</th>\n",
       "      <td>24.805933</td>\n",
       "      <td>1.153027e+06</td>\n",
       "      <td>7</td>\n",
       "      <td>-9.988351e+05</td>\n",
       "      <td>-5.764483e+05</td>\n",
       "      <td>0</td>\n",
       "      <td>6</td>\n",
       "    </tr>\n",
       "    <tr>\n",
       "      <th>8898119</th>\n",
       "      <td>23.059324</td>\n",
       "      <td>2.053354e+05</td>\n",
       "      <td>7</td>\n",
       "      <td>-1.777249e+05</td>\n",
       "      <td>-1.025705e+05</td>\n",
       "      <td>1</td>\n",
       "      <td>5</td>\n",
       "    </tr>\n",
       "    <tr>\n",
       "      <th>128444</th>\n",
       "      <td>34.297417</td>\n",
       "      <td>1.084154e+09</td>\n",
       "      <td>32</td>\n",
       "      <td>-9.389281e+08</td>\n",
       "      <td>-5.420366e+08</td>\n",
       "      <td>0</td>\n",
       "      <td>6</td>\n",
       "    </tr>\n",
       "    <tr>\n",
       "      <th>8777544</th>\n",
       "      <td>41.619984</td>\n",
       "      <td>1.872246e+05</td>\n",
       "      <td>51</td>\n",
       "      <td>-9.369404e+04</td>\n",
       "      <td>-1.623283e+05</td>\n",
       "      <td>1</td>\n",
       "      <td>16</td>\n",
       "    </tr>\n",
       "    <tr>\n",
       "      <th>9537126</th>\n",
       "      <td>38.256817</td>\n",
       "      <td>7.900591e+05</td>\n",
       "      <td>8</td>\n",
       "      <td>-6.843749e+05</td>\n",
       "      <td>3.951522e+05</td>\n",
       "      <td>1</td>\n",
       "      <td>2</td>\n",
       "    </tr>\n",
       "  </tbody>\n",
       "</table>\n",
       "</div>"
      ],
      "text/plain": [
       "         track_momentum   ring_radius  total_hits  ring_centre_pos_x  \\\n",
       "8059195       23.793406  1.762612e+08          13      -1.526504e+08   \n",
       "5064455       24.805933  1.153027e+06           7      -9.988351e+05   \n",
       "8898119       23.059324  2.053354e+05           7      -1.777249e+05   \n",
       "128444        34.297417  1.084154e+09          32      -9.389281e+08   \n",
       "8777544       41.619984  1.872246e+05          51      -9.369404e+04   \n",
       "9537126       38.256817  7.900591e+05           8      -6.843749e+05   \n",
       "\n",
       "         ring_centre_pos_y  labels  total_hits_filtered  \n",
       "8059195       8.812386e+07       0                    9  \n",
       "5064455      -5.764483e+05       0                    6  \n",
       "8898119      -1.025705e+05       1                    5  \n",
       "128444       -5.420366e+08       0                    6  \n",
       "8777544      -1.623283e+05       1                   16  \n",
       "9537126       3.951522e+05       1                    2  "
      ]
     },
     "execution_count": 119,
     "metadata": {},
     "output_type": "execute_result"
    }
   ],
   "source": [
    "df_balanced_filtered.query(\"(ring_centre_pos_x < -1000)\")"
   ]
  },
  {
   "cell_type": "code",
   "execution_count": 126,
   "id": "9ba73a53",
   "metadata": {
    "slideshow": {
     "slide_type": "skip"
    }
   },
   "outputs": [
    {
     "data": {
      "text/html": [
       "<div>\n",
       "<style scoped>\n",
       "    .dataframe tbody tr th:only-of-type {\n",
       "        vertical-align: middle;\n",
       "    }\n",
       "\n",
       "    .dataframe tbody tr th {\n",
       "        vertical-align: top;\n",
       "    }\n",
       "\n",
       "    .dataframe thead th {\n",
       "        text-align: right;\n",
       "    }\n",
       "</style>\n",
       "<table border=\"1\" class=\"dataframe\">\n",
       "  <thead>\n",
       "    <tr style=\"text-align: right;\">\n",
       "      <th></th>\n",
       "      <th>track_momentum</th>\n",
       "      <th>ring_radius</th>\n",
       "      <th>total_hits</th>\n",
       "      <th>ring_centre_pos_x</th>\n",
       "      <th>ring_centre_pos_y</th>\n",
       "      <th>labels</th>\n",
       "      <th>total_hits_filtered</th>\n",
       "    </tr>\n",
       "  </thead>\n",
       "  <tbody>\n",
       "    <tr>\n",
       "      <th>6222440</th>\n",
       "      <td>21.997339</td>\n",
       "      <td>167.758591</td>\n",
       "      <td>47</td>\n",
       "      <td>999999.0</td>\n",
       "      <td>999999.0</td>\n",
       "      <td>0</td>\n",
       "      <td>8</td>\n",
       "    </tr>\n",
       "    <tr>\n",
       "      <th>7680853</th>\n",
       "      <td>23.585865</td>\n",
       "      <td>170.338104</td>\n",
       "      <td>42</td>\n",
       "      <td>999999.0</td>\n",
       "      <td>999999.0</td>\n",
       "      <td>0</td>\n",
       "      <td>8</td>\n",
       "    </tr>\n",
       "    <tr>\n",
       "      <th>1890516</th>\n",
       "      <td>18.394594</td>\n",
       "      <td>163.609039</td>\n",
       "      <td>26</td>\n",
       "      <td>999999.0</td>\n",
       "      <td>999999.0</td>\n",
       "      <td>0</td>\n",
       "      <td>10</td>\n",
       "    </tr>\n",
       "    <tr>\n",
       "      <th>540180</th>\n",
       "      <td>18.030018</td>\n",
       "      <td>163.829178</td>\n",
       "      <td>12</td>\n",
       "      <td>999999.0</td>\n",
       "      <td>999999.0</td>\n",
       "      <td>0</td>\n",
       "      <td>4</td>\n",
       "    </tr>\n",
       "    <tr>\n",
       "      <th>3180785</th>\n",
       "      <td>24.080837</td>\n",
       "      <td>181.336777</td>\n",
       "      <td>11</td>\n",
       "      <td>999999.0</td>\n",
       "      <td>999999.0</td>\n",
       "      <td>0</td>\n",
       "      <td>9</td>\n",
       "    </tr>\n",
       "    <tr>\n",
       "      <th>...</th>\n",
       "      <td>...</td>\n",
       "      <td>...</td>\n",
       "      <td>...</td>\n",
       "      <td>...</td>\n",
       "      <td>...</td>\n",
       "      <td>...</td>\n",
       "      <td>...</td>\n",
       "    </tr>\n",
       "    <tr>\n",
       "      <th>9563350</th>\n",
       "      <td>35.584480</td>\n",
       "      <td>176.219864</td>\n",
       "      <td>17</td>\n",
       "      <td>999999.0</td>\n",
       "      <td>999999.0</td>\n",
       "      <td>1</td>\n",
       "      <td>16</td>\n",
       "    </tr>\n",
       "    <tr>\n",
       "      <th>9564760</th>\n",
       "      <td>37.279251</td>\n",
       "      <td>999999.000000</td>\n",
       "      <td>37</td>\n",
       "      <td>999999.0</td>\n",
       "      <td>999999.0</td>\n",
       "      <td>1</td>\n",
       "      <td>28</td>\n",
       "    </tr>\n",
       "    <tr>\n",
       "      <th>9564891</th>\n",
       "      <td>38.167229</td>\n",
       "      <td>999999.000000</td>\n",
       "      <td>30</td>\n",
       "      <td>999999.0</td>\n",
       "      <td>999999.0</td>\n",
       "      <td>1</td>\n",
       "      <td>10</td>\n",
       "    </tr>\n",
       "    <tr>\n",
       "      <th>9564895</th>\n",
       "      <td>39.773903</td>\n",
       "      <td>999999.000000</td>\n",
       "      <td>58</td>\n",
       "      <td>999999.0</td>\n",
       "      <td>999999.0</td>\n",
       "      <td>1</td>\n",
       "      <td>21</td>\n",
       "    </tr>\n",
       "    <tr>\n",
       "      <th>9565397</th>\n",
       "      <td>39.552959</td>\n",
       "      <td>180.372833</td>\n",
       "      <td>31</td>\n",
       "      <td>999999.0</td>\n",
       "      <td>999999.0</td>\n",
       "      <td>1</td>\n",
       "      <td>3</td>\n",
       "    </tr>\n",
       "  </tbody>\n",
       "</table>\n",
       "<p>14272 rows × 7 columns</p>\n",
       "</div>"
      ],
      "text/plain": [
       "         track_momentum    ring_radius  total_hits  ring_centre_pos_x  \\\n",
       "6222440       21.997339     167.758591          47           999999.0   \n",
       "7680853       23.585865     170.338104          42           999999.0   \n",
       "1890516       18.394594     163.609039          26           999999.0   \n",
       "540180        18.030018     163.829178          12           999999.0   \n",
       "3180785       24.080837     181.336777          11           999999.0   \n",
       "...                 ...            ...         ...                ...   \n",
       "9563350       35.584480     176.219864          17           999999.0   \n",
       "9564760       37.279251  999999.000000          37           999999.0   \n",
       "9564891       38.167229  999999.000000          30           999999.0   \n",
       "9564895       39.773903  999999.000000          58           999999.0   \n",
       "9565397       39.552959     180.372833          31           999999.0   \n",
       "\n",
       "         ring_centre_pos_y  labels  total_hits_filtered  \n",
       "6222440           999999.0       0                    8  \n",
       "7680853           999999.0       0                    8  \n",
       "1890516           999999.0       0                   10  \n",
       "540180            999999.0       0                    4  \n",
       "3180785           999999.0       0                    9  \n",
       "...                    ...     ...                  ...  \n",
       "9563350           999999.0       1                   16  \n",
       "9564760           999999.0       1                   28  \n",
       "9564891           999999.0       1                   10  \n",
       "9564895           999999.0       1                   21  \n",
       "9565397           999999.0       1                    3  \n",
       "\n",
       "[14272 rows x 7 columns]"
      ]
     },
     "execution_count": 126,
     "metadata": {},
     "output_type": "execute_result"
    }
   ],
   "source": [
    "df_balanced_filtered.query(\"(ring_centre_pos_x > 1000)\")"
   ]
  },
  {
   "cell_type": "code",
   "execution_count": 129,
   "id": "a6169096",
   "metadata": {
    "slideshow": {
     "slide_type": "skip"
    }
   },
   "outputs": [
    {
     "data": {
      "text/html": [
       "<div>\n",
       "<style scoped>\n",
       "    .dataframe tbody tr th:only-of-type {\n",
       "        vertical-align: middle;\n",
       "    }\n",
       "\n",
       "    .dataframe tbody tr th {\n",
       "        vertical-align: top;\n",
       "    }\n",
       "\n",
       "    .dataframe thead th {\n",
       "        text-align: right;\n",
       "    }\n",
       "</style>\n",
       "<table border=\"1\" class=\"dataframe\">\n",
       "  <thead>\n",
       "    <tr style=\"text-align: right;\">\n",
       "      <th></th>\n",
       "      <th>track_momentum</th>\n",
       "      <th>ring_radius</th>\n",
       "      <th>total_hits</th>\n",
       "      <th>ring_centre_pos_x</th>\n",
       "      <th>ring_centre_pos_y</th>\n",
       "      <th>labels</th>\n",
       "      <th>total_hits_filtered</th>\n",
       "    </tr>\n",
       "  </thead>\n",
       "  <tbody>\n",
       "    <tr>\n",
       "      <th>294334</th>\n",
       "      <td>17.109905</td>\n",
       "      <td>1.366392e+09</td>\n",
       "      <td>42</td>\n",
       "      <td>1.183359e+09</td>\n",
       "      <td>-6.831453e+08</td>\n",
       "      <td>0</td>\n",
       "      <td>13</td>\n",
       "    </tr>\n",
       "    <tr>\n",
       "      <th>5064455</th>\n",
       "      <td>24.805933</td>\n",
       "      <td>1.153027e+06</td>\n",
       "      <td>7</td>\n",
       "      <td>-9.988351e+05</td>\n",
       "      <td>-5.764483e+05</td>\n",
       "      <td>0</td>\n",
       "      <td>6</td>\n",
       "    </tr>\n",
       "    <tr>\n",
       "      <th>8624808</th>\n",
       "      <td>23.743502</td>\n",
       "      <td>2.244237e+05</td>\n",
       "      <td>26</td>\n",
       "      <td>1.943415e+05</td>\n",
       "      <td>-1.121700e+05</td>\n",
       "      <td>1</td>\n",
       "      <td>6</td>\n",
       "    </tr>\n",
       "    <tr>\n",
       "      <th>8736939</th>\n",
       "      <td>24.212620</td>\n",
       "      <td>2.653839e+05</td>\n",
       "      <td>13</td>\n",
       "      <td>2.294969e+05</td>\n",
       "      <td>-1.324824e+05</td>\n",
       "      <td>1</td>\n",
       "      <td>4</td>\n",
       "    </tr>\n",
       "    <tr>\n",
       "      <th>8898119</th>\n",
       "      <td>23.059324</td>\n",
       "      <td>2.053354e+05</td>\n",
       "      <td>7</td>\n",
       "      <td>-1.777249e+05</td>\n",
       "      <td>-1.025705e+05</td>\n",
       "      <td>1</td>\n",
       "      <td>5</td>\n",
       "    </tr>\n",
       "    <tr>\n",
       "      <th>128444</th>\n",
       "      <td>34.297417</td>\n",
       "      <td>1.084154e+09</td>\n",
       "      <td>32</td>\n",
       "      <td>-9.389281e+08</td>\n",
       "      <td>-5.420366e+08</td>\n",
       "      <td>0</td>\n",
       "      <td>6</td>\n",
       "    </tr>\n",
       "    <tr>\n",
       "      <th>7302189</th>\n",
       "      <td>26.279650</td>\n",
       "      <td>1.620966e+05</td>\n",
       "      <td>40</td>\n",
       "      <td>1.401269e+05</td>\n",
       "      <td>-8.082596e+04</td>\n",
       "      <td>0</td>\n",
       "      <td>6</td>\n",
       "    </tr>\n",
       "    <tr>\n",
       "      <th>8741767</th>\n",
       "      <td>34.186363</td>\n",
       "      <td>1.694805e+05</td>\n",
       "      <td>6</td>\n",
       "      <td>1.468483e+05</td>\n",
       "      <td>-8.473616e+04</td>\n",
       "      <td>1</td>\n",
       "      <td>5</td>\n",
       "    </tr>\n",
       "    <tr>\n",
       "      <th>9094336</th>\n",
       "      <td>30.220053</td>\n",
       "      <td>9.294251e+05</td>\n",
       "      <td>279</td>\n",
       "      <td>8.047375e+05</td>\n",
       "      <td>-4.645929e+05</td>\n",
       "      <td>1</td>\n",
       "      <td>10</td>\n",
       "    </tr>\n",
       "    <tr>\n",
       "      <th>8593158</th>\n",
       "      <td>39.919903</td>\n",
       "      <td>4.948897e+05</td>\n",
       "      <td>8</td>\n",
       "      <td>4.284111e+05</td>\n",
       "      <td>-2.473435e+05</td>\n",
       "      <td>1</td>\n",
       "      <td>1</td>\n",
       "    </tr>\n",
       "    <tr>\n",
       "      <th>8777544</th>\n",
       "      <td>41.619984</td>\n",
       "      <td>1.872246e+05</td>\n",
       "      <td>51</td>\n",
       "      <td>-9.369404e+04</td>\n",
       "      <td>-1.623283e+05</td>\n",
       "      <td>1</td>\n",
       "      <td>16</td>\n",
       "    </tr>\n",
       "    <tr>\n",
       "      <th>9207602</th>\n",
       "      <td>42.865520</td>\n",
       "      <td>2.867182e+07</td>\n",
       "      <td>44</td>\n",
       "      <td>2.483099e+07</td>\n",
       "      <td>-1.433477e+07</td>\n",
       "      <td>1</td>\n",
       "      <td>20</td>\n",
       "    </tr>\n",
       "    <tr>\n",
       "      <th>9432725</th>\n",
       "      <td>35.379471</td>\n",
       "      <td>6.911960e+08</td>\n",
       "      <td>7</td>\n",
       "      <td>5.986082e+08</td>\n",
       "      <td>-3.455723e+08</td>\n",
       "      <td>1</td>\n",
       "      <td>7</td>\n",
       "    </tr>\n",
       "  </tbody>\n",
       "</table>\n",
       "</div>"
      ],
      "text/plain": [
       "         track_momentum   ring_radius  total_hits  ring_centre_pos_x  \\\n",
       "294334        17.109905  1.366392e+09          42       1.183359e+09   \n",
       "5064455       24.805933  1.153027e+06           7      -9.988351e+05   \n",
       "8624808       23.743502  2.244237e+05          26       1.943415e+05   \n",
       "8736939       24.212620  2.653839e+05          13       2.294969e+05   \n",
       "8898119       23.059324  2.053354e+05           7      -1.777249e+05   \n",
       "128444        34.297417  1.084154e+09          32      -9.389281e+08   \n",
       "7302189       26.279650  1.620966e+05          40       1.401269e+05   \n",
       "8741767       34.186363  1.694805e+05           6       1.468483e+05   \n",
       "9094336       30.220053  9.294251e+05         279       8.047375e+05   \n",
       "8593158       39.919903  4.948897e+05           8       4.284111e+05   \n",
       "8777544       41.619984  1.872246e+05          51      -9.369404e+04   \n",
       "9207602       42.865520  2.867182e+07          44       2.483099e+07   \n",
       "9432725       35.379471  6.911960e+08           7       5.986082e+08   \n",
       "\n",
       "         ring_centre_pos_y  labels  total_hits_filtered  \n",
       "294334       -6.831453e+08       0                   13  \n",
       "5064455      -5.764483e+05       0                    6  \n",
       "8624808      -1.121700e+05       1                    6  \n",
       "8736939      -1.324824e+05       1                    4  \n",
       "8898119      -1.025705e+05       1                    5  \n",
       "128444       -5.420366e+08       0                    6  \n",
       "7302189      -8.082596e+04       0                    6  \n",
       "8741767      -8.473616e+04       1                    5  \n",
       "9094336      -4.645929e+05       1                   10  \n",
       "8593158      -2.473435e+05       1                    1  \n",
       "8777544      -1.623283e+05       1                   16  \n",
       "9207602      -1.433477e+07       1                   20  \n",
       "9432725      -3.455723e+08       1                    7  "
      ]
     },
     "execution_count": 129,
     "metadata": {},
     "output_type": "execute_result"
    }
   ],
   "source": [
    "df_balanced_filtered.query(\"(ring_centre_pos_y < -1000)\")"
   ]
  },
  {
   "cell_type": "code",
   "execution_count": 155,
   "id": "2a01f9ac",
   "metadata": {
    "slideshow": {
     "slide_type": "skip"
    }
   },
   "outputs": [
    {
     "data": {
      "text/html": [
       "<div>\n",
       "<style scoped>\n",
       "    .dataframe tbody tr th:only-of-type {\n",
       "        vertical-align: middle;\n",
       "    }\n",
       "\n",
       "    .dataframe tbody tr th {\n",
       "        vertical-align: top;\n",
       "    }\n",
       "\n",
       "    .dataframe thead th {\n",
       "        text-align: right;\n",
       "    }\n",
       "</style>\n",
       "<table border=\"1\" class=\"dataframe\">\n",
       "  <thead>\n",
       "    <tr style=\"text-align: right;\">\n",
       "      <th></th>\n",
       "      <th>track_momentum</th>\n",
       "      <th>ring_radius</th>\n",
       "      <th>total_hits</th>\n",
       "      <th>ring_centre_pos_x</th>\n",
       "      <th>ring_centre_pos_y</th>\n",
       "      <th>labels</th>\n",
       "      <th>total_hits_filtered</th>\n",
       "    </tr>\n",
       "  </thead>\n",
       "  <tbody>\n",
       "    <tr>\n",
       "      <th>1270035</th>\n",
       "      <td>22.536070</td>\n",
       "      <td>0.0</td>\n",
       "      <td>51</td>\n",
       "      <td>999999.0</td>\n",
       "      <td>999999.0</td>\n",
       "      <td>0</td>\n",
       "      <td>11</td>\n",
       "    </tr>\n",
       "    <tr>\n",
       "      <th>7930228</th>\n",
       "      <td>21.853220</td>\n",
       "      <td>0.0</td>\n",
       "      <td>43</td>\n",
       "      <td>999999.0</td>\n",
       "      <td>999999.0</td>\n",
       "      <td>0</td>\n",
       "      <td>4</td>\n",
       "    </tr>\n",
       "    <tr>\n",
       "      <th>7726302</th>\n",
       "      <td>19.446329</td>\n",
       "      <td>0.0</td>\n",
       "      <td>67</td>\n",
       "      <td>999999.0</td>\n",
       "      <td>999999.0</td>\n",
       "      <td>0</td>\n",
       "      <td>8</td>\n",
       "    </tr>\n",
       "    <tr>\n",
       "      <th>1542273</th>\n",
       "      <td>17.271717</td>\n",
       "      <td>0.0</td>\n",
       "      <td>16</td>\n",
       "      <td>999999.0</td>\n",
       "      <td>999999.0</td>\n",
       "      <td>0</td>\n",
       "      <td>13</td>\n",
       "    </tr>\n",
       "    <tr>\n",
       "      <th>6517352</th>\n",
       "      <td>21.950239</td>\n",
       "      <td>0.0</td>\n",
       "      <td>39</td>\n",
       "      <td>999999.0</td>\n",
       "      <td>999999.0</td>\n",
       "      <td>0</td>\n",
       "      <td>11</td>\n",
       "    </tr>\n",
       "    <tr>\n",
       "      <th>...</th>\n",
       "      <td>...</td>\n",
       "      <td>...</td>\n",
       "      <td>...</td>\n",
       "      <td>...</td>\n",
       "      <td>...</td>\n",
       "      <td>...</td>\n",
       "      <td>...</td>\n",
       "    </tr>\n",
       "    <tr>\n",
       "      <th>9359605</th>\n",
       "      <td>41.205345</td>\n",
       "      <td>0.0</td>\n",
       "      <td>26</td>\n",
       "      <td>999999.0</td>\n",
       "      <td>999999.0</td>\n",
       "      <td>1</td>\n",
       "      <td>19</td>\n",
       "    </tr>\n",
       "    <tr>\n",
       "      <th>9393928</th>\n",
       "      <td>42.198200</td>\n",
       "      <td>0.0</td>\n",
       "      <td>33</td>\n",
       "      <td>999999.0</td>\n",
       "      <td>999999.0</td>\n",
       "      <td>1</td>\n",
       "      <td>21</td>\n",
       "    </tr>\n",
       "    <tr>\n",
       "      <th>9398950</th>\n",
       "      <td>43.813347</td>\n",
       "      <td>0.0</td>\n",
       "      <td>21</td>\n",
       "      <td>999999.0</td>\n",
       "      <td>999999.0</td>\n",
       "      <td>1</td>\n",
       "      <td>7</td>\n",
       "    </tr>\n",
       "    <tr>\n",
       "      <th>9523443</th>\n",
       "      <td>36.379070</td>\n",
       "      <td>0.0</td>\n",
       "      <td>64</td>\n",
       "      <td>999999.0</td>\n",
       "      <td>999999.0</td>\n",
       "      <td>1</td>\n",
       "      <td>14</td>\n",
       "    </tr>\n",
       "    <tr>\n",
       "      <th>9552980</th>\n",
       "      <td>43.925777</td>\n",
       "      <td>0.0</td>\n",
       "      <td>61</td>\n",
       "      <td>999999.0</td>\n",
       "      <td>999999.0</td>\n",
       "      <td>1</td>\n",
       "      <td>12</td>\n",
       "    </tr>\n",
       "  </tbody>\n",
       "</table>\n",
       "<p>573 rows × 7 columns</p>\n",
       "</div>"
      ],
      "text/plain": [
       "         track_momentum  ring_radius  total_hits  ring_centre_pos_x  \\\n",
       "1270035       22.536070          0.0          51           999999.0   \n",
       "7930228       21.853220          0.0          43           999999.0   \n",
       "7726302       19.446329          0.0          67           999999.0   \n",
       "1542273       17.271717          0.0          16           999999.0   \n",
       "6517352       21.950239          0.0          39           999999.0   \n",
       "...                 ...          ...         ...                ...   \n",
       "9359605       41.205345          0.0          26           999999.0   \n",
       "9393928       42.198200          0.0          33           999999.0   \n",
       "9398950       43.813347          0.0          21           999999.0   \n",
       "9523443       36.379070          0.0          64           999999.0   \n",
       "9552980       43.925777          0.0          61           999999.0   \n",
       "\n",
       "         ring_centre_pos_y  labels  total_hits_filtered  \n",
       "1270035           999999.0       0                   11  \n",
       "7930228           999999.0       0                    4  \n",
       "7726302           999999.0       0                    8  \n",
       "1542273           999999.0       0                   13  \n",
       "6517352           999999.0       0                   11  \n",
       "...                    ...     ...                  ...  \n",
       "9359605           999999.0       1                   19  \n",
       "9393928           999999.0       1                   21  \n",
       "9398950           999999.0       1                    7  \n",
       "9523443           999999.0       1                   14  \n",
       "9552980           999999.0       1                   12  \n",
       "\n",
       "[573 rows x 7 columns]"
      ]
     },
     "execution_count": 155,
     "metadata": {},
     "output_type": "execute_result"
    }
   ],
   "source": [
    "df_balanced_filtered.query(\"(ring_radius< 1)\")"
   ]
  },
  {
   "cell_type": "code",
   "execution_count": 141,
   "id": "e95a75da",
   "metadata": {
    "slideshow": {
     "slide_type": "skip"
    }
   },
   "outputs": [
    {
     "data": {
      "text/html": [
       "<div>\n",
       "<style scoped>\n",
       "    .dataframe tbody tr th:only-of-type {\n",
       "        vertical-align: middle;\n",
       "    }\n",
       "\n",
       "    .dataframe tbody tr th {\n",
       "        vertical-align: top;\n",
       "    }\n",
       "\n",
       "    .dataframe thead th {\n",
       "        text-align: right;\n",
       "    }\n",
       "</style>\n",
       "<table border=\"1\" class=\"dataframe\">\n",
       "  <thead>\n",
       "    <tr style=\"text-align: right;\">\n",
       "      <th></th>\n",
       "      <th>track_momentum</th>\n",
       "      <th>ring_radius</th>\n",
       "      <th>total_hits</th>\n",
       "      <th>ring_centre_pos_x</th>\n",
       "      <th>ring_centre_pos_y</th>\n",
       "      <th>labels</th>\n",
       "      <th>total_hits_filtered</th>\n",
       "    </tr>\n",
       "  </thead>\n",
       "  <tbody>\n",
       "    <tr>\n",
       "      <th>2073415</th>\n",
       "      <td>21.390589</td>\n",
       "      <td>999999.0</td>\n",
       "      <td>43</td>\n",
       "      <td>999999.0</td>\n",
       "      <td>999999.0</td>\n",
       "      <td>0</td>\n",
       "      <td>11</td>\n",
       "    </tr>\n",
       "    <tr>\n",
       "      <th>2872308</th>\n",
       "      <td>18.367033</td>\n",
       "      <td>999999.0</td>\n",
       "      <td>76</td>\n",
       "      <td>999999.0</td>\n",
       "      <td>999999.0</td>\n",
       "      <td>0</td>\n",
       "      <td>14</td>\n",
       "    </tr>\n",
       "    <tr>\n",
       "      <th>5870625</th>\n",
       "      <td>22.545231</td>\n",
       "      <td>999999.0</td>\n",
       "      <td>34</td>\n",
       "      <td>999999.0</td>\n",
       "      <td>999999.0</td>\n",
       "      <td>0</td>\n",
       "      <td>15</td>\n",
       "    </tr>\n",
       "    <tr>\n",
       "      <th>5947267</th>\n",
       "      <td>21.746426</td>\n",
       "      <td>999999.0</td>\n",
       "      <td>47</td>\n",
       "      <td>999999.0</td>\n",
       "      <td>999999.0</td>\n",
       "      <td>0</td>\n",
       "      <td>12</td>\n",
       "    </tr>\n",
       "    <tr>\n",
       "      <th>5539856</th>\n",
       "      <td>24.952852</td>\n",
       "      <td>999999.0</td>\n",
       "      <td>60</td>\n",
       "      <td>999999.0</td>\n",
       "      <td>999999.0</td>\n",
       "      <td>0</td>\n",
       "      <td>13</td>\n",
       "    </tr>\n",
       "    <tr>\n",
       "      <th>...</th>\n",
       "      <td>...</td>\n",
       "      <td>...</td>\n",
       "      <td>...</td>\n",
       "      <td>...</td>\n",
       "      <td>...</td>\n",
       "      <td>...</td>\n",
       "      <td>...</td>\n",
       "    </tr>\n",
       "    <tr>\n",
       "      <th>9560994</th>\n",
       "      <td>36.499996</td>\n",
       "      <td>999999.0</td>\n",
       "      <td>30</td>\n",
       "      <td>999999.0</td>\n",
       "      <td>999999.0</td>\n",
       "      <td>1</td>\n",
       "      <td>18</td>\n",
       "    </tr>\n",
       "    <tr>\n",
       "      <th>9561555</th>\n",
       "      <td>44.575218</td>\n",
       "      <td>999999.0</td>\n",
       "      <td>51</td>\n",
       "      <td>999999.0</td>\n",
       "      <td>999999.0</td>\n",
       "      <td>1</td>\n",
       "      <td>25</td>\n",
       "    </tr>\n",
       "    <tr>\n",
       "      <th>9564760</th>\n",
       "      <td>37.279251</td>\n",
       "      <td>999999.0</td>\n",
       "      <td>37</td>\n",
       "      <td>999999.0</td>\n",
       "      <td>999999.0</td>\n",
       "      <td>1</td>\n",
       "      <td>28</td>\n",
       "    </tr>\n",
       "    <tr>\n",
       "      <th>9564891</th>\n",
       "      <td>38.167229</td>\n",
       "      <td>999999.0</td>\n",
       "      <td>30</td>\n",
       "      <td>999999.0</td>\n",
       "      <td>999999.0</td>\n",
       "      <td>1</td>\n",
       "      <td>10</td>\n",
       "    </tr>\n",
       "    <tr>\n",
       "      <th>9564895</th>\n",
       "      <td>39.773903</td>\n",
       "      <td>999999.0</td>\n",
       "      <td>58</td>\n",
       "      <td>999999.0</td>\n",
       "      <td>999999.0</td>\n",
       "      <td>1</td>\n",
       "      <td>21</td>\n",
       "    </tr>\n",
       "  </tbody>\n",
       "</table>\n",
       "<p>3904 rows × 7 columns</p>\n",
       "</div>"
      ],
      "text/plain": [
       "         track_momentum  ring_radius  total_hits  ring_centre_pos_x  \\\n",
       "2073415       21.390589     999999.0          43           999999.0   \n",
       "2872308       18.367033     999999.0          76           999999.0   \n",
       "5870625       22.545231     999999.0          34           999999.0   \n",
       "5947267       21.746426     999999.0          47           999999.0   \n",
       "5539856       24.952852     999999.0          60           999999.0   \n",
       "...                 ...          ...         ...                ...   \n",
       "9560994       36.499996     999999.0          30           999999.0   \n",
       "9561555       44.575218     999999.0          51           999999.0   \n",
       "9564760       37.279251     999999.0          37           999999.0   \n",
       "9564891       38.167229     999999.0          30           999999.0   \n",
       "9564895       39.773903     999999.0          58           999999.0   \n",
       "\n",
       "         ring_centre_pos_y  labels  total_hits_filtered  \n",
       "2073415           999999.0       0                   11  \n",
       "2872308           999999.0       0                   14  \n",
       "5870625           999999.0       0                   15  \n",
       "5947267           999999.0       0                   12  \n",
       "5539856           999999.0       0                   13  \n",
       "...                    ...     ...                  ...  \n",
       "9560994           999999.0       1                   18  \n",
       "9561555           999999.0       1                   25  \n",
       "9564760           999999.0       1                   28  \n",
       "9564891           999999.0       1                   10  \n",
       "9564895           999999.0       1                   21  \n",
       "\n",
       "[3904 rows x 7 columns]"
      ]
     },
     "execution_count": 141,
     "metadata": {},
     "output_type": "execute_result"
    }
   ],
   "source": [
    "df_balanced_filtered.query(\"ring_radius>1000\")"
   ]
  },
  {
   "cell_type": "code",
   "execution_count": 163,
   "id": "9c523980",
   "metadata": {
    "slideshow": {
     "slide_type": "skip"
    }
   },
   "outputs": [
    {
     "data": {
      "text/html": [
       "<div>\n",
       "<style scoped>\n",
       "    .dataframe tbody tr th:only-of-type {\n",
       "        vertical-align: middle;\n",
       "    }\n",
       "\n",
       "    .dataframe tbody tr th {\n",
       "        vertical-align: top;\n",
       "    }\n",
       "\n",
       "    .dataframe thead th {\n",
       "        text-align: right;\n",
       "    }\n",
       "</style>\n",
       "<table border=\"1\" class=\"dataframe\">\n",
       "  <thead>\n",
       "    <tr style=\"text-align: right;\">\n",
       "      <th></th>\n",
       "      <th>track_momentum</th>\n",
       "      <th>ring_radius</th>\n",
       "      <th>total_hits</th>\n",
       "      <th>ring_centre_pos_x</th>\n",
       "      <th>ring_centre_pos_y</th>\n",
       "      <th>labels</th>\n",
       "      <th>total_hits_filtered</th>\n",
       "    </tr>\n",
       "  </thead>\n",
       "  <tbody>\n",
       "  </tbody>\n",
       "</table>\n",
       "</div>"
      ],
      "text/plain": [
       "Empty DataFrame\n",
       "Columns: [track_momentum, ring_radius, total_hits, ring_centre_pos_x, ring_centre_pos_y, labels, total_hits_filtered]\n",
       "Index: []"
      ]
     },
     "execution_count": 163,
     "metadata": {},
     "output_type": "execute_result"
    }
   ],
   "source": [
    "df_balanced_filtered.query(\"total_hits_filtered>500\")"
   ]
  },
  {
   "cell_type": "code",
   "execution_count": 171,
   "id": "64227e06",
   "metadata": {
    "slideshow": {
     "slide_type": "skip"
    }
   },
   "outputs": [],
   "source": [
    "# Cleaning data for anomalous data\n",
    "def clean_data(df=df_balanced_filtered):\n",
    "    \"\"\"Clean data for anomalous inputs\"\"\"\n",
    "    \n",
    "    # ring_center_pos_X \n",
    "    df_clean = df[\n",
    "        (df['ring_centre_pos_x']<1000) & \n",
    "        (df['ring_centre_pos_x']>-1000)\n",
    "    ]\n",
    "    \n",
    "    # ring_center_pos_Y \n",
    "    df_clean = df_clean[\n",
    "        (df_clean['ring_centre_pos_y']<1000) &\n",
    "        (df_clean['ring_centre_pos_y']>-1000)\n",
    "    ]\n",
    "    \n",
    "    # Ring radius \n",
    "    df_clean = df_clean[\n",
    "        (df_clean[\"ring_radius\"]>1) & \n",
    "        (df_clean[\"ring_radius\"]<1000)\n",
    "    ]\n",
    "    print(f\"Total entries removed: {df.shape[0] - df_clean.shape[0]}\")\n",
    "    return df_clean"
   ]
  },
  {
   "cell_type": "code",
   "execution_count": 172,
   "id": "862632bc",
   "metadata": {
    "slideshow": {
     "slide_type": "subslide"
    }
   },
   "outputs": [
    {
     "name": "stdout",
     "output_type": "stream",
     "text": [
      "Total entries removed: 14285\n",
      "CPU times: user 184 ms, sys: 36 ms, total: 220 ms\n",
      "Wall time: 924 ms\n"
     ]
    }
   ],
   "source": [
    "%%time\n",
    "# data post filtering anomalous entries\n",
    "df_clean = clean_data()"
   ]
  },
  {
   "cell_type": "code",
   "execution_count": 173,
   "id": "b7629104",
   "metadata": {
    "slideshow": {
     "slide_type": "fragment"
    }
   },
   "outputs": [
    {
     "data": {
      "text/html": [
       "<div>\n",
       "<style scoped>\n",
       "    .dataframe tbody tr th:only-of-type {\n",
       "        vertical-align: middle;\n",
       "    }\n",
       "\n",
       "    .dataframe tbody tr th {\n",
       "        vertical-align: top;\n",
       "    }\n",
       "\n",
       "    .dataframe thead th {\n",
       "        text-align: right;\n",
       "    }\n",
       "</style>\n",
       "<table border=\"1\" class=\"dataframe\">\n",
       "  <thead>\n",
       "    <tr style=\"text-align: right;\">\n",
       "      <th></th>\n",
       "      <th>track_momentum</th>\n",
       "      <th>ring_radius</th>\n",
       "      <th>total_hits</th>\n",
       "      <th>ring_centre_pos_x</th>\n",
       "      <th>ring_centre_pos_y</th>\n",
       "      <th>labels</th>\n",
       "      <th>total_hits_filtered</th>\n",
       "    </tr>\n",
       "  </thead>\n",
       "  <tbody>\n",
       "    <tr>\n",
       "      <th>2687658</th>\n",
       "      <td>24.691673</td>\n",
       "      <td>177.461960</td>\n",
       "      <td>22</td>\n",
       "      <td>-60.107861</td>\n",
       "      <td>106.794441</td>\n",
       "      <td>0</td>\n",
       "      <td>19</td>\n",
       "    </tr>\n",
       "    <tr>\n",
       "      <th>4676657</th>\n",
       "      <td>23.396029</td>\n",
       "      <td>175.237564</td>\n",
       "      <td>21</td>\n",
       "      <td>-12.228768</td>\n",
       "      <td>11.319837</td>\n",
       "      <td>0</td>\n",
       "      <td>9</td>\n",
       "    </tr>\n",
       "    <tr>\n",
       "      <th>3262259</th>\n",
       "      <td>15.891424</td>\n",
       "      <td>152.091827</td>\n",
       "      <td>19</td>\n",
       "      <td>-241.150375</td>\n",
       "      <td>-172.708389</td>\n",
       "      <td>0</td>\n",
       "      <td>10</td>\n",
       "    </tr>\n",
       "    <tr>\n",
       "      <th>5473943</th>\n",
       "      <td>16.026428</td>\n",
       "      <td>155.005783</td>\n",
       "      <td>35</td>\n",
       "      <td>-65.635712</td>\n",
       "      <td>-0.601753</td>\n",
       "      <td>0</td>\n",
       "      <td>9</td>\n",
       "    </tr>\n",
       "    <tr>\n",
       "      <th>8071459</th>\n",
       "      <td>21.888950</td>\n",
       "      <td>172.810287</td>\n",
       "      <td>48</td>\n",
       "      <td>-231.750687</td>\n",
       "      <td>159.534821</td>\n",
       "      <td>0</td>\n",
       "      <td>12</td>\n",
       "    </tr>\n",
       "    <tr>\n",
       "      <th>...</th>\n",
       "      <td>...</td>\n",
       "      <td>...</td>\n",
       "      <td>...</td>\n",
       "      <td>...</td>\n",
       "      <td>...</td>\n",
       "      <td>...</td>\n",
       "      <td>...</td>\n",
       "    </tr>\n",
       "    <tr>\n",
       "      <th>9567636</th>\n",
       "      <td>35.011139</td>\n",
       "      <td>177.854492</td>\n",
       "      <td>28</td>\n",
       "      <td>-213.486633</td>\n",
       "      <td>-2.936464</td>\n",
       "      <td>1</td>\n",
       "      <td>19</td>\n",
       "    </tr>\n",
       "    <tr>\n",
       "      <th>9567637</th>\n",
       "      <td>38.958267</td>\n",
       "      <td>182.430420</td>\n",
       "      <td>21</td>\n",
       "      <td>-98.754082</td>\n",
       "      <td>92.138535</td>\n",
       "      <td>1</td>\n",
       "      <td>17</td>\n",
       "    </tr>\n",
       "    <tr>\n",
       "      <th>9567638</th>\n",
       "      <td>38.474777</td>\n",
       "      <td>176.691132</td>\n",
       "      <td>31</td>\n",
       "      <td>-145.546219</td>\n",
       "      <td>-77.260124</td>\n",
       "      <td>1</td>\n",
       "      <td>12</td>\n",
       "    </tr>\n",
       "    <tr>\n",
       "      <th>9567646</th>\n",
       "      <td>36.989967</td>\n",
       "      <td>180.464676</td>\n",
       "      <td>51</td>\n",
       "      <td>-186.481369</td>\n",
       "      <td>-47.899498</td>\n",
       "      <td>1</td>\n",
       "      <td>32</td>\n",
       "    </tr>\n",
       "    <tr>\n",
       "      <th>9567649</th>\n",
       "      <td>37.186985</td>\n",
       "      <td>179.594803</td>\n",
       "      <td>34</td>\n",
       "      <td>-184.169525</td>\n",
       "      <td>-46.599884</td>\n",
       "      <td>1</td>\n",
       "      <td>14</td>\n",
       "    </tr>\n",
       "  </tbody>\n",
       "</table>\n",
       "<p>1716941 rows × 7 columns</p>\n",
       "</div>"
      ],
      "text/plain": [
       "         track_momentum  ring_radius  total_hits  ring_centre_pos_x  \\\n",
       "2687658       24.691673   177.461960          22         -60.107861   \n",
       "4676657       23.396029   175.237564          21         -12.228768   \n",
       "3262259       15.891424   152.091827          19        -241.150375   \n",
       "5473943       16.026428   155.005783          35         -65.635712   \n",
       "8071459       21.888950   172.810287          48        -231.750687   \n",
       "...                 ...          ...         ...                ...   \n",
       "9567636       35.011139   177.854492          28        -213.486633   \n",
       "9567637       38.958267   182.430420          21         -98.754082   \n",
       "9567638       38.474777   176.691132          31        -145.546219   \n",
       "9567646       36.989967   180.464676          51        -186.481369   \n",
       "9567649       37.186985   179.594803          34        -184.169525   \n",
       "\n",
       "         ring_centre_pos_y  labels  total_hits_filtered  \n",
       "2687658         106.794441       0                   19  \n",
       "4676657          11.319837       0                    9  \n",
       "3262259        -172.708389       0                   10  \n",
       "5473943          -0.601753       0                    9  \n",
       "8071459         159.534821       0                   12  \n",
       "...                    ...     ...                  ...  \n",
       "9567636          -2.936464       1                   19  \n",
       "9567637          92.138535       1                   17  \n",
       "9567638         -77.260124       1                   12  \n",
       "9567646         -47.899498       1                   32  \n",
       "9567649         -46.599884       1                   14  \n",
       "\n",
       "[1716941 rows x 7 columns]"
      ]
     },
     "execution_count": 173,
     "metadata": {},
     "output_type": "execute_result"
    }
   ],
   "source": [
    "df_clean"
   ]
  },
  {
   "cell_type": "code",
   "execution_count": 174,
   "id": "4b5f978b",
   "metadata": {
    "slideshow": {
     "slide_type": "skip"
    }
   },
   "outputs": [
    {
     "data": {
      "text/plain": [
       "0    860863\n",
       "1    856078\n",
       "Name: labels, dtype: int64"
      ]
     },
     "execution_count": 174,
     "metadata": {},
     "output_type": "execute_result"
    }
   ],
   "source": [
    "df_clean.labels.value_counts()"
   ]
  },
  {
   "cell_type": "markdown",
   "id": "ee2cc823",
   "metadata": {
    "slideshow": {
     "slide_type": "slide"
    }
   },
   "source": [
    "## 5. Features, train test split"
   ]
  },
  {
   "cell_type": "code",
   "execution_count": 175,
   "id": "86e9f700",
   "metadata": {
    "slideshow": {
     "slide_type": "fragment"
    }
   },
   "outputs": [],
   "source": [
    "# Selecting X & y\n",
    "X = df_clean.loc[:, [\n",
    "    'track_momentum',\n",
    "    'ring_radius',\n",
    "    'total_hits_filtered'\n",
    "]]\n",
    "\n",
    "y = df_clean.loc[:,'labels']"
   ]
  },
  {
   "cell_type": "code",
   "execution_count": 176,
   "id": "d10a4dfc",
   "metadata": {
    "slideshow": {
     "slide_type": "skip"
    }
   },
   "outputs": [
    {
     "name": "stdout",
     "output_type": "stream",
     "text": [
      "CPU times: user 887 ms, sys: 44.3 ms, total: 931 ms\n",
      "Wall time: 1.94 s\n"
     ]
    }
   ],
   "source": [
    "%%time\n",
    "\n",
    "# Training and validation split\n",
    "X_train, X_test, y_train, y_test = train_test_split(\n",
    "    X, y,\n",
    "    stratify=y, \n",
    "    test_size=0.25\n",
    ")"
   ]
  },
  {
   "cell_type": "code",
   "execution_count": 177,
   "id": "65d73bb2",
   "metadata": {
    "slideshow": {
     "slide_type": "fragment"
    }
   },
   "outputs": [
    {
     "data": {
      "text/plain": [
       "0    645647\n",
       "1    642058\n",
       "Name: labels, dtype: int64"
      ]
     },
     "execution_count": 177,
     "metadata": {},
     "output_type": "execute_result"
    }
   ],
   "source": [
    "# Testing for stratification  - training set\n",
    "y_train.value_counts()"
   ]
  },
  {
   "cell_type": "code",
   "execution_count": 178,
   "id": "ad301ace",
   "metadata": {
    "slideshow": {
     "slide_type": "fragment"
    }
   },
   "outputs": [
    {
     "data": {
      "text/plain": [
       "0    215216\n",
       "1    214020\n",
       "Name: labels, dtype: int64"
      ]
     },
     "execution_count": 178,
     "metadata": {},
     "output_type": "execute_result"
    }
   ],
   "source": [
    "# Testing for stratification - validation set\n",
    "y_test.value_counts()"
   ]
  },
  {
   "cell_type": "code",
   "execution_count": 224,
   "id": "6c1b84c5",
   "metadata": {
    "slideshow": {
     "slide_type": "skip"
    }
   },
   "outputs": [],
   "source": [
    "def model_results(model, y_test=y_test, y_pred=y_pred):\n",
    "    print('\\nClassification Report\\n')\n",
    "    print(classification_report(\n",
    "            y_test, y_pred, \n",
    "            target_names=['Muons', 'Pions']\n",
    "        )\n",
    "    )\n",
    "    # Confusion matrix\n",
    "    cm = confusion_matrix(y_test, y_pred, normalize='true')\n",
    "    cm_df = pd.DataFrame(cm,\n",
    "                         index = ['Muons', 'Pions'], \n",
    "                         columns = ['Muons', 'Pions'])\n",
    "    plt.figure(figsize=(5,5))\n",
    "    sns.heatmap(cm_df, annot=True, cmap='YlGnBu')\n",
    "    plt.title('Confusion Matrix')\n",
    "    plt.ylabel('Actual Values')\n",
    "    plt.xlabel('Predicted Values')\n",
    "    plt.show()"
   ]
  },
  {
   "cell_type": "markdown",
   "id": "056a29e2",
   "metadata": {
    "slideshow": {
     "slide_type": "slide"
    }
   },
   "source": [
    "## 6. Results of Training Gradient Boosted Models (LGBM, XGB, AdaB)"
   ]
  },
  {
   "cell_type": "markdown",
   "id": "b90a66dd",
   "metadata": {
    "slideshow": {
     "slide_type": "subslide"
    }
   },
   "source": [
    "### 6.1 Baseline lightGBM classifier results"
   ]
  },
  {
   "cell_type": "code",
   "execution_count": 331,
   "id": "ca23325a",
   "metadata": {
    "slideshow": {
     "slide_type": "skip"
    }
   },
   "outputs": [
    {
     "name": "stdout",
     "output_type": "stream",
     "text": [
      "CPU times: user 4min 18s, sys: 6.59 s, total: 4min 25s\n",
      "Wall time: 5.11 s\n"
     ]
    },
    {
     "data": {
      "text/plain": [
       "LGBMClassifier(random_state=123)"
      ]
     },
     "execution_count": 331,
     "metadata": {},
     "output_type": "execute_result"
    }
   ],
   "source": [
    "%%time\n",
    "lgbm_c = lgb.LGBMClassifier(random_state=123)\n",
    "lgbm_c.fit(X_train, y_train)"
   ]
  },
  {
   "cell_type": "code",
   "execution_count": 332,
   "id": "d0d1af4a",
   "metadata": {
    "slideshow": {
     "slide_type": "skip"
    }
   },
   "outputs": [],
   "source": [
    "y_pred_lgb = lgbm_c.predict(X_test)"
   ]
  },
  {
   "cell_type": "code",
   "execution_count": 333,
   "id": "089a4c9e",
   "metadata": {
    "slideshow": {
     "slide_type": "fragment"
    }
   },
   "outputs": [
    {
     "name": "stdout",
     "output_type": "stream",
     "text": [
      "\n",
      "Classification Report\n",
      "\n",
      "              precision    recall  f1-score   support\n",
      "\n",
      "       Muons       0.94      0.93      0.94    215216\n",
      "       Pions       0.93      0.94      0.94    214020\n",
      "\n",
      "    accuracy                           0.94    429236\n",
      "   macro avg       0.94      0.94      0.94    429236\n",
      "weighted avg       0.94      0.94      0.94    429236\n",
      "\n"
     ]
    },
    {
     "data": {
      "image/png": "[encoded data removed]",
      "text/plain": [
       "<Figure size 360x360 with 2 Axes>"
      ]
     },
     "metadata": {
      "needs_background": "light"
     },
     "output_type": "display_data"
    }
   ],
   "source": [
    "model_results(lgbm_c, y_pred = y_pred_lgb)"
   ]
  },
  {
   "cell_type": "markdown",
   "id": "a58f1585",
   "metadata": {
    "slideshow": {
     "slide_type": "subslide"
    }
   },
   "source": [
    "## 6.2 Baseline XGBoost Classifier"
   ]
  },
  {
   "cell_type": "code",
   "execution_count": 334,
   "id": "59e3342d",
   "metadata": {
    "slideshow": {
     "slide_type": "skip"
    }
   },
   "outputs": [
    {
     "name": "stderr",
     "output_type": "stream",
     "text": [
      "/opt/conda/lib/python3.8/site-packages/xgboost/sklearn.py:1224: UserWarning: The use of label encoder in XGBClassifier is deprecated and will be removed in a future release. To remove this warning, do the following: 1) Pass option use_label_encoder=False when constructing XGBClassifier object; and 2) Encode your labels (y) as integers starting with 0, i.e. 0, 1, 2, ..., [num_class - 1].\n",
      "  warnings.warn(label_encoder_deprecation_msg, UserWarning)\n"
     ]
    },
    {
     "name": "stdout",
     "output_type": "stream",
     "text": [
      "[15:22:06] WARNING: ../src/learner.cc:1115: Starting in XGBoost 1.3.0, the default evaluation metric used with the objective 'binary:logistic' was changed from 'error' to 'logloss'. Explicitly set eval_metric if you'd like to restore the old behavior.\n",
      "CPU times: user 13.2 s, sys: 586 ms, total: 13.8 s\n",
      "Wall time: 903 ms\n"
     ]
    },
    {
     "data": {
      "text/plain": [
       "XGBClassifier(base_score=0.5, booster='gbtree', colsample_bylevel=1,\n",
       "              colsample_bynode=1, colsample_bytree=1, enable_categorical=False,\n",
       "              gamma=0, gpu_id=7, importance_type=None,\n",
       "              interaction_constraints='', learning_rate=0.300000012,\n",
       "              max_delta_step=0, max_depth=6, min_child_weight=1, missing=nan,\n",
       "              monotone_constraints='()', n_estimators=100, n_jobs=64,\n",
       "              num_parallel_tree=1, predictor='gpu_predictor', random_state=123,\n",
       "              reg_alpha=0, reg_lambda=1, scale_pos_weight=1, subsample=1,\n",
       "              tree_method='gpu_hist', validate_parameters=1, verbosity=None)"
      ]
     },
     "execution_count": 334,
     "metadata": {},
     "output_type": "execute_result"
    }
   ],
   "source": [
    "%%time\n",
    "xgb_cl = XGBClassifier(\n",
    "    random_state=123,\n",
    "    tree_method=\"gpu_hist\",\n",
    "    gpu_id=7,\n",
    "    predictor=\"gpu_predictor\",\n",
    ")\n",
    "xgb_cl.fit(X_train, y_train)"
   ]
  },
  {
   "cell_type": "code",
   "execution_count": 336,
   "id": "3a77970f",
   "metadata": {
    "slideshow": {
     "slide_type": "skip"
    }
   },
   "outputs": [],
   "source": [
    "y_pred_xgb = xgb_cl.predict(X_test)"
   ]
  },
  {
   "cell_type": "code",
   "execution_count": 337,
   "id": "455b7165",
   "metadata": {
    "slideshow": {
     "slide_type": "fragment"
    }
   },
   "outputs": [
    {
     "name": "stdout",
     "output_type": "stream",
     "text": [
      "\n",
      "Classification Report\n",
      "\n",
      "              precision    recall  f1-score   support\n",
      "\n",
      "       Muons       0.94      0.93      0.93    215216\n",
      "       Pions       0.93      0.94      0.93    214020\n",
      "\n",
      "    accuracy                           0.93    429236\n",
      "   macro avg       0.93      0.93      0.93    429236\n",
      "weighted avg       0.93      0.93      0.93    429236\n",
      "\n"
     ]
    },
    {
     "data": {
      "image/png": "[encoded data removed]",
      "text/plain": [
       "<Figure size 360x360 with 2 Axes>"
      ]
     },
     "metadata": {
      "needs_background": "light"
     },
     "output_type": "display_data"
    }
   ],
   "source": [
    "model_results(xgb_cl, y_pred = y_pred_xgb)"
   ]
  },
  {
   "cell_type": "markdown",
   "id": "265a8756",
   "metadata": {
    "slideshow": {
     "slide_type": "subslide"
    }
   },
   "source": [
    "## 6.3 Adaboost baseline model"
   ]
  },
  {
   "cell_type": "code",
   "execution_count": 340,
   "id": "2a56fdb7",
   "metadata": {
    "slideshow": {
     "slide_type": "skip"
    }
   },
   "outputs": [
    {
     "name": "stdout",
     "output_type": "stream",
     "text": [
      "CPU times: user 1min 26s, sys: 216 ms, total: 1min 27s\n",
      "Wall time: 1min 27s\n"
     ]
    },
    {
     "data": {
      "text/plain": [
       "AdaBoostClassifier(n_estimators=100, random_state=123)"
      ]
     },
     "execution_count": 340,
     "metadata": {},
     "output_type": "execute_result"
    }
   ],
   "source": [
    "%%time\n",
    "ab_cl = AdaBoostClassifier(\n",
    "    random_state=123,\n",
    "    n_estimators=100\n",
    ")\n",
    "ab_cl.fit(X_train, y_train)"
   ]
  },
  {
   "cell_type": "code",
   "execution_count": 341,
   "id": "83b800ec",
   "metadata": {
    "slideshow": {
     "slide_type": "skip"
    }
   },
   "outputs": [],
   "source": [
    "y_pred_adb = ab_cl.predict(X_test)"
   ]
  },
  {
   "cell_type": "code",
   "execution_count": 342,
   "id": "1491818f",
   "metadata": {
    "slideshow": {
     "slide_type": "fragment"
    }
   },
   "outputs": [
    {
     "name": "stdout",
     "output_type": "stream",
     "text": [
      "\n",
      "Classification Report\n",
      "\n",
      "              precision    recall  f1-score   support\n",
      "\n",
      "       Muons       0.91      0.93      0.92    215216\n",
      "       Pions       0.93      0.91      0.92    214020\n",
      "\n",
      "    accuracy                           0.92    429236\n",
      "   macro avg       0.92      0.92      0.92    429236\n",
      "weighted avg       0.92      0.92      0.92    429236\n",
      "\n"
     ]
    },
    {
     "data": {
      "image/png": "[encoded data removed]",
      "text/plain": [
       "<Figure size 360x360 with 2 Axes>"
      ]
     },
     "metadata": {
      "needs_background": "light"
     },
     "output_type": "display_data"
    }
   ],
   "source": [
    "model_results(xgb_cl, y_pred=y_pred_adb)"
   ]
  },
  {
   "cell_type": "code",
   "execution_count": 343,
   "id": "cba4299b",
   "metadata": {
    "slideshow": {
     "slide_type": "subslide"
    }
   },
   "outputs": [
    {
     "data": {
      "text/html": [
       "<div>\n",
       "<style scoped>\n",
       "    .dataframe tbody tr th:only-of-type {\n",
       "        vertical-align: middle;\n",
       "    }\n",
       "\n",
       "    .dataframe tbody tr th {\n",
       "        vertical-align: top;\n",
       "    }\n",
       "\n",
       "    .dataframe thead th {\n",
       "        text-align: right;\n",
       "    }\n",
       "</style>\n",
       "<table border=\"1\" class=\"dataframe\">\n",
       "  <thead>\n",
       "    <tr style=\"text-align: right;\">\n",
       "      <th></th>\n",
       "      <th>track_momentum</th>\n",
       "      <th>ring_radius</th>\n",
       "      <th>total_hits_filtered</th>\n",
       "      <th>y_test</th>\n",
       "      <th>y_pred_lgb</th>\n",
       "      <th>y_pred_xgb</th>\n",
       "      <th>y_pred_adb</th>\n",
       "      <th>compare_xgb_lgb</th>\n",
       "    </tr>\n",
       "  </thead>\n",
       "  <tbody>\n",
       "    <tr>\n",
       "      <th>9160344</th>\n",
       "      <td>34.783936</td>\n",
       "      <td>173.657471</td>\n",
       "      <td>15</td>\n",
       "      <td>1</td>\n",
       "      <td>1</td>\n",
       "      <td>1</td>\n",
       "      <td>1</td>\n",
       "      <td>True</td>\n",
       "    </tr>\n",
       "    <tr>\n",
       "      <th>9006947</th>\n",
       "      <td>21.358488</td>\n",
       "      <td>157.571793</td>\n",
       "      <td>9</td>\n",
       "      <td>1</td>\n",
       "      <td>1</td>\n",
       "      <td>1</td>\n",
       "      <td>1</td>\n",
       "      <td>True</td>\n",
       "    </tr>\n",
       "    <tr>\n",
       "      <th>2296860</th>\n",
       "      <td>16.737009</td>\n",
       "      <td>156.325745</td>\n",
       "      <td>10</td>\n",
       "      <td>0</td>\n",
       "      <td>0</td>\n",
       "      <td>0</td>\n",
       "      <td>0</td>\n",
       "      <td>True</td>\n",
       "    </tr>\n",
       "    <tr>\n",
       "      <th>7309038</th>\n",
       "      <td>35.763229</td>\n",
       "      <td>181.071976</td>\n",
       "      <td>20</td>\n",
       "      <td>0</td>\n",
       "      <td>1</td>\n",
       "      <td>1</td>\n",
       "      <td>1</td>\n",
       "      <td>True</td>\n",
       "    </tr>\n",
       "    <tr>\n",
       "      <th>8773890</th>\n",
       "      <td>25.676950</td>\n",
       "      <td>164.774445</td>\n",
       "      <td>15</td>\n",
       "      <td>1</td>\n",
       "      <td>1</td>\n",
       "      <td>1</td>\n",
       "      <td>1</td>\n",
       "      <td>True</td>\n",
       "    </tr>\n",
       "    <tr>\n",
       "      <th>...</th>\n",
       "      <td>...</td>\n",
       "      <td>...</td>\n",
       "      <td>...</td>\n",
       "      <td>...</td>\n",
       "      <td>...</td>\n",
       "      <td>...</td>\n",
       "      <td>...</td>\n",
       "      <td>...</td>\n",
       "    </tr>\n",
       "    <tr>\n",
       "      <th>6426497</th>\n",
       "      <td>15.171918</td>\n",
       "      <td>148.132172</td>\n",
       "      <td>8</td>\n",
       "      <td>0</td>\n",
       "      <td>0</td>\n",
       "      <td>0</td>\n",
       "      <td>0</td>\n",
       "      <td>True</td>\n",
       "    </tr>\n",
       "    <tr>\n",
       "      <th>9031233</th>\n",
       "      <td>38.342449</td>\n",
       "      <td>178.207581</td>\n",
       "      <td>7</td>\n",
       "      <td>1</td>\n",
       "      <td>1</td>\n",
       "      <td>1</td>\n",
       "      <td>1</td>\n",
       "      <td>True</td>\n",
       "    </tr>\n",
       "    <tr>\n",
       "      <th>3583000</th>\n",
       "      <td>24.429150</td>\n",
       "      <td>184.198166</td>\n",
       "      <td>12</td>\n",
       "      <td>0</td>\n",
       "      <td>0</td>\n",
       "      <td>0</td>\n",
       "      <td>0</td>\n",
       "      <td>True</td>\n",
       "    </tr>\n",
       "    <tr>\n",
       "      <th>7387760</th>\n",
       "      <td>36.527206</td>\n",
       "      <td>184.056229</td>\n",
       "      <td>30</td>\n",
       "      <td>0</td>\n",
       "      <td>0</td>\n",
       "      <td>0</td>\n",
       "      <td>0</td>\n",
       "      <td>True</td>\n",
       "    </tr>\n",
       "    <tr>\n",
       "      <th>2361034</th>\n",
       "      <td>31.518194</td>\n",
       "      <td>181.879028</td>\n",
       "      <td>14</td>\n",
       "      <td>0</td>\n",
       "      <td>0</td>\n",
       "      <td>0</td>\n",
       "      <td>0</td>\n",
       "      <td>True</td>\n",
       "    </tr>\n",
       "  </tbody>\n",
       "</table>\n",
       "<p>429236 rows × 8 columns</p>\n",
       "</div>"
      ],
      "text/plain": [
       "         track_momentum  ring_radius  total_hits_filtered  y_test  y_pred_lgb  \\\n",
       "9160344       34.783936   173.657471                   15       1           1   \n",
       "9006947       21.358488   157.571793                    9       1           1   \n",
       "2296860       16.737009   156.325745                   10       0           0   \n",
       "7309038       35.763229   181.071976                   20       0           1   \n",
       "8773890       25.676950   164.774445                   15       1           1   \n",
       "...                 ...          ...                  ...     ...         ...   \n",
       "6426497       15.171918   148.132172                    8       0           0   \n",
       "9031233       38.342449   178.207581                    7       1           1   \n",
       "3583000       24.429150   184.198166                   12       0           0   \n",
       "7387760       36.527206   184.056229                   30       0           0   \n",
       "2361034       31.518194   181.879028                   14       0           0   \n",
       "\n",
       "         y_pred_xgb  y_pred_adb  compare_xgb_lgb  \n",
       "9160344           1           1             True  \n",
       "9006947           1           1             True  \n",
       "2296860           0           0             True  \n",
       "7309038           1           1             True  \n",
       "8773890           1           1             True  \n",
       "...             ...         ...              ...  \n",
       "6426497           0           0             True  \n",
       "9031233           1           1             True  \n",
       "3583000           0           0             True  \n",
       "7387760           0           0             True  \n",
       "2361034           0           0             True  \n",
       "\n",
       "[429236 rows x 8 columns]"
      ]
     },
     "execution_count": 343,
     "metadata": {},
     "output_type": "execute_result"
    }
   ],
   "source": [
    "results_gbm = pd.DataFrame({\n",
    "    \"track_momentum\": X_test.track_momentum,\n",
    "    \"ring_radius\": X_test.ring_radius,\n",
    "    \"total_hits_filtered\": X_test.total_hits_filtered,\n",
    "    \"y_test\": y_test,\n",
    "    \"y_pred_lgb\": y_pred_lgb,\n",
    "    \"y_pred_xgb\": y_pred_xgb,\n",
    "    \"y_pred_adb\": y_pred_adb,\n",
    "    \"compare_xgb_lgb\": (y_pred_lgb == y_pred_xgb) \n",
    "    \n",
    "})\n",
    "results_gbm"
   ]
  },
  {
   "cell_type": "markdown",
   "id": "28b6ff90",
   "metadata": {
    "slideshow": {
     "slide_type": "slide"
    }
   },
   "source": [
    "## 7. Analysis of mismatch in predictions by different GBMs"
   ]
  },
  {
   "cell_type": "code",
   "execution_count": 253,
   "id": "51135fbf",
   "metadata": {
    "slideshow": {
     "slide_type": "fragment"
    }
   },
   "outputs": [
    {
     "data": {
      "text/html": [
       "<div>\n",
       "<style scoped>\n",
       "    .dataframe tbody tr th:only-of-type {\n",
       "        vertical-align: middle;\n",
       "    }\n",
       "\n",
       "    .dataframe tbody tr th {\n",
       "        vertical-align: top;\n",
       "    }\n",
       "\n",
       "    .dataframe thead th {\n",
       "        text-align: right;\n",
       "    }\n",
       "</style>\n",
       "<table border=\"1\" class=\"dataframe\">\n",
       "  <thead>\n",
       "    <tr style=\"text-align: right;\">\n",
       "      <th></th>\n",
       "      <th>track_momentum</th>\n",
       "      <th>ring_radius</th>\n",
       "      <th>total_hits_filtered</th>\n",
       "      <th>y_test</th>\n",
       "      <th>y_pred_lgb</th>\n",
       "      <th>y_pred_xgb</th>\n",
       "      <th>y_pred_adb</th>\n",
       "      <th>compare_xgb_lgb</th>\n",
       "    </tr>\n",
       "  </thead>\n",
       "  <tbody>\n",
       "    <tr>\n",
       "      <th>9095852</th>\n",
       "      <td>42.545795</td>\n",
       "      <td>183.858673</td>\n",
       "      <td>16</td>\n",
       "      <td>1</td>\n",
       "      <td>0</td>\n",
       "      <td>1</td>\n",
       "      <td>0</td>\n",
       "      <td>False</td>\n",
       "    </tr>\n",
       "    <tr>\n",
       "      <th>9413042</th>\n",
       "      <td>38.293095</td>\n",
       "      <td>182.300613</td>\n",
       "      <td>14</td>\n",
       "      <td>1</td>\n",
       "      <td>0</td>\n",
       "      <td>1</td>\n",
       "      <td>0</td>\n",
       "      <td>False</td>\n",
       "    </tr>\n",
       "    <tr>\n",
       "      <th>6200087</th>\n",
       "      <td>25.022940</td>\n",
       "      <td>169.802933</td>\n",
       "      <td>8</td>\n",
       "      <td>0</td>\n",
       "      <td>1</td>\n",
       "      <td>0</td>\n",
       "      <td>1</td>\n",
       "      <td>False</td>\n",
       "    </tr>\n",
       "    <tr>\n",
       "      <th>2194963</th>\n",
       "      <td>43.682941</td>\n",
       "      <td>184.485184</td>\n",
       "      <td>11</td>\n",
       "      <td>0</td>\n",
       "      <td>0</td>\n",
       "      <td>1</td>\n",
       "      <td>0</td>\n",
       "      <td>False</td>\n",
       "    </tr>\n",
       "    <tr>\n",
       "      <th>8708934</th>\n",
       "      <td>43.506897</td>\n",
       "      <td>184.148071</td>\n",
       "      <td>16</td>\n",
       "      <td>1</td>\n",
       "      <td>0</td>\n",
       "      <td>1</td>\n",
       "      <td>0</td>\n",
       "      <td>False</td>\n",
       "    </tr>\n",
       "    <tr>\n",
       "      <th>...</th>\n",
       "      <td>...</td>\n",
       "      <td>...</td>\n",
       "      <td>...</td>\n",
       "      <td>...</td>\n",
       "      <td>...</td>\n",
       "      <td>...</td>\n",
       "      <td>...</td>\n",
       "      <td>...</td>\n",
       "    </tr>\n",
       "    <tr>\n",
       "      <th>8967149</th>\n",
       "      <td>36.563793</td>\n",
       "      <td>181.626389</td>\n",
       "      <td>19</td>\n",
       "      <td>1</td>\n",
       "      <td>1</td>\n",
       "      <td>0</td>\n",
       "      <td>0</td>\n",
       "      <td>False</td>\n",
       "    </tr>\n",
       "    <tr>\n",
       "      <th>3452862</th>\n",
       "      <td>43.941921</td>\n",
       "      <td>184.054123</td>\n",
       "      <td>22</td>\n",
       "      <td>0</td>\n",
       "      <td>1</td>\n",
       "      <td>0</td>\n",
       "      <td>0</td>\n",
       "      <td>False</td>\n",
       "    </tr>\n",
       "    <tr>\n",
       "      <th>1260495</th>\n",
       "      <td>42.033985</td>\n",
       "      <td>183.656754</td>\n",
       "      <td>7</td>\n",
       "      <td>0</td>\n",
       "      <td>1</td>\n",
       "      <td>0</td>\n",
       "      <td>0</td>\n",
       "      <td>False</td>\n",
       "    </tr>\n",
       "    <tr>\n",
       "      <th>9399697</th>\n",
       "      <td>43.763897</td>\n",
       "      <td>184.052185</td>\n",
       "      <td>22</td>\n",
       "      <td>1</td>\n",
       "      <td>1</td>\n",
       "      <td>0</td>\n",
       "      <td>0</td>\n",
       "      <td>False</td>\n",
       "    </tr>\n",
       "    <tr>\n",
       "      <th>9060606</th>\n",
       "      <td>40.474285</td>\n",
       "      <td>183.139572</td>\n",
       "      <td>21</td>\n",
       "      <td>1</td>\n",
       "      <td>0</td>\n",
       "      <td>1</td>\n",
       "      <td>0</td>\n",
       "      <td>False</td>\n",
       "    </tr>\n",
       "  </tbody>\n",
       "</table>\n",
       "<p>2417 rows × 8 columns</p>\n",
       "</div>"
      ],
      "text/plain": [
       "         track_momentum  ring_radius  total_hits_filtered  y_test  y_pred_lgb  \\\n",
       "9095852       42.545795   183.858673                   16       1           0   \n",
       "9413042       38.293095   182.300613                   14       1           0   \n",
       "6200087       25.022940   169.802933                    8       0           1   \n",
       "2194963       43.682941   184.485184                   11       0           0   \n",
       "8708934       43.506897   184.148071                   16       1           0   \n",
       "...                 ...          ...                  ...     ...         ...   \n",
       "8967149       36.563793   181.626389                   19       1           1   \n",
       "3452862       43.941921   184.054123                   22       0           1   \n",
       "1260495       42.033985   183.656754                    7       0           1   \n",
       "9399697       43.763897   184.052185                   22       1           1   \n",
       "9060606       40.474285   183.139572                   21       1           0   \n",
       "\n",
       "         y_pred_xgb  y_pred_adb  compare_xgb_lgb  \n",
       "9095852           1           0            False  \n",
       "9413042           1           0            False  \n",
       "6200087           0           1            False  \n",
       "2194963           1           0            False  \n",
       "8708934           1           0            False  \n",
       "...             ...         ...              ...  \n",
       "8967149           0           0            False  \n",
       "3452862           0           0            False  \n",
       "1260495           0           0            False  \n",
       "9399697           0           0            False  \n",
       "9060606           1           0            False  \n",
       "\n",
       "[2417 rows x 8 columns]"
      ]
     },
     "execution_count": 253,
     "metadata": {},
     "output_type": "execute_result"
    }
   ],
   "source": [
    "# comparison between lgbm and xgb for mismatch\n",
    "results_gbm[results_gbm.compare_xgb_lgb==False]\n"
   ]
  },
  {
   "cell_type": "code",
   "execution_count": 345,
   "id": "a14f502a",
   "metadata": {
    "slideshow": {
     "slide_type": "skip"
    }
   },
   "outputs": [
    {
     "data": {
      "text/html": [
       "<div>\n",
       "<style scoped>\n",
       "    .dataframe tbody tr th:only-of-type {\n",
       "        vertical-align: middle;\n",
       "    }\n",
       "\n",
       "    .dataframe tbody tr th {\n",
       "        vertical-align: top;\n",
       "    }\n",
       "\n",
       "    .dataframe thead th {\n",
       "        text-align: right;\n",
       "    }\n",
       "</style>\n",
       "<table border=\"1\" class=\"dataframe\">\n",
       "  <thead>\n",
       "    <tr style=\"text-align: right;\">\n",
       "      <th></th>\n",
       "      <th>track_momentum</th>\n",
       "      <th>ring_radius</th>\n",
       "      <th>total_hits_filtered</th>\n",
       "      <th>y_test</th>\n",
       "      <th>y_pred_lgb</th>\n",
       "      <th>y_pred_xgb</th>\n",
       "      <th>y_pred_adb</th>\n",
       "      <th>compare_xgb_lgb</th>\n",
       "    </tr>\n",
       "  </thead>\n",
       "  <tbody>\n",
       "    <tr>\n",
       "      <th>7309038</th>\n",
       "      <td>35.763229</td>\n",
       "      <td>181.071976</td>\n",
       "      <td>20</td>\n",
       "      <td>0</td>\n",
       "      <td>1</td>\n",
       "      <td>1</td>\n",
       "      <td>1</td>\n",
       "      <td>True</td>\n",
       "    </tr>\n",
       "    <tr>\n",
       "      <th>9524628</th>\n",
       "      <td>35.152458</td>\n",
       "      <td>182.022614</td>\n",
       "      <td>17</td>\n",
       "      <td>1</td>\n",
       "      <td>0</td>\n",
       "      <td>0</td>\n",
       "      <td>0</td>\n",
       "      <td>True</td>\n",
       "    </tr>\n",
       "    <tr>\n",
       "      <th>3765202</th>\n",
       "      <td>38.716934</td>\n",
       "      <td>181.350815</td>\n",
       "      <td>17</td>\n",
       "      <td>0</td>\n",
       "      <td>1</td>\n",
       "      <td>1</td>\n",
       "      <td>1</td>\n",
       "      <td>True</td>\n",
       "    </tr>\n",
       "    <tr>\n",
       "      <th>5767123</th>\n",
       "      <td>43.186146</td>\n",
       "      <td>183.903671</td>\n",
       "      <td>9</td>\n",
       "      <td>0</td>\n",
       "      <td>1</td>\n",
       "      <td>1</td>\n",
       "      <td>0</td>\n",
       "      <td>True</td>\n",
       "    </tr>\n",
       "    <tr>\n",
       "      <th>9388003</th>\n",
       "      <td>43.500027</td>\n",
       "      <td>184.183990</td>\n",
       "      <td>8</td>\n",
       "      <td>1</td>\n",
       "      <td>1</td>\n",
       "      <td>0</td>\n",
       "      <td>0</td>\n",
       "      <td>False</td>\n",
       "    </tr>\n",
       "    <tr>\n",
       "      <th>...</th>\n",
       "      <td>...</td>\n",
       "      <td>...</td>\n",
       "      <td>...</td>\n",
       "      <td>...</td>\n",
       "      <td>...</td>\n",
       "      <td>...</td>\n",
       "      <td>...</td>\n",
       "      <td>...</td>\n",
       "    </tr>\n",
       "    <tr>\n",
       "      <th>7076213</th>\n",
       "      <td>30.681997</td>\n",
       "      <td>177.461502</td>\n",
       "      <td>19</td>\n",
       "      <td>0</td>\n",
       "      <td>1</td>\n",
       "      <td>1</td>\n",
       "      <td>0</td>\n",
       "      <td>True</td>\n",
       "    </tr>\n",
       "    <tr>\n",
       "      <th>5495378</th>\n",
       "      <td>39.709282</td>\n",
       "      <td>182.708633</td>\n",
       "      <td>13</td>\n",
       "      <td>0</td>\n",
       "      <td>1</td>\n",
       "      <td>1</td>\n",
       "      <td>0</td>\n",
       "      <td>True</td>\n",
       "    </tr>\n",
       "    <tr>\n",
       "      <th>1246677</th>\n",
       "      <td>43.049343</td>\n",
       "      <td>182.280701</td>\n",
       "      <td>12</td>\n",
       "      <td>0</td>\n",
       "      <td>1</td>\n",
       "      <td>1</td>\n",
       "      <td>1</td>\n",
       "      <td>True</td>\n",
       "    </tr>\n",
       "    <tr>\n",
       "      <th>3988849</th>\n",
       "      <td>41.554111</td>\n",
       "      <td>181.001755</td>\n",
       "      <td>13</td>\n",
       "      <td>0</td>\n",
       "      <td>1</td>\n",
       "      <td>1</td>\n",
       "      <td>1</td>\n",
       "      <td>True</td>\n",
       "    </tr>\n",
       "    <tr>\n",
       "      <th>9099046</th>\n",
       "      <td>34.702007</td>\n",
       "      <td>181.208862</td>\n",
       "      <td>14</td>\n",
       "      <td>1</td>\n",
       "      <td>0</td>\n",
       "      <td>0</td>\n",
       "      <td>0</td>\n",
       "      <td>True</td>\n",
       "    </tr>\n",
       "  </tbody>\n",
       "</table>\n",
       "<p>27970 rows × 8 columns</p>\n",
       "</div>"
      ],
      "text/plain": [
       "         track_momentum  ring_radius  total_hits_filtered  y_test  y_pred_lgb  \\\n",
       "7309038       35.763229   181.071976                   20       0           1   \n",
       "9524628       35.152458   182.022614                   17       1           0   \n",
       "3765202       38.716934   181.350815                   17       0           1   \n",
       "5767123       43.186146   183.903671                    9       0           1   \n",
       "9388003       43.500027   184.183990                    8       1           1   \n",
       "...                 ...          ...                  ...     ...         ...   \n",
       "7076213       30.681997   177.461502                   19       0           1   \n",
       "5495378       39.709282   182.708633                   13       0           1   \n",
       "1246677       43.049343   182.280701                   12       0           1   \n",
       "3988849       41.554111   181.001755                   13       0           1   \n",
       "9099046       34.702007   181.208862                   14       1           0   \n",
       "\n",
       "         y_pred_xgb  y_pred_adb  compare_xgb_lgb  \n",
       "7309038           1           1             True  \n",
       "9524628           0           0             True  \n",
       "3765202           1           1             True  \n",
       "5767123           1           0             True  \n",
       "9388003           0           0            False  \n",
       "...             ...         ...              ...  \n",
       "7076213           1           0             True  \n",
       "5495378           1           0             True  \n",
       "1246677           1           1             True  \n",
       "3988849           1           1             True  \n",
       "9099046           0           0             True  \n",
       "\n",
       "[27970 rows x 8 columns]"
      ]
     },
     "execution_count": 345,
     "metadata": {},
     "output_type": "execute_result"
    }
   ],
   "source": [
    "mis_preds = results_gbm.query('y_test != y_pred_xgb')\n",
    "mis_preds"
   ]
  },
  {
   "cell_type": "code",
   "execution_count": 349,
   "id": "ce8752b6",
   "metadata": {
    "slideshow": {
     "slide_type": "skip"
    }
   },
   "outputs": [
    {
     "data": {
      "text/html": [
       "<div>\n",
       "<style scoped>\n",
       "    .dataframe tbody tr th:only-of-type {\n",
       "        vertical-align: middle;\n",
       "    }\n",
       "\n",
       "    .dataframe tbody tr th {\n",
       "        vertical-align: top;\n",
       "    }\n",
       "\n",
       "    .dataframe thead th {\n",
       "        text-align: right;\n",
       "    }\n",
       "</style>\n",
       "<table border=\"1\" class=\"dataframe\">\n",
       "  <thead>\n",
       "    <tr style=\"text-align: right;\">\n",
       "      <th></th>\n",
       "      <th>run_id</th>\n",
       "      <th>burst_id</th>\n",
       "      <th>event_id</th>\n",
       "      <th>track_id</th>\n",
       "      <th>track_momentum</th>\n",
       "      <th>chod_time</th>\n",
       "      <th>ring_radius</th>\n",
       "      <th>ring_centre_pos_x</th>\n",
       "      <th>ring_centre_pos_y</th>\n",
       "      <th>ring_likelihood_pion</th>\n",
       "      <th>ring_likelihood_muon</th>\n",
       "      <th>ring_likelihood_positron</th>\n",
       "      <th>label</th>\n",
       "      <th>original_index</th>\n",
       "      <th>momentum-bin</th>\n",
       "    </tr>\n",
       "    <tr>\n",
       "      <th>original_index</th>\n",
       "      <th></th>\n",
       "      <th></th>\n",
       "      <th></th>\n",
       "      <th></th>\n",
       "      <th></th>\n",
       "      <th></th>\n",
       "      <th></th>\n",
       "      <th></th>\n",
       "      <th></th>\n",
       "      <th></th>\n",
       "      <th></th>\n",
       "      <th></th>\n",
       "      <th></th>\n",
       "      <th></th>\n",
       "      <th></th>\n",
       "    </tr>\n",
       "  </thead>\n",
       "  <tbody>\n",
       "    <tr>\n",
       "      <th>2687658</th>\n",
       "      <td>9011</td>\n",
       "      <td>887</td>\n",
       "      <td>1800376</td>\n",
       "      <td>0</td>\n",
       "      <td>24.691673</td>\n",
       "      <td>16.837833</td>\n",
       "      <td>177.461960</td>\n",
       "      <td>-60.107861</td>\n",
       "      <td>106.794441</td>\n",
       "      <td>5.328789e-10</td>\n",
       "      <td>1.000000</td>\n",
       "      <td>9.393904e-21</td>\n",
       "      <td>0</td>\n",
       "      <td>2687658</td>\n",
       "      <td>15-25</td>\n",
       "    </tr>\n",
       "    <tr>\n",
       "      <th>4676657</th>\n",
       "      <td>8992</td>\n",
       "      <td>1059</td>\n",
       "      <td>770241</td>\n",
       "      <td>0</td>\n",
       "      <td>23.396029</td>\n",
       "      <td>9.284823</td>\n",
       "      <td>175.237564</td>\n",
       "      <td>-12.228768</td>\n",
       "      <td>11.319837</td>\n",
       "      <td>1.080940e-22</td>\n",
       "      <td>1.000000</td>\n",
       "      <td>6.127901e-07</td>\n",
       "      <td>0</td>\n",
       "      <td>4676657</td>\n",
       "      <td>15-25</td>\n",
       "    </tr>\n",
       "    <tr>\n",
       "      <th>3262259</th>\n",
       "      <td>9007</td>\n",
       "      <td>477</td>\n",
       "      <td>1922012</td>\n",
       "      <td>0</td>\n",
       "      <td>15.891424</td>\n",
       "      <td>22.654669</td>\n",
       "      <td>152.091827</td>\n",
       "      <td>-241.150375</td>\n",
       "      <td>-172.708389</td>\n",
       "      <td>1.216099e-37</td>\n",
       "      <td>1.000000</td>\n",
       "      <td>1.216099e-37</td>\n",
       "      <td>0</td>\n",
       "      <td>3262259</td>\n",
       "      <td>15-25</td>\n",
       "    </tr>\n",
       "    <tr>\n",
       "      <th>5473943</th>\n",
       "      <td>8987</td>\n",
       "      <td>1295</td>\n",
       "      <td>1634792</td>\n",
       "      <td>0</td>\n",
       "      <td>16.026428</td>\n",
       "      <td>23.254803</td>\n",
       "      <td>155.005783</td>\n",
       "      <td>-65.635712</td>\n",
       "      <td>-0.601753</td>\n",
       "      <td>1.216099e-37</td>\n",
       "      <td>1.000000</td>\n",
       "      <td>1.216099e-37</td>\n",
       "      <td>0</td>\n",
       "      <td>5473943</td>\n",
       "      <td>15-25</td>\n",
       "    </tr>\n",
       "    <tr>\n",
       "      <th>8071459</th>\n",
       "      <td>8971</td>\n",
       "      <td>654</td>\n",
       "      <td>2010374</td>\n",
       "      <td>0</td>\n",
       "      <td>21.888950</td>\n",
       "      <td>24.337191</td>\n",
       "      <td>172.810287</td>\n",
       "      <td>-231.750687</td>\n",
       "      <td>159.534821</td>\n",
       "      <td>4.307081e-14</td>\n",
       "      <td>1.000000</td>\n",
       "      <td>7.490480e-21</td>\n",
       "      <td>0</td>\n",
       "      <td>8071459</td>\n",
       "      <td>15-25</td>\n",
       "    </tr>\n",
       "    <tr>\n",
       "      <th>...</th>\n",
       "      <td>...</td>\n",
       "      <td>...</td>\n",
       "      <td>...</td>\n",
       "      <td>...</td>\n",
       "      <td>...</td>\n",
       "      <td>...</td>\n",
       "      <td>...</td>\n",
       "      <td>...</td>\n",
       "      <td>...</td>\n",
       "      <td>...</td>\n",
       "      <td>...</td>\n",
       "      <td>...</td>\n",
       "      <td>...</td>\n",
       "      <td>...</td>\n",
       "      <td>...</td>\n",
       "    </tr>\n",
       "    <tr>\n",
       "      <th>9567636</th>\n",
       "      <td>8968</td>\n",
       "      <td>7</td>\n",
       "      <td>563388</td>\n",
       "      <td>0</td>\n",
       "      <td>35.011139</td>\n",
       "      <td>16.212551</td>\n",
       "      <td>177.854492</td>\n",
       "      <td>-213.486633</td>\n",
       "      <td>-2.936464</td>\n",
       "      <td>1.000000e+00</td>\n",
       "      <td>0.000043</td>\n",
       "      <td>2.887881e-20</td>\n",
       "      <td>1</td>\n",
       "      <td>9567636</td>\n",
       "      <td>35-45</td>\n",
       "    </tr>\n",
       "    <tr>\n",
       "      <th>9567637</th>\n",
       "      <td>8968</td>\n",
       "      <td>7</td>\n",
       "      <td>572378</td>\n",
       "      <td>0</td>\n",
       "      <td>38.958267</td>\n",
       "      <td>19.714800</td>\n",
       "      <td>182.430420</td>\n",
       "      <td>-98.754082</td>\n",
       "      <td>92.138535</td>\n",
       "      <td>1.000000e+00</td>\n",
       "      <td>0.146916</td>\n",
       "      <td>3.528800e-07</td>\n",
       "      <td>1</td>\n",
       "      <td>9567637</td>\n",
       "      <td>35-45</td>\n",
       "    </tr>\n",
       "    <tr>\n",
       "      <th>9567638</th>\n",
       "      <td>8968</td>\n",
       "      <td>7</td>\n",
       "      <td>583135</td>\n",
       "      <td>0</td>\n",
       "      <td>38.474777</td>\n",
       "      <td>13.620609</td>\n",
       "      <td>176.691132</td>\n",
       "      <td>-145.546219</td>\n",
       "      <td>-77.260124</td>\n",
       "      <td>1.000000e+00</td>\n",
       "      <td>0.001099</td>\n",
       "      <td>5.301323e-11</td>\n",
       "      <td>1</td>\n",
       "      <td>9567638</td>\n",
       "      <td>35-45</td>\n",
       "    </tr>\n",
       "    <tr>\n",
       "      <th>9567646</th>\n",
       "      <td>8968</td>\n",
       "      <td>7</td>\n",
       "      <td>1461058</td>\n",
       "      <td>0</td>\n",
       "      <td>36.989967</td>\n",
       "      <td>14.916398</td>\n",
       "      <td>180.464676</td>\n",
       "      <td>-186.481369</td>\n",
       "      <td>-47.899498</td>\n",
       "      <td>1.000000e+00</td>\n",
       "      <td>0.004252</td>\n",
       "      <td>8.353033e-16</td>\n",
       "      <td>1</td>\n",
       "      <td>9567646</td>\n",
       "      <td>35-45</td>\n",
       "    </tr>\n",
       "    <tr>\n",
       "      <th>9567649</th>\n",
       "      <td>8968</td>\n",
       "      <td>7</td>\n",
       "      <td>1879508</td>\n",
       "      <td>0</td>\n",
       "      <td>37.186985</td>\n",
       "      <td>13.901727</td>\n",
       "      <td>179.594803</td>\n",
       "      <td>-184.169525</td>\n",
       "      <td>-46.599884</td>\n",
       "      <td>1.000000e+00</td>\n",
       "      <td>0.145252</td>\n",
       "      <td>4.142398e-08</td>\n",
       "      <td>1</td>\n",
       "      <td>9567649</td>\n",
       "      <td>35-45</td>\n",
       "    </tr>\n",
       "  </tbody>\n",
       "</table>\n",
       "<p>1731226 rows × 15 columns</p>\n",
       "</div>"
      ],
      "text/plain": [
       "                run_id  burst_id  event_id  track_id  track_momentum  \\\n",
       "original_index                                                         \n",
       "2687658           9011       887   1800376         0       24.691673   \n",
       "4676657           8992      1059    770241         0       23.396029   \n",
       "3262259           9007       477   1922012         0       15.891424   \n",
       "5473943           8987      1295   1634792         0       16.026428   \n",
       "8071459           8971       654   2010374         0       21.888950   \n",
       "...                ...       ...       ...       ...             ...   \n",
       "9567636           8968         7    563388         0       35.011139   \n",
       "9567637           8968         7    572378         0       38.958267   \n",
       "9567638           8968         7    583135         0       38.474777   \n",
       "9567646           8968         7   1461058         0       36.989967   \n",
       "9567649           8968         7   1879508         0       37.186985   \n",
       "\n",
       "                chod_time  ring_radius  ring_centre_pos_x  ring_centre_pos_y  \\\n",
       "original_index                                                                 \n",
       "2687658         16.837833   177.461960         -60.107861         106.794441   \n",
       "4676657          9.284823   175.237564         -12.228768          11.319837   \n",
       "3262259         22.654669   152.091827        -241.150375        -172.708389   \n",
       "5473943         23.254803   155.005783         -65.635712          -0.601753   \n",
       "8071459         24.337191   172.810287        -231.750687         159.534821   \n",
       "...                   ...          ...                ...                ...   \n",
       "9567636         16.212551   177.854492        -213.486633          -2.936464   \n",
       "9567637         19.714800   182.430420         -98.754082          92.138535   \n",
       "9567638         13.620609   176.691132        -145.546219         -77.260124   \n",
       "9567646         14.916398   180.464676        -186.481369         -47.899498   \n",
       "9567649         13.901727   179.594803        -184.169525         -46.599884   \n",
       "\n",
       "                ring_likelihood_pion  ring_likelihood_muon  \\\n",
       "original_index                                               \n",
       "2687658                 5.328789e-10              1.000000   \n",
       "4676657                 1.080940e-22              1.000000   \n",
       "3262259                 1.216099e-37              1.000000   \n",
       "5473943                 1.216099e-37              1.000000   \n",
       "8071459                 4.307081e-14              1.000000   \n",
       "...                              ...                   ...   \n",
       "9567636                 1.000000e+00              0.000043   \n",
       "9567637                 1.000000e+00              0.146916   \n",
       "9567638                 1.000000e+00              0.001099   \n",
       "9567646                 1.000000e+00              0.004252   \n",
       "9567649                 1.000000e+00              0.145252   \n",
       "\n",
       "                ring_likelihood_positron  label  original_index momentum-bin  \n",
       "original_index                                                                \n",
       "2687658                     9.393904e-21      0         2687658        15-25  \n",
       "4676657                     6.127901e-07      0         4676657        15-25  \n",
       "3262259                     1.216099e-37      0         3262259        15-25  \n",
       "5473943                     1.216099e-37      0         5473943        15-25  \n",
       "8071459                     7.490480e-21      0         8071459        15-25  \n",
       "...                                  ...    ...             ...          ...  \n",
       "9567636                     2.887881e-20      1         9567636        35-45  \n",
       "9567637                     3.528800e-07      1         9567637        35-45  \n",
       "9567638                     5.301323e-11      1         9567638        35-45  \n",
       "9567646                     8.353033e-16      1         9567646        35-45  \n",
       "9567649                     4.142398e-08      1         9567649        35-45  \n",
       "\n",
       "[1731226 rows x 15 columns]"
      ]
     },
     "execution_count": 349,
     "metadata": {},
     "output_type": "execute_result"
    }
   ],
   "source": [
    "df_temp.index = df_temp.original_index\n",
    "df_temp"
   ]
  },
  {
   "cell_type": "markdown",
   "id": "71923bc6",
   "metadata": {
    "slideshow": {
     "slide_type": "subslide"
    }
   },
   "source": [
    "### Comparative performance across momentum bins"
   ]
  },
  {
   "cell_type": "markdown",
   "id": "6fd0c934",
   "metadata": {
    "slideshow": {
     "slide_type": "fragment"
    }
   },
   "source": [
    "#### A. Earlier considered momentum bins"
   ]
  },
  {
   "cell_type": "code",
   "execution_count": 350,
   "id": "b8443a39",
   "metadata": {
    "scrolled": true,
    "slideshow": {
     "slide_type": "fragment"
    }
   },
   "outputs": [
    {
     "data": {
      "text/plain": [
       "<AxesSubplot:>"
      ]
     },
     "execution_count": 350,
     "metadata": {},
     "output_type": "execute_result"
    },
    {
     "data": {
      "image/png": "[encoded data removed]",
      "text/plain": [
       "<Figure size 432x288 with 1 Axes>"
      ]
     },
     "metadata": {
      "needs_background": "light"
     },
     "output_type": "display_data"
    }
   ],
   "source": [
    "# Earlier considered momentum bins (15-25, 25-35, 35-45)\n",
    "df_temp.loc[mis_preds.index, \"momentum-bin\"].hist()"
   ]
  },
  {
   "cell_type": "markdown",
   "id": "f03f4ab9",
   "metadata": {
    "slideshow": {
     "slide_type": "subslide"
    }
   },
   "source": [
    "#### B. Finer momentum bins"
   ]
  },
  {
   "cell_type": "code",
   "execution_count": 379,
   "id": "f84bfdf3",
   "metadata": {
    "scrolled": false,
    "slideshow": {
     "slide_type": "fragment"
    }
   },
   "outputs": [
    {
     "data": {
      "text/html": [
       "<iframe\n",
       "    scrolling=\"no\"\n",
       "    width=\"100%\"\n",
       "    height=\"545px\"\n",
       "    src=\"iframe_figures/figure_380.html\"\n",
       "    frameborder=\"0\"\n",
       "    allowfullscreen\n",
       "></iframe>\n"
      ]
     },
     "metadata": {},
     "output_type": "display_data"
    }
   ],
   "source": [
    "# Finer momentum bins\n",
    "pd.options.plotting.backend = \"plotly\"\n",
    "mis_preds.track_momentum.hist(bins=30)"
   ]
  },
  {
   "cell_type": "code",
   "execution_count": 378,
   "id": "84610e7b",
   "metadata": {
    "slideshow": {
     "slide_type": "subslide"
    }
   },
   "outputs": [
    {
     "data": {
      "image/png": "[encoded data removed]",
      "text/plain": [
       "<Figure size 432x288 with 1 Axes>"
      ]
     },
     "metadata": {
      "needs_background": "light"
     },
     "output_type": "display_data"
    }
   ],
   "source": [
    "# ROC Curves\n",
    "fig = None\n",
    "fig = plot_roc_curve(xgb_cl, X_test, y_test)\n",
    "fig = plot_roc_curve(lgbm_c, X_test, y_test, ax = fig.ax_)\n",
    "plt.title(\"ROC Curves for pions\")\n",
    "plt.show()"
   ]
  },
  {
   "cell_type": "markdown",
   "id": "f57ec874",
   "metadata": {},
   "source": [
    "## Hyperparameter tuning for xgboost"
   ]
  },
  {
   "cell_type": "markdown",
   "id": "bfc412d5",
   "metadata": {},
   "source": [
    "**Rationale for choosing xgboost**: Out of the three models, xgboost was chosen for hyperparameter optimization. \n",
    "\n",
    "- Although, xgboost usually is slow (~4 mins walltime for 1.7m entries) in comparison to LGBM (40s) but often outperforms LGBM as per reviews by users. \n",
    "\n",
    "- Further, its strong support for GPU and other parameters make it flexible for usage with parallel processing using APIs such as Rapids and Dask."
   ]
  },
  {
   "cell_type": "markdown",
   "id": "366a70f3",
   "metadata": {},
   "source": [
    "## Tuning using Optuna"
   ]
  },
  {
   "cell_type": "code",
   "execution_count": null,
   "id": "fa9b4a9e",
   "metadata": {},
   "outputs": [],
   "source": [
    "# Objective function\n",
    "\n",
    "def objective(trial,data=X_train,target=y_train):\n",
    "    \n",
    "    train_x, test_x, train_y, test_y = train_test_split(data, target, test_size=0.15,random_state=42)\n",
    "    param = {\n",
    "        'tree_method':'gpu_hist', \n",
    "        'lambda': trial.suggest_loguniform('lambda', 1e-3, 10.0),\n",
    "        'colsample_bytree': trial.suggest_categorical('colsample_bytree', [0.3,0.4,0.5,0.6,0.7,0.8,0.9, 1.0]),\n",
    "        'subsample': trial.suggest_categorical('subsample', [0.4,0.5,0.6,0.7,0.8,1.0]),\n",
    "        'learning_rate': trial.suggest_categorical('learning_rate', [0.008,0.01,0.012,0.014,0.016,0.018, 0.02]),\n",
    "        'n_estimators': 10000,\n",
    "        'max_depth': trial.suggest_categorical('max_depth', [5,7,9,11,13,15,17]),\n",
    "        'random_state': trial.suggest_categorical('random_state', [2020]),\n",
    "        'min_child_weight': trial.suggest_int('min_child_weight', 1, 300),\n",
    "    }\n",
    "    model = XGBClassifier(**param)  \n",
    "    \n",
    "    model.fit(train_x,train_y,eval_set=[(test_x,test_y)],early_stopping_rounds=100,verbose=False)\n",
    "    \n",
    "    preds = model.predict(test_x)\n",
    "    \n",
    "    rmse = accuracy_score(test_y, preds)\n",
    "    \n",
    "    return rmse"
   ]
  },
  {
   "cell_type": "code",
   "execution_count": 211,
   "id": "3e8d5be4",
   "metadata": {},
   "outputs": [
    {
     "name": "stderr",
     "output_type": "stream",
     "text": [
      "/opt/conda/lib/python3.8/site-packages/xgboost/sklearn.py:1224: UserWarning: The use of label encoder in XGBClassifier is deprecated and will be removed in a future release. To remove this warning, do the following: 1) Pass option use_label_encoder=False when constructing XGBClassifier object; and 2) Encode your labels (y) as integers starting with 0, i.e. 0, 1, 2, ..., [num_class - 1].\n",
      "  warnings.warn(label_encoder_deprecation_msg, UserWarning)\n"
     ]
    },
    {
     "name": "stdout",
     "output_type": "stream",
     "text": [
      "[18:58:28] WARNING: ../src/learner.cc:1115: Starting in XGBoost 1.3.0, the default evaluation metric used with the objective 'binary:logistic' was changed from 'error' to 'logloss'. Explicitly set eval_metric if you'd like to restore the old behavior.\n",
      "CPU times: user 11.5 s, sys: 2.01 s, total: 13.5 s\n",
      "Wall time: 27 s\n"
     ]
    },
    {
     "data": {
      "text/plain": [
       "XGBClassifier(base_score=0.5, booster='gbtree', colsample_bylevel=1,\n",
       "              colsample_bynode=1, colsample_bytree=1, enable_categorical=False,\n",
       "              gamma=0, gpu_id=7, importance_type=None,\n",
       "              interaction_constraints='', learning_rate=0.3, max_delta_step=0,\n",
       "              max_depth=2, min_child_weight=1, missing=nan,\n",
       "              monotone_constraints='()', n_estimators=5000, n_jobs=64,\n",
       "              num_parallel_tree=1, predictor='gpu_predictor', random_state=123,\n",
       "              reg_alpha=0, reg_lambda=100, scale_pos_weight=1, subsample=0.9,\n",
       "              tree_method='gpu_hist', validate_parameters=1, verbosity=None)"
      ]
     },
     "execution_count": 211,
     "metadata": {},
     "output_type": "execute_result"
    }
   ],
   "source": [
    "%%time\n",
    "xgb_cl_tuned = xgb.XGBClassifier(\n",
    "    \n",
    "    random_state=123,\n",
    "    tree_method=\"gpu_hist\",\n",
    "    gpu_id=7,\n",
    "    predictor=\"gpu_predictor\",\n",
    "    n_estimators=5000,\n",
    "    learning_rate=0.3,\n",
    "    reg_lambda= 100,\n",
    "    subsample=0.9,\n",
    "    max_depth=2,\n",
    "    \n",
    ")\n",
    "xgb_cl_tuned.fit(X_train, y_train)"
   ]
  },
  {
   "cell_type": "code",
   "execution_count": 212,
   "id": "76ab8eba",
   "metadata": {},
   "outputs": [],
   "source": [
    "y_pred = xgb_cl_tuned.predict(X_test)"
   ]
  },
  {
   "cell_type": "code",
   "execution_count": 214,
   "id": "3c7cb77d",
   "metadata": {},
   "outputs": [
    {
     "name": "stdout",
     "output_type": "stream",
     "text": [
      "\n",
      "Classification Report\n",
      "\n",
      "              precision    recall  f1-score   support\n",
      "\n",
      "       Muons       0.94      0.93      0.94    215216\n",
      "       Pions       0.93      0.94      0.93    214020\n",
      "\n",
      "    accuracy                           0.94    429236\n",
      "   macro avg       0.94      0.94      0.94    429236\n",
      "weighted avg       0.94      0.94      0.94    429236\n",
      "\n"
     ]
    }
   ],
   "source": [
    "print('\\nClassification Report\\n')\n",
    "print(classification_report(\n",
    "    y_test, y_pred>0.5, \n",
    "    target_names=['Muons', 'Pions']\n",
    "    )\n",
    ")"
   ]
  },
  {
   "cell_type": "code",
   "execution_count": 210,
   "id": "27fb6aae",
   "metadata": {},
   "outputs": [
    {
     "data": {
      "image/png": "[encoded data removed]",
      "text/plain": [
       "<Figure size 360x360 with 2 Axes>"
      ]
     },
     "metadata": {
      "needs_background": "light"
     },
     "output_type": "display_data"
    }
   ],
   "source": [
    "# Confusion matrix\n",
    "cm = confusion_matrix(y_test, y_pred, normalize='true')\n",
    "cm_df = pd.DataFrame(cm,\n",
    "                     index = ['Muons', 'Pions'], \n",
    "                     columns = ['Muons', 'Pions'])\n",
    "plt.figure(figsize=(5,5))\n",
    "sns.heatmap(cm_df, annot=True, cmap='YlGnBu')\n",
    "plt.title('Confusion Matrix')\n",
    "plt.ylabel('Actual Values')\n",
    "plt.xlabel('Predicted Values')\n",
    "plt.show()"
   ]
  },
  {
   "cell_type": "code",
   "execution_count": null,
   "id": "0dd6d3c6",
   "metadata": {},
   "outputs": [],
   "source": []
  },
  {
   "cell_type": "code",
   "execution_count": null,
   "id": "4bbf6fd3",
   "metadata": {},
   "outputs": [],
   "source": [
    "%%time\n",
    "# X and y\n",
    "X = cudf.DataFrame(df_clean.loc[:, [\n",
    "    'track_momentum',\n",
    "    'ring_radius',\n",
    "    'total_hits'\n",
    "    ]]\n",
    ")\n",
    "\n",
    "y = cudf.Series(\n",
    "    df_clean.loc[:,'labels']\n",
    ")\n",
    "# X = df_clean.loc[:, [\n",
    "#     'track_momentum',\n",
    "#     'ring_radius',\n",
    "#     'total_hits'\n",
    "#     ]]\n",
    "\n",
    "# y = df_clean.loc[:,'labels']\n",
    "\n",
    "# train test split using cuml train_test_split\n",
    "X_train, X_validation, y_train, y_validation = train_test_split(\n",
    "    X, \n",
    "    y,\n",
    "    stratify=y, \n",
    "    test_size=0.3,\n",
    "    random_state=123,\n",
    "    shuffle=True\n",
    ")\n",
    "\n",
    "dtrain = xgb.DMatrix(X_train, y_train)\n",
    "dval   = xgb.DMatrix(X_validation, y_validation)"
   ]
  },
  {
   "cell_type": "code",
   "execution_count": null,
   "id": "d096b47a",
   "metadata": {},
   "outputs": [],
   "source": [
    "# %%time\n",
    "# train_test_split using sklearn train_test_split\n",
    "# from sklearn.model_selection import train_test_split\n",
    "# X_train, X_test, y_train, y_test = train_test_split(\n",
    "#     X, y,\n",
    "#     stratify=y, \n",
    "#     test_size=0.25,\n",
    "#     random_state=123\n",
    "# )"
   ]
  },
  {
   "cell_type": "code",
   "execution_count": null,
   "id": "d0dc8ad8",
   "metadata": {},
   "outputs": [],
   "source": [
    "y_train.value_counts()"
   ]
  },
  {
   "cell_type": "code",
   "execution_count": null,
   "id": "6d00f727",
   "metadata": {},
   "outputs": [],
   "source": [
    "y_validation.value_counts()"
   ]
  },
  {
   "cell_type": "code",
   "execution_count": null,
   "id": "5bc54bfd",
   "metadata": {},
   "outputs": [],
   "source": [
    "type(y_train)"
   ]
  },
  {
   "cell_type": "code",
   "execution_count": null,
   "id": "fc821455",
   "metadata": {},
   "outputs": [],
   "source": [
    "type(X_train)"
   ]
  },
  {
   "cell_type": "code",
   "execution_count": null,
   "id": "0da1dc4e",
   "metadata": {},
   "outputs": [],
   "source": [
    "y_validation[y_validation==1]"
   ]
  },
  {
   "cell_type": "code",
   "execution_count": null,
   "id": "5fb2facd",
   "metadata": {},
   "outputs": [],
   "source": [
    "# %%time\n",
    "# X_train_df = X_train.to_pandas()\n",
    "# X_validation_df = X_validation.to_pandas()\n",
    "# y_train_ps = y_train.to_pandas()\n",
    "# y_validation_ps = y_validation.to_pandas()"
   ]
  },
  {
   "cell_type": "code",
   "execution_count": null,
   "id": "20dbdf2c",
   "metadata": {},
   "outputs": [],
   "source": [
    "# imports\n",
    "# from sklearn.metrics import confusion_matrix, classification_report\n",
    "# from sklearn.ensemble import AdaBoostClassifier"
   ]
  },
  {
   "cell_type": "code",
   "execution_count": null,
   "id": "fa1c1589",
   "metadata": {},
   "outputs": [],
   "source": [
    "params = {\n",
    "    'tree_method' : 'gpu_hist',\n",
    "    'max_depth' : 7,\n",
    "    'max_leaves' : 15,\n",
    "    'objective' : 'binary:logistic',\n",
    "    'grow_policy' : 'lossguide',\n",
    "    'predictor':'gpu_predictor',\n",
    "    'eta' : 0.7,\n",
    "    'eval_metric':'auc',\n",
    "    'gpu_id': 3\n",
    "}\n",
    "\n",
    "\n",
    "evallist = [(dval, 'validation'), (dtrain, 'train')]\n",
    "num_round=50"
   ]
  },
  {
   "cell_type": "code",
   "execution_count": null,
   "id": "4b8c0675",
   "metadata": {},
   "outputs": [],
   "source": [
    "%%time\n",
    "# model using cudf/DMatrix (native xgboost)\n",
    "xgb_native = xgb.train(params, dtrain, num_round, evallist)\n",
    "\n",
    "predicts = xgb_native.predict(xgb.DMatrix(X_validation))\n",
    "roc = ras(y_validation, predicts)\n",
    "roc"
   ]
  },
  {
   "cell_type": "code",
   "execution_count": null,
   "id": "2fb11f25",
   "metadata": {},
   "outputs": [],
   "source": [
    "predicts.sum()"
   ]
  },
  {
   "cell_type": "code",
   "execution_count": null,
   "id": "57d973a0",
   "metadata": {},
   "outputs": [],
   "source": [
    "# model instantiation (using pandas formats with sklearn API)\n",
    "# xgb_cl = xgb.XGBClassifier(\n",
    "# #     objective='binary:logistic',\n",
    "# #     learning_rate=0.1,\n",
    "# #     n_estimators=250,\n",
    "# #     reg_lambda=1000,\n",
    "#     seed=123,\n",
    "# #     gpu_id=3,\n",
    "# #     tree_method=\"gpu_hist\",\n",
    "# #     subsample=0.9,\n",
    "# #     eval_metric='error',\n",
    "# #     use_label_encoder=False,\n",
    "# #     predictor=\"gpu_predictor\",\n",
    "# )"
   ]
  },
  {
   "cell_type": "code",
   "execution_count": null,
   "id": "ae0272ce",
   "metadata": {},
   "outputs": [],
   "source": [
    "eval_set = [(X_train, y_train), (X_test, y_test)]"
   ]
  },
  {
   "cell_type": "code",
   "execution_count": null,
   "id": "26839a73",
   "metadata": {},
   "outputs": [],
   "source": [
    "%%time\n",
    "xgb_cl.fit(\n",
    "    X_train, \n",
    "    y_train, \n",
    "    eval_set=eval_set, \n",
    "    verbose=True, \n",
    "    early_stopping_rounds=20,\n",
    ")"
   ]
  },
  {
   "cell_type": "code",
   "execution_count": null,
   "id": "d8fc1f30",
   "metadata": {},
   "outputs": [],
   "source": [
    "y_pred = xgb_cl.predict(X_validation_df)"
   ]
  },
  {
   "cell_type": "code",
   "execution_count": null,
   "id": "36e6d558",
   "metadata": {},
   "outputs": [],
   "source": [
    "(y_pred==1).sum()"
   ]
  },
  {
   "cell_type": "code",
   "execution_count": null,
   "id": "539cfe75",
   "metadata": {},
   "outputs": [],
   "source": []
  },
  {
   "cell_type": "code",
   "execution_count": null,
   "id": "daa3b361",
   "metadata": {},
   "outputs": [],
   "source": [
    "print('\\nClassification Report\\n')\n",
    "print(classification_report(\n",
    "    y_validation_ps, y_pred,\n",
    "    )\n",
    ")"
   ]
  },
  {
   "cell_type": "code",
   "execution_count": null,
   "id": "7000eab6",
   "metadata": {},
   "outputs": [],
   "source": [
    "%%time\n",
    "dtrain = xgb.DMatrix(X_train, label=y_train)\n",
    "dvalidation = xgb.DMatrix(X_validation, label=y_validation)"
   ]
  },
  {
   "cell_type": "code",
   "execution_count": null,
   "id": "963b0582",
   "metadata": {},
   "outputs": [],
   "source": [
    "%%time\n",
    "# model training settings\n",
    "# evallist = [(dvalidation, 'validation'), (dtrain, 'train')]\n",
    "evallist = [(dtrain, 'train')]\n",
    "num_round = 250"
   ]
  },
  {
   "cell_type": "code",
   "execution_count": null,
   "id": "82206183",
   "metadata": {
    "scrolled": true
   },
   "outputs": [],
   "source": [
    "%%time\n",
    "clf_xgb = xgb.XGBClassifier(objective='binary:logistic', seed=123)\n",
    "clf_xgb."
   ]
  },
  {
   "cell_type": "code",
   "execution_count": null,
   "id": "86a8f60e",
   "metadata": {},
   "outputs": [],
   "source": [
    "prediction = bst.predict(dvalidation)"
   ]
  },
  {
   "cell_type": "code",
   "execution_count": null,
   "id": "43582c97",
   "metadata": {},
   "outputs": [],
   "source": [
    "prediction[prediction>0.4]"
   ]
  },
  {
   "cell_type": "code",
   "execution_count": null,
   "id": "317c0bd0",
   "metadata": {},
   "outputs": [],
   "source": [
    "from sklearn.model_selection import train_test_split\n",
    "X = df_clean.loc[:, [\n",
    "    'track_momentum',\n",
    "    'ring_radius',\n",
    "    'total_hits'\n",
    "    ]]\n",
    "\n",
    "y = df_clean.loc[:,'labels']\n",
    "\n",
    "# train test split\n",
    "X_train, X_validation, y_train, y_validation = train_test_split(\n",
    "    X, \n",
    "    y,\n",
    "    stratify=y, \n",
    "    test_size=0.25,\n",
    "    random_state = 123\n",
    ")"
   ]
  },
  {
   "cell_type": "code",
   "execution_count": null,
   "id": "5da7f6fc",
   "metadata": {},
   "outputs": [],
   "source": [
    "y.astype(\"category\")"
   ]
  },
  {
   "cell_type": "code",
   "execution_count": null,
   "id": "6018c94b",
   "metadata": {},
   "outputs": [],
   "source": [
    "xgb_cl = xgb.XGBClassifier(\n",
    "    objective = 'binary:logistic',\n",
    "    seed=123,\n",
    "    gpu_id=3,\n",
    "    tree_method=\"gpu_hist\",\n",
    "#     predictor=gpu_predictor,\n",
    "    enable_categorical=True,\n",
    "    use_label_encoder=False\n",
    ")"
   ]
  },
  {
   "cell_type": "code",
   "execution_count": null,
   "id": "147b2433",
   "metadata": {},
   "outputs": [],
   "source": [
    "%%time\n",
    "xgb_cl.fit(\n",
    "    X_train,\n",
    "    y_train,\n",
    "    early_stopping_rounds=10,\n",
    "    eval_metric='aucpr',\n",
    "    eval_set=[(X_validation, y_validation)]\n",
    ")"
   ]
  },
  {
   "cell_type": "markdown",
   "id": "eb2aa8ef",
   "metadata": {},
   "source": [
    "## Using pandas dataframe"
   ]
  },
  {
   "cell_type": "code",
   "execution_count": null,
   "id": "dfe647da",
   "metadata": {},
   "outputs": [],
   "source": [
    "cupy.cuda.Device(3).use()"
   ]
  },
  {
   "cell_type": "code",
   "execution_count": null,
   "id": "ab324eda",
   "metadata": {},
   "outputs": [],
   "source": [
    "from cuml import train_test_split"
   ]
  },
  {
   "cell_type": "code",
   "execution_count": null,
   "id": "48aecf7b",
   "metadata": {},
   "outputs": [],
   "source": [
    "%%time\n",
    "# X and y\n",
    "X = cudf.DataFrame(df_clean.loc[:, [\n",
    "    'track_momentum',\n",
    "    'ring_radius',\n",
    "    'total_hits'\n",
    "    ]]\n",
    ")\n",
    "\n",
    "y = cudf.Series(\n",
    "    df_clean.loc[:,'labels']\n",
    ")\n",
    "\n",
    "# train test split\n",
    "X_train, X_validation, y_train, y_validation = train_test_split(\n",
    "    X, \n",
    "    y,\n",
    "    stratify=y, \n",
    "    test_size=0.25,\n",
    "    random_state = 123\n",
    ")"
   ]
  },
  {
   "cell_type": "code",
   "execution_count": null,
   "id": "2b133ee4",
   "metadata": {},
   "outputs": [],
   "source": [
    "%%time\n",
    "X_train = X_train.to_numpy()\n",
    "X_validation = X_validation.to_numpy()\n",
    "y_train = y_train\n",
    "y_validation = y_train"
   ]
  },
  {
   "cell_type": "code",
   "execution_count": null,
   "id": "32042eb8",
   "metadata": {},
   "outputs": [],
   "source": [
    "from sklearn.model_selection import train_test_split"
   ]
  },
  {
   "cell_type": "code",
   "execution_count": null,
   "id": "99eec232",
   "metadata": {},
   "outputs": [],
   "source": [
    "%%time\n",
    "# Training and validation split\n",
    "X_train, X_test, y_train, y_test = train_test_split(\n",
    "    X, y,\n",
    "    stratify=y, \n",
    "    test_size=0.25\n",
    ")"
   ]
  },
  {
   "cell_type": "code",
   "execution_count": null,
   "id": "63ca0208",
   "metadata": {},
   "outputs": [],
   "source": []
  },
  {
   "cell_type": "code",
   "execution_count": null,
   "id": "b2ff16d4",
   "metadata": {},
   "outputs": [],
   "source": []
  },
  {
   "cell_type": "code",
   "execution_count": null,
   "id": "3230adb3",
   "metadata": {},
   "outputs": [],
   "source": []
  },
  {
   "cell_type": "markdown",
   "id": "275c02db",
   "metadata": {},
   "source": [
    "## Test Results\n",
    "dataset: 8594 (patched)"
   ]
  },
  {
   "cell_type": "code",
   "execution_count": null,
   "id": "b828620a",
   "metadata": {},
   "outputs": [],
   "source": [
    "# Loading\n",
    "dset_path_test = \"../Run008594.EOSlist.CTRL.p.v2.0.4-01_f.v2.0.4-01_patched.h5\"\n",
    "dset_test = RICHDataset(\n",
    "    dset_path\n",
    ")"
   ]
  }
 ],
 "metadata": {
  "celltoolbar": "Slideshow",
  "kernelspec": {
   "display_name": "Python 3 (ipykernel)",
   "language": "python",
   "name": "python3"
  },
  "language_info": {
   "codemirror_mode": {
    "name": "ipython",
    "version": 3
   },
   "file_extension": ".py",
   "mimetype": "text/x-python",
   "name": "python",
   "nbconvert_exporter": "python",
   "pygments_lexer": "ipython3",
   "version": "3.8.12"
  }
 },
 "nbformat": 4,
 "nbformat_minor": 5
}
